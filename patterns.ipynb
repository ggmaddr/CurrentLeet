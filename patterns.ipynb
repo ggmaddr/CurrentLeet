{
 "cells": [
  {
   "cell_type": "markdown",
   "metadata": {},
   "source": [
    "## Recursion TREE"
   ]
  },
  {
   "cell_type": "markdown",
   "metadata": {},
   "source": [
    "Pattern note:\n",
    "- Recognition:\n",
    "  1. (f(x) of n, where bigger n can be formed from smaller n)\n",
    " - Tree implies: going deep down one path to form one valid\n",
    " - Then be able to go back to the parent (or f(x) of n-1) to form another valid sibling, then keep up to form uncle.\n",
    " \n",
    " [Generate Parentheses - Stack - Leetcode 22](https://www.youtube.com/watch?v=s9fokUqJ76A&t=1s)\n",
    "\n",
    "<img src=\"assets/l22.png\" width=800px />"
   ]
  },
  {
   "cell_type": "markdown",
   "metadata": {},
   "source": [
    "## Maps"
   ]
  },
  {
   "cell_type": "code",
   "execution_count": null,
   "metadata": {
    "vscode": {
     "languageId": "plaintext"
    }
   },
   "outputs": [],
   "source": []
  },
  {
   "cell_type": "markdown",
   "metadata": {},
   "source": []
  }
 ],
 "metadata": {
  "language_info": {
   "name": "python"
  }
 },
 "nbformat": 4,
 "nbformat_minor": 2
}
