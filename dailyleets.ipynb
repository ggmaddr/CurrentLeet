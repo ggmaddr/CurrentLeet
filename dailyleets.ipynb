{
 "cells": [
  {
   "cell_type": "markdown",
   "metadata": {},
   "source": [
    "#### [1897. Redistribute Characters to Make All Strings Equal](https://leetcode.com/problems/redistribute-characters-to-make-all-strings-equal/?envType=daily-question&envId=2023-12-31)"
   ]
  },
  {
   "cell_type": "code",
   "execution_count": 6,
   "metadata": {},
   "outputs": [
    {
     "name": "stdout",
     "output_type": "stream",
     "text": [
      "3\n",
      "3\n",
      "3\n"
     ]
    },
    {
     "data": {
      "text/plain": [
       "True"
      ]
     },
     "execution_count": 6,
     "metadata": {},
     "output_type": "execute_result"
    }
   ],
   "source": [
    "def makeEqual(words: list[str]) -> bool:\n",
    "    #any operations to make words in each string equal \n",
    "    # -> count of each char each string equal -> count of each char divisible by len(words)\n",
    "    s = \"\".join(words)\n",
    "    ss = set(s)\n",
    "    for i in ss:\n",
    "        print(s.count(i))\n",
    "        if s.count(i) % len(words) != 0:  \n",
    "            return False\n",
    "    return True\n",
    "    \n",
    "words = [\"abc\",\"aabc\",\"bc\"]\n",
    "makeEqual(words)        "
   ]
  },
  {
   "cell_type": "markdown",
   "metadata": {},
   "source": [
    "#### [1624. Largest Substring Between Two Equal Characters](https://leetcode.com/problems/largest-substring-between-two-equal-characters/description/?envType=daily-question&envId=2023-12-31)"
   ]
  },
  {
   "cell_type": "code",
   "execution_count": 23,
   "metadata": {},
   "outputs": [
    {
     "name": "stdout",
     "output_type": "stream",
     "text": [
      "CPU times: user 127 µs, sys: 1 µs, total: 128 µs\n",
      "Wall time: 130 µs\n"
     ]
    },
    {
     "data": {
      "text/plain": [
       "253"
      ]
     },
     "execution_count": 23,
     "metadata": {},
     "output_type": "execute_result"
    }
   ],
   "source": [
    "%%time\n",
    "def maxLengthBetweenEqualCharacters(s: str) -> int:\n",
    "    mlist = [[-1,-1] for i in range(26)]\n",
    "    for i in range(len(s)):\n",
    "        char = s[i]\n",
    "        # left position\n",
    "        if mlist[ord(char)-97][0] == -1:\n",
    "            mlist[ord(char)-97][0] = i\n",
    "        #right (max) position \n",
    "        else:\n",
    "            mlist[ord(char)-97][1] = max(i, mlist[ord(char)-97][1])\n",
    "    mx = -1\n",
    "    for i in range(len(mlist)):\n",
    "        mx = max(mx, mlist[i][1]-abs(mlist[i][0]))\n",
    "    return mx-1\n",
    "\n",
    "s =\"hkgrpqvtregifwptpnbjsbvcyjrwkmmqdmbrekcqkpjrhywolfyadokmcbkdvhqdxsmcnkihljvrovnfrjwbvrnbmxbqtaacndywhyfopndezgtjzwslfkrivbtyjrdolerojsbzgvjkpggmuknbcxsaknsikhyajchmihizlxrbkhdlssosuktgcoodaqpahltzavujnothdlipvemmfnkcghtueikczkahgwdcixtypxkdtvqnjajhstwmduggsrj\"\n",
    "maxLengthBetweenEqualCharacters(s)\n"
   ]
  },
  {
   "cell_type": "markdown",
   "metadata": {},
   "source": [
    "#### [2405. Optimal Partition of String](https://leetcode.com/problems/optimal-partition-of-string/?envType=study-plan-v2&envId=amazon-spring-23-high-frequency)"
   ]
  },
  {
   "cell_type": "code",
   "execution_count": 130,
   "metadata": {},
   "outputs": [
    {
     "name": "stdout",
     "output_type": "stream",
     "text": [
      "CPU times: user 71 µs, sys: 1 µs, total: 72 µs\n",
      "Wall time: 74.9 µs\n"
     ]
    },
    {
     "data": {
      "text/plain": [
       "28"
      ]
     },
     "execution_count": 130,
     "metadata": {},
     "output_type": "execute_result"
    }
   ],
   "source": [
    "%%time\n",
    "class Solution:\n",
    "    def partitionString(self, s: str) -> int:\n",
    "        out = 1\n",
    "        cur = set()\n",
    "        for c in s:\n",
    "            #if in cur, partition it\n",
    "            if c in cur:\n",
    "                cur.clear()\n",
    "                out+=1\n",
    "            cur.add(c)\n",
    "        return out\n",
    "s = \"abacababcdfecdfeadasfcgddegsfdbbdfabacababcdfecdfeadasfcgddegsfdbbdfabacababcdfecdfeadasfcgddegsfdbbdf\"\n",
    "Solution1.partitionString(Solution1, s)"
   ]
  },
  {
   "cell_type": "markdown",
   "metadata": {},
   "source": [
    "#### [Assign cookies](https://leetcode.com/problems/assign-cookies/)"
   ]
  },
  {
   "cell_type": "code",
   "execution_count": 141,
   "metadata": {},
   "outputs": [
    {
     "name": "stdout",
     "output_type": "stream",
     "text": [
      "[2, 16, 32, 34, 34, 41, 45, 51, 56, 57, 73, 81, 95, 96, 98, 102, 104, 106, 106, 108, 113, 118, 119, 120, 131, 134, 142, 143, 145, 145, 158, 160, 174, 205, 206, 209, 214, 216, 218, 219, 220, 231, 234, 253, 262, 268, 271, 271, 275, 279, 281, 284, 304, 312, 322, 323, 324, 343, 344, 345, 346, 355, 364, 366, 368, 370, 373, 375, 377, 379, 385, 406, 406, 416, 422, 425, 431, 433, 437, 438, 439, 442, 444, 446, 446, 450, 461, 461, 463, 466, 466, 479, 481, 482, 484, 491, 496, 514, 515]\n",
      "[2, 3, 4, 6, 6, 7, 10, 13, 18, 21, 23, 23, 23, 27, 30, 30, 33, 36, 39, 39, 40, 43, 45, 46, 56, 58, 59, 63, 63, 66, 68, 69, 71, 72, 76, 76, 77, 77, 78, 79, 82, 84, 84, 85, 91, 91, 95, 95, 95, 104, 106, 106, 112, 113, 119, 126, 130, 130, 131, 140, 142, 142, 143, 147, 149, 151, 151, 151, 155, 155, 159, 159, 162, 163, 164, 169, 170, 171, 171, 173, 178, 179, 185, 194, 198, 198, 199, 202, 221, 226, 232, 233, 238, 241, 243, 244, 245, 249, 251, 251, 251, 251, 254, 256, 262, 274, 276, 276, 276, 283, 283, 284, 285, 289, 291, 292, 293, 293, 295, 295, 296, 297, 300, 307, 309, 310, 311, 312, 315, 319, 321, 324, 325, 329, 330, 330, 330, 333, 334, 334, 334, 337, 337, 339, 343, 345, 347, 348, 349, 352, 353, 354, 354, 356, 358, 358, 360, 361, 366, 368, 370, 373, 376, 377, 380, 382, 383, 388, 396, 399, 399, 400, 400, 401, 403, 406, 414, 416, 416, 417, 417, 418, 418, 419, 420, 422, 424, 425, 427, 428, 428, 429, 430, 430, 436, 437, 438, 440, 440, 444, 445, 446, 446, 447, 447, 451, 458, 461, 466, 466, 469, 479, 479, 481, 483, 485, 494, 495, 497, 499, 501, 505, 505, 507, 511, 511, 512, 513, 515, 516, 519, 519, 522, 522, 524, 524]\n"
     ]
    },
    {
     "data": {
      "text/plain": [
       "99"
      ]
     },
     "execution_count": 141,
     "metadata": {},
     "output_type": "execute_result"
    }
   ],
   "source": [
    "def findContentChildren(g: list[int], s: list[int]) -> int:\n",
    "    g.sort()\n",
    "    s.sort()\n",
    "    i,j = 0,0\n",
    "    out = 0\n",
    "    while i <len(g) and j< len(s):\n",
    "        if g[i] <= s[j]:\n",
    "            out+=1\n",
    "            i+=1\n",
    "            j+=1\n",
    "        elif g[i] > s[j]:\n",
    "            j+=1\n",
    "    return out\n",
    "g = [262,437,433,102,438,346,131,160,281,34,219,373,466,275,51,118,209,32,108,57,385,514,439,73,271,442,366,515,284,425,491,466,322,34,484,231,450,355,106,279,496,312,96,461,446,422,143,98,444,461,142,234,416,45,271,344,446,364,216,16,431,370,120,463,377,106,113,406,406,481,304,41,2,174,81,220,158,104,119,95,479,323,145,205,218,482,345,324,253,368,214,379,343,375,134,145,268,56,206]\n",
    "s = [149,79,388,251,417,82,233,377,95,309,418,400,501,349,348,400,461,495,104,330,155,483,334,436,512,232,511,40,343,334,307,56,164,276,399,337,59,440,3,458,417,291,354,419,516,4,370,106,469,254,274,163,345,513,130,292,330,198,142,95,18,295,126,131,339,171,347,199,244,428,383,43,315,353,91,289,466,178,425,112,420,85,159,360,241,300,295,285,310,76,69,297,155,416,333,416,226,262,63,445,77,151,368,406,171,13,198,30,446,142,329,245,505,238,352,113,485,296,337,507,91,437,366,511,414,46,78,399,283,106,202,494,380,479,522,479,438,21,130,293,422,440,71,321,446,358,39,447,427,6,33,429,324,76,396,444,519,159,45,403,243,251,373,251,23,140,7,356,194,499,276,251,311,10,147,30,276,430,151,519,36,354,162,451,524,312,447,77,170,428,23,283,249,466,39,58,424,68,481,2,173,179,382,334,430,84,151,293,95,522,358,505,63,524,143,119,325,401,6,361,284,418,169,256,221,330,23,72,185,376,515,84,319,27,66,497]\n",
    "\n",
    "findContentChildren(g,s)"
   ]
  },
  {
   "cell_type": "markdown",
   "metadata": {},
   "source": [
    "#### [2610. Convert an Array Into a 2D Array With Conditions](https://leetcode.com/problems/convert-an-array-into-a-2d-array-with-conditions/?envType=daily-question&envId=2024-01-02)"
   ]
  },
  {
   "cell_type": "markdown",
   "metadata": {},
   "source": [
    "Notes on constraints: \n",
    "- Elements of nums <= nums.length\n",
    "1 <= nums[i] <= nums.length\n",
    "\n",
    "-> Create a freq list that contains the freq of each e in nums\n"
   ]
  },
  {
   "cell_type": "code",
   "execution_count": 162,
   "metadata": {},
   "outputs": [
    {
     "data": {
      "text/plain": [
       "[[1, 3, 4, 2], [1, 3], [1]]"
      ]
     },
     "execution_count": 162,
     "metadata": {},
     "output_type": "execute_result"
    }
   ],
   "source": [
    "#optimal solution\n",
    "def findMatrix(nums: list[int]) -> list[list[int]]:\n",
    "    fre = [0]*(len(nums)+1)\n",
    "    ans = []\n",
    "    \n",
    "    for c in nums:\n",
    "        #Increase size ans when fre[c] == len(ans) because \n",
    "        # we will access ans[fre[c]]\n",
    "        if fre[c] == len(ans):\n",
    "            ans.append([])\n",
    "        ans[fre[c]].append(c)\n",
    "        fre[c] +=1\n",
    "    return ans\n",
    "\n",
    "nums = [1,3,4,1,2,3,1]\n",
    "#Counter({1: 3, 3: 2, 4: 1, 2: 1})\n",
    "findMatrix(nums)"
   ]
  },
  {
   "cell_type": "code",
   "execution_count": 170,
   "metadata": {},
   "outputs": [
    {
     "data": {
      "text/plain": [
       "[[1, 3, 4, 2], [1, 3], [1]]"
      ]
     },
     "execution_count": 170,
     "metadata": {},
     "output_type": "execute_result"
    }
   ],
   "source": [
    "from collections import Counter\n",
    "def findMatrix(nums: list[int]) -> list[list[int]]:\n",
    "    c = Counter(nums)\n",
    "    res = []    \n",
    "    while c:\n",
    "        res.append(list(c))\n",
    "        #create a list of keys, which allows us to modify the dictionary during iteration.\n",
    "        for k in list(c.keys()):\n",
    "            c[k] -=1\n",
    "            if c[k] == 0:\n",
    "                del c[k]\n",
    "    return res\n",
    "        \n",
    "nums = [1,3,4,1,2,3,1]\n",
    "\n",
    "#Counter({1: 3, 3: 2, 4: 1, 2: 1})\n",
    "findMatrix(nums)"
   ]
  },
  {
   "cell_type": "markdown",
   "metadata": {},
   "source": [
    "#### [2870. Minimum Number of Operations to Make Array Empty](https://leetcode.com/problems/minimum-number-of-operations-to-make-array-empty/?envType=daily-question&envId=2024-01-04)"
   ]
  },
  {
   "cell_type": "markdown",
   "metadata": {},
   "source": [
    "- To minimize #ops -> maximize #deletes per op AND divisible.\n",
    "- Use Counter\n",
    "    - For num in nums:\n",
    "        - if c[num] % 3 == 0 -> out+= c[num]//3\n",
    "        - elf count[num] % 3 != 0: out += count[num] // 3+1\n",
    "            - Explain\n",
    "            - If a==2 -> out += count[num] // 3+1 (ops of del3 + 1 ops del 2)\n",
    "            - elif a == 1: \n",
    "                - (ops of del3) - 1 + 2(ops of del 2)\n",
    "                - out+= count[num] // 3 - 1 (1) + 2 = count[num] // 3+1"
   ]
  },
  {
   "cell_type": "code",
   "execution_count": 8,
   "metadata": {},
   "outputs": [
    {
     "data": {
      "text/plain": [
       "4"
      ]
     },
     "execution_count": 8,
     "metadata": {},
     "output_type": "execute_result"
    }
   ],
   "source": [
    "from collections import Counter \n",
    "def minOperations( nums: list[int]) -> int:\n",
    "    c = Counter(nums)\n",
    "    out = 0\n",
    "    for e in c:\n",
    "        if c[e] == 1:\n",
    "            return -1\n",
    "        if c[e] % 3 == 0:\n",
    "            out+= c[e] // 3 \n",
    "        else:\n",
    "            out+= c[e] // 3 +1\n",
    "    return out\n",
    "            \n",
    "nums = [2,3,3,2,2,4,2,3,4]\n",
    "minOperations(nums)"
   ]
  },
  {
   "cell_type": "markdown",
   "metadata": {},
   "source": [
    "Given a list of emails and URLs, return a dictionary, where each key is a URL and the value is how many emails have the\n",
    "same domain. Note that the domains begin with www. whereas the emails do not, and that emails with domains not in the\n",
    "list of urls should be ignored.\n",
    "\n",
    "count email domains(\n",
    "\n",
    "emails=[foo@a.com', \"bar@a.com', baz@b.com', 'qux@d.com'],\n",
    "urls=[www.a.com', 'www.b.com', 'www.c.com\",])\n",
    "\n"
   ]
  },
  {
   "cell_type": "code",
   "execution_count": 66,
   "metadata": {},
   "outputs": [
    {
     "name": "stdout",
     "output_type": "stream",
     "text": [
      "CPU times: user 57 µs, sys: 1e+03 ns, total: 58 µs\n",
      "Wall time: 60.8 µs\n"
     ]
    },
    {
     "data": {
      "text/plain": [
       "{'www.a.com': 2, 'www.b.com': 1, 'www.gmail.com': 1, 'www.c.com': 0}"
      ]
     },
     "execution_count": 66,
     "metadata": {},
     "output_type": "execute_result"
    }
   ],
   "source": [
    "%%time\n",
    "from collections import defaultdict\n",
    "\"\"\"_summary_\n",
    "Approach 1:\n",
    "1. Turn urls into a set to perform searching within urls later with O(1)\n",
    "\n",
    "2. For each email, if email's domain in urls: mdict[url] +=1\n",
    "\n",
    "3. Loop through urls to add the url keys with no email in emails to return dict.\n",
    "\n",
    "4. Return mdict\n",
    "\"\"\"\n",
    "\n",
    "def count_email_domains(emails: list, url: list)-> dict:\n",
    "    url = set(url)\n",
    "    #All values in defaultdict initialized at 0\n",
    "    mdict = defaultdict(lambda: 0)\n",
    "    for email in emails:\n",
    "        \n",
    "        aindex = email.index('@')\n",
    "        \n",
    "        s = \"www.\"+email[aindex+1:len(email)]\n",
    "        if s in url:\n",
    "            mdict[s] += 1\n",
    "    for u in url:\n",
    "        if u not in mdict:\n",
    "            mdict[u] = 0\n",
    "    return dict(mdict)\n",
    "\n",
    "emails=[\"foo@a.com\", \"bar@a.com\",\"baz@b.com\", \"qux@d.com\",\"htb@gmail.com\",\"lala@mail.com\"]\n",
    "        \n",
    "urls=[\"www.a.com\", \"www.b.com\", \"www.c.com\",\"www.gmail.com\"]\n",
    "count_email_domains(emails, urls)\n",
    "    "
   ]
  },
  {
   "cell_type": "code",
   "execution_count": 3,
   "metadata": {},
   "outputs": [
    {
     "data": {
      "text/plain": [
       "defaultdict(int, {'0': 1, '8': 2, '3': 1, '6': 1, '4': 1, '7': 1})"
      ]
     },
     "execution_count": 3,
     "metadata": {},
     "output_type": "execute_result"
    }
   ],
   "source": [
    "from collections import defaultdict\n",
    "def countmin(s, arr):\n",
    "    res = [0 for _ in range(len(arr))]\n",
    "    countmap = defaultdict(int)\n",
    "\n",
    "    for element in arr:\n",
    "        element_count = defaultdict(int)\n",
    "\n",
    "        for digit in element:\n",
    "            element_count[digit] += 1\n",
    "\n",
    "        for digit, count in element_count.items():\n",
    "            countmap[digit] = max(countmap[digit], count)\n",
    "\n",
    "    \n",
    "    for i in range(len(s)):\n",
    "        countmap[]\n",
    "        \n",
    "s = \"111222333444\"\n",
    "arr =[ \"121\", \"3\", \"12345\", \"11234\"]\n",
    "s= \"064819848398\"\n",
    "arr = [\"088\", \"364\", \"07\", \"087\"]\n",
    "countmin(s,arr)"
   ]
  },
  {
   "cell_type": "code",
   "execution_count": 12,
   "metadata": {},
   "outputs": [
    {
     "name": "stdout",
     "output_type": "stream",
     "text": [
      "maxX  81\n",
      "0 650.6666666666666\n",
      "1 642.6666666666666\n",
      "2 634.6666666666666\n",
      "3 626.6666666666666\n",
      "4 618.6666666666666\n",
      "5 610.6666666666666\n",
      "6 602.6666666666666\n",
      "7 594.6666666666666\n",
      "8 586.6666666666666\n",
      "9 578.6666666666666\n",
      "10 570.6666666666666\n",
      "11 562.6666666666666\n",
      "12 554.6666666666666\n",
      "13 546.6666666666666\n",
      "14 538.6666666666666\n",
      "15 530.6666666666666\n",
      "16 522.6666666666666\n",
      "17 514.6666666666666\n",
      "18 506.6666666666667\n",
      "19 498.6666666666667\n",
      "20 490.6666666666667\n",
      "21 482.6666666666667\n",
      "22 474.6666666666667\n",
      "23 466.6666666666667\n",
      "24 458.6666666666667\n",
      "25 450.6666666666667\n",
      "26 442.6666666666667\n",
      "27 434.6666666666667\n",
      "28 426.6666666666667\n",
      "29 418.6666666666667\n",
      "30 410.6666666666667\n",
      "31 402.6666666666667\n",
      "32 394.6666666666667\n",
      "33 386.6666666666667\n",
      "34 378.6666666666667\n",
      "35 370.6666666666667\n",
      "36 362.6666666666667\n",
      "37 354.6666666666667\n",
      "38 346.6666666666667\n",
      "39 338.6666666666667\n",
      "40 330.6666666666667\n",
      "41 322.6666666666667\n",
      "42 314.6666666666667\n",
      "43 306.6666666666667\n",
      "44 298.6666666666667\n",
      "45 290.6666666666667\n",
      "46 282.6666666666667\n",
      "47 274.6666666666667\n",
      "48 266.6666666666667\n",
      "49 258.6666666666667\n",
      "50 250.66666666666666\n",
      "51 242.66666666666666\n",
      "52 234.66666666666666\n",
      "53 226.66666666666666\n",
      "54 218.66666666666666\n",
      "55 210.66666666666666\n",
      "56 202.66666666666666\n",
      "57 194.66666666666666\n",
      "58 186.66666666666666\n",
      "59 178.66666666666666\n",
      "60 170.66666666666666\n",
      "61 162.66666666666666\n",
      "62 154.66666666666666\n",
      "63 146.66666666666666\n",
      "64 138.66666666666666\n",
      "65 130.66666666666666\n",
      "66 122.66666666666667\n",
      "67 114.66666666666667\n",
      "68 106.66666666666667\n",
      "69 98.66666666666667\n",
      "70 90.66666666666667\n",
      "71 82.66666666666667\n",
      "72 74.66666666666667\n",
      "73 66.66666666666667\n",
      "74 58.666666666666664\n",
      "75 50.666666666666664\n",
      "76 42.666666666666664\n",
      "77 34.666666666666664\n",
      "78 26.666666666666668\n",
      "79 18.666666666666668\n",
      "80 10.666666666666666\n",
      "81 2.6666666666666665\n"
     ]
    },
    {
     "data": {
      "text/plain": [
       "[]"
      ]
     },
     "execution_count": 12,
     "metadata": {},
     "output_type": "execute_result"
    }
   ],
   "source": [
    "def getChessWinLose(num):\n",
    "    y=0\n",
    "    # find all x,y so that 48x + 6y = num\n",
    "    maxX = num//48\n",
    "    print(\"maxX \", maxX)\n",
    "    result = []\n",
    "    for x in range(0, maxX+1):\n",
    "        print(x,(num - 48*x)/6)\n",
    "        if (num - 48*x)%6==0:\n",
    "            result.append((x,(num - 48*x)//6))\n",
    "    return result\n",
    "\n",
    "getChessWinLose(3904)"
   ]
  },
  {
   "cell_type": "code",
   "execution_count": null,
   "metadata": {},
   "outputs": [],
   "source": []
  }
 ],
 "metadata": {
  "kernelspec": {
   "display_name": "base",
   "language": "python",
   "name": "python3"
  },
  "language_info": {
   "codemirror_mode": {
    "name": "ipython",
    "version": 3
   },
   "file_extension": ".py",
   "mimetype": "text/x-python",
   "name": "python",
   "nbconvert_exporter": "python",
   "pygments_lexer": "ipython3",
   "version": "3.11.8"
  }
 },
 "nbformat": 4,
 "nbformat_minor": 2
}
