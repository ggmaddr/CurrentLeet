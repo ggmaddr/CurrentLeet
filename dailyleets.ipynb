{
 "cells": [
  {
   "cell_type": "markdown",
   "metadata": {},
   "source": [
    "#### [1897. Redistribute Characters to Make All Strings Equal](https://leetcode.com/problems/redistribute-characters-to-make-all-strings-equal/?envType=daily-question&envId=2023-12-31)"
   ]
  },
  {
   "cell_type": "code",
   "execution_count": 6,
   "metadata": {},
   "outputs": [
    {
     "name": "stdout",
     "output_type": "stream",
     "text": [
      "3\n",
      "3\n",
      "3\n"
     ]
    },
    {
     "data": {
      "text/plain": [
       "True"
      ]
     },
     "execution_count": 6,
     "metadata": {},
     "output_type": "execute_result"
    }
   ],
   "source": [
    "def makeEqual(words: list[str]) -> bool:\n",
    "    #any operations to make words in each string equal \n",
    "    # -> count of each char each string equal -> count of each char divisible by len(words)\n",
    "    s = \"\".join(words)\n",
    "    ss = set(s)\n",
    "    for i in ss:\n",
    "        print(s.count(i))\n",
    "        if s.count(i) % len(words) != 0:  \n",
    "            return False\n",
    "    return True\n",
    "    \n",
    "words = [\"abc\",\"aabc\",\"bc\"]\n",
    "makeEqual(words)        "
   ]
  },
  {
   "cell_type": "markdown",
   "metadata": {},
   "source": [
    "#### [1624. Largest Substring Between Two Equal Characters](https://leetcode.com/problems/largest-substring-between-two-equal-characters/description/?envType=daily-question&envId=2023-12-31)"
   ]
  },
  {
   "cell_type": "code",
   "execution_count": 23,
   "metadata": {},
   "outputs": [
    {
     "name": "stdout",
     "output_type": "stream",
     "text": [
      "CPU times: user 127 µs, sys: 1 µs, total: 128 µs\n",
      "Wall time: 130 µs\n"
     ]
    },
    {
     "data": {
      "text/plain": [
       "253"
      ]
     },
     "execution_count": 23,
     "metadata": {},
     "output_type": "execute_result"
    }
   ],
   "source": [
    "%%time\n",
    "def maxLengthBetweenEqualCharacters(s: str) -> int:\n",
    "    mlist = [[-1,-1] for i in range(26)]\n",
    "    for i in range(len(s)):\n",
    "        char = s[i]\n",
    "        # left position\n",
    "        if mlist[ord(char)-97][0] == -1:\n",
    "            mlist[ord(char)-97][0] = i\n",
    "        #right (max) position \n",
    "        else:\n",
    "            mlist[ord(char)-97][1] = max(i, mlist[ord(char)-97][1])\n",
    "    mx = -1\n",
    "    for i in range(len(mlist)):\n",
    "        mx = max(mx, mlist[i][1]-abs(mlist[i][0]))\n",
    "    return mx-1\n",
    "\n",
    "s =\"hkgrpqvtregifwptpnbjsbvcyjrwkmmqdmbrekcqkpjrhywolfyadokmcbkdvhqdxsmcnkihljvrovnfrjwbvrnbmxbqtaacndywhyfopndezgtjzwslfkrivbtyjrdolerojsbzgvjkpggmuknbcxsaknsikhyajchmihizlxrbkhdlssosuktgcoodaqpahltzavujnothdlipvemmfnkcghtueikczkahgwdcixtypxkdtvqnjajhstwmduggsrj\"\n",
    "maxLengthBetweenEqualCharacters(s)\n"
   ]
  },
  {
   "cell_type": "markdown",
   "metadata": {},
   "source": [
    "#### [2405. Optimal Partition of String](https://leetcode.com/problems/optimal-partition-of-string/?envType=study-plan-v2&envId=amazon-spring-23-high-frequency)"
   ]
  },
  {
   "cell_type": "code",
   "execution_count": 130,
   "metadata": {},
   "outputs": [
    {
     "name": "stdout",
     "output_type": "stream",
     "text": [
      "CPU times: user 71 µs, sys: 1 µs, total: 72 µs\n",
      "Wall time: 74.9 µs\n"
     ]
    },
    {
     "data": {
      "text/plain": [
       "28"
      ]
     },
     "execution_count": 130,
     "metadata": {},
     "output_type": "execute_result"
    }
   ],
   "source": [
    "%%time\n",
    "class Solution:\n",
    "    def partitionString(self, s: str) -> int:\n",
    "        out = 1\n",
    "        cur = set()\n",
    "        for c in s:\n",
    "            #if in cur, partition it\n",
    "            if c in cur:\n",
    "                cur.clear()\n",
    "                out+=1\n",
    "            cur.add(c)\n",
    "        return out\n",
    "s = \"abacababcdfecdfeadasfcgddegsfdbbdfabacababcdfecdfeadasfcgddegsfdbbdfabacababcdfecdfeadasfcgddegsfdbbdf\"\n",
    "Solution1.partitionString(Solution1, s)"
   ]
  }
 ],
 "metadata": {
  "kernelspec": {
   "display_name": "base",
   "language": "python",
   "name": "python3"
  },
  "language_info": {
   "codemirror_mode": {
    "name": "ipython",
    "version": 3
   },
   "file_extension": ".py",
   "mimetype": "text/x-python",
   "name": "python",
   "nbconvert_exporter": "python",
   "pygments_lexer": "ipython3",
   "version": "3.11.3"
  }
 },
 "nbformat": 4,
 "nbformat_minor": 2
}
