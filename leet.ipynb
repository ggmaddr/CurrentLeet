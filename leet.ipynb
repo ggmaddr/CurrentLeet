{
 "cells": [
  {
   "cell_type": "markdown",
   "metadata": {},
   "source": [
    "## Arrays & Hashing"
   ]
  },
  {
   "cell_type": "markdown",
   "metadata": {},
   "source": [
    "### Medium"
   ]
  },
  {
   "cell_type": "markdown",
   "metadata": {},
   "source": [
    "[36. Valid Sudoku](https://leetcode.com/problems/valid-sudoku/)"
   ]
  },
  {
   "cell_type": "code",
   "execution_count": 54,
   "metadata": {},
   "outputs": [],
   "source": [
    "from collections import defaultdict \n",
    "#36. Valid Sudoku\n",
    "def isValidSudoku(board: list[list[str]]) -> bool:\n",
    "    #Idea: check if each small square belongs to coordinated-associated rows, cols, and sqr \n",
    "    #Implement: create hashset (dict of sets) as cols, rows and sqr\n",
    "    #each row, col, sqr is a set\n",
    "    #Form of each dict(set): e.g: rows = {0: {set}, 1:{set},...}\n",
    "    cols = defaultdict(set) \n",
    "    rows = defaultdict(set)\n",
    "    sqr = defaultdict(set)\n",
    "\n",
    "    for r in range(9):\n",
    "            for c in range(9):\n",
    "                if board[r][c] == \".\":\n",
    "                    continue\n",
    "                if (\n",
    "                    board[r][c] in rows[r]\n",
    "                    or board[r][c] in cols[c]\n",
    "                    or board[r][c] in sqr[(r // 3, c // 3)]\n",
    "                ):\n",
    "                    return False\n",
    "                cols[c].add(board[r][c])\n",
    "                rows[r].add(board[r][c])\n",
    "                sqr[(r // 3, c // 3)].add(board[r][c])\n",
    "\n",
    "    return True"
   ]
  },
  {
   "cell_type": "markdown",
   "metadata": {},
   "source": [
    "[238. Product of Array Except Self - Pre and pos as arrays](https://leetcode.com/problems/product-of-array-except-self/submissions/1089034138/)"
   ]
  },
  {
   "cell_type": "code",
   "execution_count": 55,
   "metadata": {},
   "outputs": [
    {
     "name": "stdout",
     "output_type": "stream",
     "text": [
      "[1, 2, 6, 24] [24, 24, 12, 4] [24, 12, 8, 6]\n"
     ]
    },
    {
     "data": {
      "text/plain": [
       "[24, 12, 8, 6]"
      ]
     },
     "execution_count": 55,
     "metadata": {},
     "output_type": "execute_result"
    }
   ],
   "source": [
    "def productExceptSelf(nums: list[int]) -> list[int]:\n",
    "    #Create 2 arrays: prefix product and postfix product.\n",
    "    #Output[i] = prefix[i-1] * postfix [i+1]\n",
    "    #Time: O(n), Space: O(3n)\n",
    "    l = len(nums)\n",
    "    pre, pos= [nums[0]]*l, [nums[l-1]]*l\n",
    "    j = l - 2\n",
    "    for i in range(1, l):\n",
    "        pre[i] = pre[i-1] * nums[i]\n",
    "        pos[j] = pos[j+1] * nums[j]\n",
    "        j-=1\n",
    "    #init first and last in output\n",
    "    out = [pos[1]]*l\n",
    "    out[l-1] = pre[l-2]\n",
    "\n",
    "    for i in range(1,l-1):\n",
    "        out[i] = pre[i-1]*pos[i+1]\n",
    "\n",
    "    print(pre, pos, out)\n",
    "    return out\n",
    "\n",
    "nums = [1,2,3,4]\n",
    "productExceptSelf(nums)"
   ]
  },
  {
   "cell_type": "markdown",
   "metadata": {},
   "source": [
    "[238. Product of Array Except Self (2) - Only pos var](https://leetcode.com/problems/product-of-array-except-self/submissions/1089079628/)"
   ]
  },
  {
   "cell_type": "code",
   "execution_count": 56,
   "metadata": {},
   "outputs": [],
   "source": [
    "def productExceptSelf(nums: list[int]) -> list[int]:\n",
    "    #Create an preArr stores prefix product up to + (exclude) nums[i]\n",
    "    #Loop from the end of preArr: at each preArr[i], multiply by current postfix product var\n",
    "\n",
    "    #Time: O(n), Space: O(n)\n",
    "    l = len(nums)\n",
    "    out = [1] * l\n",
    "    \n",
    "    #Create an arr stores prefix product up to nums[i] + (exclude) nums[i]\n",
    "    for i in range(1, l):\n",
    "        out[i] = out[i-1] * nums[i-1]\n",
    "    #init first and last in output\n",
    "    pos = nums[l-1]\n",
    "    for i in range(l-2, -1, -1):\n",
    "        out[i] = out[i] * pos  #upto prefix * upto postfix \n",
    "        pos *= nums[i]\n",
    "\n",
    "    print(out)\n",
    "    return out"
   ]
  },
  {
   "cell_type": "markdown",
   "metadata": {},
   "source": [
    "[128. Longest Consecutive Sequence. Original](https://leetcode.com/problems/longest-consecutive-sequence/)"
   ]
  },
  {
   "cell_type": "code",
   "execution_count": 57,
   "metadata": {},
   "outputs": [],
   "source": [
    "def longestConsecutive(nums: list[int]) -> int:\n",
    "    #Sort and count the highest\n",
    "    nums.sort()\n",
    "    if len(nums) == 0:\n",
    "        return 0\n",
    "    max = 1\n",
    "    temp = 1\n",
    "    for i in range(1, len(nums)):\n",
    "        if nums[i] == nums[i-1]+1: \n",
    "            temp+=1\n",
    "        elif nums[i] == nums[i-1]:\n",
    "            continue\n",
    "        else:\n",
    "            temp = 1 #reset\n",
    "        if temp > max:\n",
    "            max = temp\n",
    "    print(max)\n",
    "    return max"
   ]
  },
  {
   "cell_type": "markdown",
   "metadata": {},
   "source": [
    "[347. Top K Frequent Elements ](https://leetcode.com/problems/top-k-frequent-elements/submissions/)"
   ]
  },
  {
   "cell_type": "markdown",
   "metadata": {},
   "source": [
    "Bucket sort - Space: Linear, Time: Linear"
   ]
  },
  {
   "cell_type": "code",
   "execution_count": 58,
   "metadata": {},
   "outputs": [],
   "source": [
    "def topKFrequent(nums: list[int], k: int) -> list[int]:\n",
    "#bucket sort: create an array where index is the freqs, value is list of nums associating with the freqs\n",
    "# Space: O(N). Size of bucket always <= len(nums) because max freq of any num is len(nums).\n",
    "    count = {} # count dict\n",
    "    \n",
    "    buckets = [[] for i in range (len(nums)+1)] #freqs start from 1 to including len(nums)\n",
    "    \n",
    "    print(buckets)\n",
    "    #manually count instead of collections.Counter(nums)\n",
    "    for n in nums:\n",
    "        count[n] = 1 + count.get(n, 0) #count.get(n, 0) means count[n] = 0 if n has not exist in dict\n",
    "    \n",
    "    #bucket's index is the freqs, value is list of nums associating with the freqs\n",
    "    for num,freq in count.items():\n",
    "        \n",
    "        buckets[freq].append(num)\n",
    "    res = []\n",
    "    for i in range(len(buckets)-1, 0, -1): #start from last index\n",
    "        if len(buckets[i]) == 0:\n",
    "            continue\n",
    "        for num in buckets[i]:\n",
    "            res.append(num)\n",
    "            if len(res) == k:\n",
    "                return res\n",
    "    return res"
   ]
  },
  {
   "cell_type": "markdown",
   "metadata": {},
   "source": [
    "Heap - O(KlogN)"
   ]
  },
  {
   "cell_type": "code",
   "execution_count": 59,
   "metadata": {},
   "outputs": [],
   "source": [
    "def topKFrequent(nums: list[int], k: int) -> list[int]:\n",
    "    count = Counter(nums)\n",
    "    #create a list of tuples (fre, num) for heapifying (we maintain heap by values)\n",
    "    heap = [(fre, num) for (num, fre) in count.items() ]\n",
    "    \n",
    "    heapq._heapify_max(heap)\n",
    "    print(heap)\n",
    "\n",
    "    mlist = []\n",
    "    for i in range(k):\n",
    "        mlist.append(heapq._heappop_max(heap)[1]) #get the num (heap[1])\n",
    "    return mlist"
   ]
  },
  {
   "cell_type": "markdown",
   "metadata": {},
   "source": [
    "## Two Pointers"
   ]
  },
  {
   "cell_type": "markdown",
   "metadata": {},
   "source": [
    "### Medium"
   ]
  },
  {
   "cell_type": "markdown",
   "metadata": {},
   "source": [
    "[167. Two Sum II - Input Array Is Sorted](https://leetcode.com/problems/two-sum-ii-input-array-is-sorted/)"
   ]
  },
  {
   "cell_type": "code",
   "execution_count": 60,
   "metadata": {},
   "outputs": [],
   "source": [
    "def twoSum(numbers: list[int], target: int) -> list[int]:\n",
    "    #2 pointers: at start and at end. \n",
    "    # When sum(nums[i]+nums[j])> target -> decrement end p (decrease larger num in the sum)\n",
    "    #sum(nums[i]+nums[j]) < target -> increase start p \n",
    "    #Time: O(n), Space: O(1)\n",
    "\n",
    "    pre, pos = 0, len(numbers)-1\n",
    "    while pre < pos:\n",
    "        sum = numbers[pre]+numbers[pos]\n",
    "        if sum < target:\n",
    "            pre += 1\n",
    "        elif sum > target:\n",
    "            pos -= 1\n",
    "        else:\n",
    "            return [pre+1, pos+1]\n",
    "    return []"
   ]
  },
  {
   "cell_type": "markdown",
   "metadata": {},
   "source": [
    "[15. 3Sum](https://leetcode.com/problems/3sum/)"
   ]
  },
  {
   "cell_type": "code",
   "execution_count": 61,
   "metadata": {},
   "outputs": [
    {
     "data": {
      "text/plain": [
       "[[-2, 0, 2], [-2, 1, 1]]"
      ]
     },
     "metadata": {},
     "output_type": "display_data"
    },
    {
     "data": {
      "text/plain": [
       "[[-1, -1, 2], [-1, 0, 1]]"
      ]
     },
     "metadata": {},
     "output_type": "display_data"
    }
   ],
   "source": [
    "def threeSum(nums: list[int]) -> list[list[int]]:\n",
    "    nums.sort()\n",
    "    res = []\n",
    "\n",
    "    #i is pivot\n",
    "    for i in range(len(nums)):\n",
    "        #no repeated triplet\n",
    "        if i > 0 and nums[i] == nums[i-1]:\n",
    "            continue \n",
    "        #can't offset from positive pivot \n",
    "        if nums[i] > 0:\n",
    "            break\n",
    "        l, r = i+1, len(nums)-1\n",
    "        while l < r:\n",
    "            \n",
    "            sum = nums[i]+nums[l]+nums[r]\n",
    "            \n",
    "            if sum == 0:\n",
    "                res.append([nums[i],nums[l],nums[r]])\n",
    "                #only need to update 1 pointer\n",
    "                l+=1 \n",
    "                #no repeated triplet\n",
    "                while nums[l-1] == nums[l] and l<r :\n",
    "                    l+=1\n",
    "                \n",
    "            elif sum > 0:\n",
    "                r-=1\n",
    "            elif sum < 0:\n",
    "                l+=1\n",
    "        \n",
    "    return res\n",
    "nums = [-1,0,1,2,-1,-4]\n",
    "nums1= [-2,0,1,1,2]\n",
    "display(threeSum(nums1))\n",
    "display(threeSum(nums))"
   ]
  },
  {
   "cell_type": "markdown",
   "metadata": {},
   "source": [
    "## Stack"
   ]
  },
  {
   "cell_type": "markdown",
   "metadata": {},
   "source": [
    "### Easy"
   ]
  },
  {
   "cell_type": "markdown",
   "metadata": {},
   "source": [
    "[20. Valid Parentheses](https://leetcode.com/problems/valid-parentheses/)"
   ]
  },
  {
   "cell_type": "code",
   "execution_count": 62,
   "metadata": {},
   "outputs": [],
   "source": [
    "def isValid(s: str) -> bool:\n",
    "    brack = {'{':'}', '[':']', '(':')'}\n",
    "    stack = []\n",
    "    for i in range(len(s)):\n",
    "        if s[i] in brack.keys():\n",
    "            stack.append(s[i])\n",
    "        elif len(stack) != 0:\n",
    "            if s[i] != brack[stack[-1]]: #peek\n",
    "                return False\n",
    "            stack.pop()\n",
    "        # len(stack) == 0 + still have non-open char -> illegal close char\n",
    "        elif len(stack) == 0: \n",
    "            return False\n",
    "    if len(stack) != 0:\n",
    "        return False\n",
    "    return True"
   ]
  },
  {
   "cell_type": "markdown",
   "metadata": {},
   "source": [
    "### Medium"
   ]
  },
  {
   "cell_type": "markdown",
   "metadata": {},
   "source": [
    "[155. Min Stack](https://leetcode.com/problems/min-stack/)"
   ]
  },
  {
   "cell_type": "code",
   "execution_count": 63,
   "metadata": {},
   "outputs": [
    {
     "name": "stdout",
     "output_type": "stream",
     "text": [
      "Minimum element in the stack: 1\n"
     ]
    }
   ],
   "source": [
    "class MinStack:\n",
    "    #Create a another minstack next to normal stack that stores upto current min val\n",
    "    def __init__(self):\n",
    "        self.stack = []\n",
    "        self.minSt = []\n",
    "\n",
    "    def push(self, val: int) -> None:\n",
    "        self.stack.append(val)\n",
    "        #temp min\n",
    "        # Only consider minSt[-1] if minSt not EMPTY\n",
    "        self.minSt.append(min(val, self.minSt[-1] if self.minSt else val))\n",
    "\n",
    "\n",
    "    def pop(self) -> None:\n",
    "        #pop minSt always true because it pop the same as stack IF stack[i] is the min value at its temp time.\n",
    "        #else, it pop the temporary min\n",
    "        self.minSt.pop()\n",
    "        self.stack.pop()\n",
    "\n",
    "    def top(self) -> int:\n",
    "        return self.stack[-1]\n",
    "\n",
    "    def getMin(self) -> int:\n",
    "        return self.minSt[-1]\n",
    "\n",
    "\n",
    "min_stack = MinStack()\n",
    "\n",
    "# Push elements onto the stack\n",
    "min_stack.push(3)\n",
    "min_stack.push(1)\n",
    "\n",
    "# Get the current minimum element\n",
    "min_element = min_stack.getMin()\n",
    "print(f\"Minimum element in the stack: {min_element}\")  # Output: Minimum element in the stack: 1"
   ]
  },
  {
   "cell_type": "markdown",
   "metadata": {},
   "source": [
    "[150. Evaluate Reverse Polish Notation](https://leetcode.com/problems/evaluate-reverse-polish-notation/)"
   ]
  },
  {
   "cell_type": "markdown",
   "metadata": {},
   "source": [
    "This is postfix travel, utilize stack. Pop nums when encounter sign. Then push the result back to stack"
   ]
  },
  {
   "cell_type": "code",
   "execution_count": 64,
   "metadata": {},
   "outputs": [
    {
     "data": {
      "text/plain": [
       "6"
      ]
     },
     "execution_count": 64,
     "metadata": {},
     "output_type": "execute_result"
    }
   ],
   "source": [
    "import math\n",
    "def evalRPN(tokens: list[str]) -> int:\n",
    "    st = []\n",
    "    res = 0\n",
    "    for i in tokens:\n",
    "        ch = i\n",
    "        if ch == '+':\n",
    "            res = st.pop() + st.pop()\n",
    "        elif ch == '-':\n",
    "            #later digit on top, pop first\n",
    "            b,a = st.pop(), st.pop()\n",
    "            res = a - b\n",
    "        elif ch == '*':\n",
    "            res = st.pop() * st.pop()\n",
    "        elif ch == '/':\n",
    "            #cast to int\n",
    "            #e.g: -0.5 = 0, 8.9=8\n",
    "            b,a = st.pop(), st.pop()\n",
    "            res = int(a/b)\n",
    "        else: #if num\n",
    "            res = int(i)\n",
    "        st.append(res)\n",
    "    return st.pop()\n",
    "tokens = [\"4\",\"13\",\"5\",\"/\",\"+\"]\n",
    "evalRPN(tokens)\n",
    "\n"
   ]
  },
  {
   "cell_type": "markdown",
   "metadata": {},
   "source": [
    "[22. Generate Parentheses](https://leetcode.com/problems/generate-parentheses/)"
   ]
  },
  {
   "cell_type": "markdown",
   "metadata": {},
   "source": [
    "[Generate Parentheses - Stack - Leetcode 22](https://www.youtube.com/watch?v=s9fokUqJ76A&t=1s)\n",
    "\n",
    "<img src=\"assets/l22.png\" width=800px />"
   ]
  },
  {
   "cell_type": "code",
   "execution_count": 1,
   "metadata": {},
   "outputs": [
    {
     "data": {
      "text/plain": [
       "['((()))', '(()())', '(())()', '()(())', '()()()']"
      ]
     },
     "execution_count": 1,
     "metadata": {},
     "output_type": "execute_result"
    }
   ],
   "source": [
    "def generateParenthesis(n: int) -> list[str]:\n",
    "    out = []\n",
    "    comb = [] #each combination\n",
    "    #Learned recursion TREE with # of o and c parentheses from 0 to n\n",
    "    #add ( when open < n, add ) when close < open\n",
    "    \n",
    "    def backtrack(ocount, ccount):\n",
    "        #base case\n",
    "        if ocount == n and ccount == n:\n",
    "            out.append(\"\".join(comb))\n",
    "        \n",
    "        if ocount < n:\n",
    "            comb.append('(')\n",
    "            backtrack(ocount+1, ccount)\n",
    "            comb.pop()\n",
    "        if ccount < ocount: \n",
    "            comb.append(')')\n",
    "            backtrack(ocount, ccount+1)\n",
    "            comb.pop()\n",
    "\n",
    "    \n",
    "    backtrack(0,0)\n",
    "    return out\n",
    "n=3\n",
    "generateParenthesis(n)"
   ]
  },
  {
   "cell_type": "markdown",
   "metadata": {},
   "source": [
    "[739. Daily Temperatures](https://leetcode.com/problems/daily-temperatures/)"
   ]
  },
  {
   "cell_type": "code",
   "execution_count": 25,
   "metadata": {},
   "outputs": [
    {
     "ename": "KeyboardInterrupt",
     "evalue": "",
     "output_type": "error",
     "traceback": [
      "\u001b[0;31m---------------------------------------------------------------------------\u001b[0m",
      "\u001b[0;31mKeyboardInterrupt\u001b[0m                         Traceback (most recent call last)",
      "\u001b[1;32m/Users/giangta/Desktop/main/Algorithms/leet.ipynb Cell 36\u001b[0m line \u001b[0;36m2\n\u001b[1;32m     <a href='vscode-notebook-cell:/Users/giangta/Desktop/main/Algorithms/leet.ipynb#X51sZmlsZQ%3D%3D?line=20'>21</a>\u001b[0m     \u001b[39mreturn\u001b[39;00m out\n\u001b[1;32m     <a href='vscode-notebook-cell:/Users/giangta/Desktop/main/Algorithms/leet.ipynb#X51sZmlsZQ%3D%3D?line=22'>23</a>\u001b[0m temperatures \u001b[39m=\u001b[39m [\u001b[39m73\u001b[39m,\u001b[39m74\u001b[39m,\u001b[39m75\u001b[39m,\u001b[39m71\u001b[39m,\u001b[39m69\u001b[39m,\u001b[39m72\u001b[39m,\u001b[39m76\u001b[39m,\u001b[39m73\u001b[39m]\n\u001b[0;32m---> <a href='vscode-notebook-cell:/Users/giangta/Desktop/main/Algorithms/leet.ipynb#X51sZmlsZQ%3D%3D?line=23'>24</a>\u001b[0m \u001b[39mprint\u001b[39m(dailyTemperatures(temperatures))\n",
      "\u001b[1;32m/Users/giangta/Desktop/main/Algorithms/leet.ipynb Cell 36\u001b[0m line \u001b[0;36m1\n\u001b[1;32m     <a href='vscode-notebook-cell:/Users/giangta/Desktop/main/Algorithms/leet.ipynb#X51sZmlsZQ%3D%3D?line=15'>16</a>\u001b[0m         \u001b[39mfor\u001b[39;00m k,v \u001b[39min\u001b[39;00m st\u001b[39m.\u001b[39mitems():\n\u001b[1;32m     <a href='vscode-notebook-cell:/Users/giangta/Desktop/main/Algorithms/leet.ipynb#X51sZmlsZQ%3D%3D?line=16'>17</a>\u001b[0m             st[k]\u001b[39m=\u001b[39m v\u001b[39m+\u001b[39m\u001b[39m1\u001b[39m\n\u001b[0;32m---> <a href='vscode-notebook-cell:/Users/giangta/Desktop/main/Algorithms/leet.ipynb#X51sZmlsZQ%3D%3D?line=18'>19</a>\u001b[0m     st\u001b[39m.\u001b[39mupdate({t: \u001b[39m1\u001b[39m})\n\u001b[1;32m     <a href='vscode-notebook-cell:/Users/giangta/Desktop/main/Algorithms/leet.ipynb#X51sZmlsZQ%3D%3D?line=19'>20</a>\u001b[0m     ist\u001b[39m.\u001b[39mappend(i)\n\u001b[1;32m     <a href='vscode-notebook-cell:/Users/giangta/Desktop/main/Algorithms/leet.ipynb#X51sZmlsZQ%3D%3D?line=20'>21</a>\u001b[0m \u001b[39mreturn\u001b[39;00m out\n",
      "\u001b[1;32m/Users/giangta/Desktop/main/Algorithms/leet.ipynb Cell 36\u001b[0m line \u001b[0;36m1\n\u001b[1;32m     <a href='vscode-notebook-cell:/Users/giangta/Desktop/main/Algorithms/leet.ipynb#X51sZmlsZQ%3D%3D?line=15'>16</a>\u001b[0m         \u001b[39mfor\u001b[39;00m k,v \u001b[39min\u001b[39;00m st\u001b[39m.\u001b[39mitems():\n\u001b[1;32m     <a href='vscode-notebook-cell:/Users/giangta/Desktop/main/Algorithms/leet.ipynb#X51sZmlsZQ%3D%3D?line=16'>17</a>\u001b[0m             st[k]\u001b[39m=\u001b[39m v\u001b[39m+\u001b[39m\u001b[39m1\u001b[39m\n\u001b[0;32m---> <a href='vscode-notebook-cell:/Users/giangta/Desktop/main/Algorithms/leet.ipynb#X51sZmlsZQ%3D%3D?line=18'>19</a>\u001b[0m     st\u001b[39m.\u001b[39mupdate({t: \u001b[39m1\u001b[39m})\n\u001b[1;32m     <a href='vscode-notebook-cell:/Users/giangta/Desktop/main/Algorithms/leet.ipynb#X51sZmlsZQ%3D%3D?line=19'>20</a>\u001b[0m     ist\u001b[39m.\u001b[39mappend(i)\n\u001b[1;32m     <a href='vscode-notebook-cell:/Users/giangta/Desktop/main/Algorithms/leet.ipynb#X51sZmlsZQ%3D%3D?line=20'>21</a>\u001b[0m \u001b[39mreturn\u001b[39;00m out\n",
      "File \u001b[0;32m~/anaconda3/lib/python3.11/site-packages/debugpy/_vendored/pydevd/_pydevd_bundle/pydevd_frame.py:1117\u001b[0m, in \u001b[0;36mPyDBFrame.trace_dispatch\u001b[0;34m(self, frame, event, arg)\u001b[0m\n\u001b[1;32m   1115\u001b[0m \u001b[39mif\u001b[39;00m is_line:\n\u001b[1;32m   1116\u001b[0m     \u001b[39mself\u001b[39m\u001b[39m.\u001b[39mset_suspend(thread, step_cmd, original_step_cmd\u001b[39m=\u001b[39minfo\u001b[39m.\u001b[39mpydev_original_step_cmd)\n\u001b[0;32m-> 1117\u001b[0m     \u001b[39mself\u001b[39m\u001b[39m.\u001b[39mdo_wait_suspend(thread, frame, event, arg)\n\u001b[1;32m   1118\u001b[0m \u001b[39melif\u001b[39;00m is_return:  \u001b[39m# return event\u001b[39;00m\n\u001b[1;32m   1119\u001b[0m     back \u001b[39m=\u001b[39m frame\u001b[39m.\u001b[39mf_back\n",
      "File \u001b[0;32m~/anaconda3/lib/python3.11/site-packages/debugpy/_vendored/pydevd/_pydevd_bundle/pydevd_frame.py:164\u001b[0m, in \u001b[0;36mPyDBFrame.do_wait_suspend\u001b[0;34m(self, *args, **kwargs)\u001b[0m\n\u001b[1;32m    163\u001b[0m \u001b[39mdef\u001b[39;00m \u001b[39mdo_wait_suspend\u001b[39m(\u001b[39mself\u001b[39m, \u001b[39m*\u001b[39margs, \u001b[39m*\u001b[39m\u001b[39m*\u001b[39mkwargs):\n\u001b[0;32m--> 164\u001b[0m     \u001b[39mself\u001b[39m\u001b[39m.\u001b[39m_args[\u001b[39m0\u001b[39m]\u001b[39m.\u001b[39mdo_wait_suspend(\u001b[39m*\u001b[39margs, \u001b[39m*\u001b[39m\u001b[39m*\u001b[39mkwargs)\n",
      "File \u001b[0;32m~/anaconda3/lib/python3.11/site-packages/debugpy/_vendored/pydevd/pydevd.py:1976\u001b[0m, in \u001b[0;36mPyDB.do_wait_suspend\u001b[0;34m(self, thread, frame, event, arg, exception_type)\u001b[0m\n\u001b[1;32m   1973\u001b[0m             from_this_thread\u001b[39m.\u001b[39mappend(frame_custom_thread_id)\n\u001b[1;32m   1975\u001b[0m     \u001b[39mwith\u001b[39;00m \u001b[39mself\u001b[39m\u001b[39m.\u001b[39m_threads_suspended_single_notification\u001b[39m.\u001b[39mnotify_thread_suspended(thread_id, stop_reason):\n\u001b[0;32m-> 1976\u001b[0m         keep_suspended \u001b[39m=\u001b[39m \u001b[39mself\u001b[39m\u001b[39m.\u001b[39m_do_wait_suspend(thread, frame, event, arg, suspend_type, from_this_thread, frames_tracker)\n\u001b[1;32m   1978\u001b[0m frames_list \u001b[39m=\u001b[39m \u001b[39mNone\u001b[39;00m\n\u001b[1;32m   1980\u001b[0m \u001b[39mif\u001b[39;00m keep_suspended:\n\u001b[1;32m   1981\u001b[0m     \u001b[39m# This means that we should pause again after a set next statement.\u001b[39;00m\n",
      "File \u001b[0;32m~/anaconda3/lib/python3.11/site-packages/debugpy/_vendored/pydevd/pydevd.py:2011\u001b[0m, in \u001b[0;36mPyDB._do_wait_suspend\u001b[0;34m(self, thread, frame, event, arg, suspend_type, from_this_thread, frames_tracker)\u001b[0m\n\u001b[1;32m   2008\u001b[0m         \u001b[39mself\u001b[39m\u001b[39m.\u001b[39m_call_mpl_hook()\n\u001b[1;32m   2010\u001b[0m     \u001b[39mself\u001b[39m\u001b[39m.\u001b[39mprocess_internal_commands()\n\u001b[0;32m-> 2011\u001b[0m     time\u001b[39m.\u001b[39msleep(\u001b[39m0.01\u001b[39m)\n\u001b[1;32m   2013\u001b[0m \u001b[39mself\u001b[39m\u001b[39m.\u001b[39mcancel_async_evaluation(get_current_thread_id(thread), \u001b[39mstr\u001b[39m(\u001b[39mid\u001b[39m(frame)))\n\u001b[1;32m   2015\u001b[0m \u001b[39m# process any stepping instructions\u001b[39;00m\n",
      "\u001b[0;31mKeyboardInterrupt\u001b[0m: "
     ]
    }
   ],
   "source": [
    "def dailyTemperatures(temperatures: list[int]) -> list[int]:\n",
    "    \n",
    "    #Pattern reg: find nearest correlation -> stack.pop get the most recent val within the correlation.\n",
    "    #Add temps to stacks, only pop when found the nearest warm.\n",
    "    \n",
    "    st = {} #val:count stack\n",
    "    out = [0]*len(temperatures)\n",
    "    ist = [] #index stack correspond to val in st in output.\n",
    "    \n",
    "    for i,t in enumerate(temperatures):\n",
    "        \n",
    "        if len(st) > 0:\n",
    "            while len(st) > 0 and t > st[list(st)[-1]]:\n",
    "                \n",
    "                out[ist.pop()] = st.pop(list(st)[-1]) # st.keys()[-1] = key of top stack, dict.pop(key) pops and return val \n",
    "            for k,v in st.items():\n",
    "                st[k]= v+1\n",
    "                \n",
    "        st.update({t: 1})\n",
    "        ist.append(i)\n",
    "    return out\n",
    "\n",
    "temperatures = [73,74,75,71,69,72,76,73]\n",
    "print(dailyTemperatures(temperatures))"
   ]
  },
  {
   "cell_type": "markdown",
   "metadata": {},
   "source": []
  }
 ],
 "metadata": {
  "kernelspec": {
   "display_name": "base",
   "language": "python",
   "name": "python3"
  },
  "language_info": {
   "codemirror_mode": {
    "name": "ipython",
    "version": 3
   },
   "file_extension": ".py",
   "mimetype": "text/x-python",
   "name": "python",
   "nbconvert_exporter": "python",
   "pygments_lexer": "ipython3",
   "version": "3.11.3"
  }
 },
 "nbformat": 4,
 "nbformat_minor": 2
}
