{
 "cells": [
  {
   "cell_type": "markdown",
   "metadata": {},
   "source": [
    "## Arrays & Hashing"
   ]
  },
  {
   "cell_type": "markdown",
   "metadata": {},
   "source": [
    "### Medium"
   ]
  },
  {
   "cell_type": "markdown",
   "metadata": {},
   "source": [
    "[36. Valid Sudoku](https://leetcode.com/problems/valid-sudoku/)"
   ]
  },
  {
   "cell_type": "code",
   "execution_count": 54,
   "metadata": {},
   "outputs": [],
   "source": [
    "from collections import defaultdict \n",
    "#36. Valid Sudoku\n",
    "def isValidSudoku(board: list[list[str]]) -> bool:\n",
    "    #Idea: check if each small square belongs to coordinated-associated rows, cols, and sqr \n",
    "    #Implement: create hashset (dict of sets) as cols, rows and sqr\n",
    "    #each row, col, sqr is a set\n",
    "    #Form of each dict(set): e.g: rows = {0: {set}, 1:{set},...}\n",
    "    cols = defaultdict(set) \n",
    "    rows = defaultdict(set)\n",
    "    sqr = defaultdict(set)\n",
    "\n",
    "    for r in range(9):\n",
    "            for c in range(9):\n",
    "                if board[r][c] == \".\":\n",
    "                    continue\n",
    "                if (\n",
    "                    board[r][c] in rows[r]\n",
    "                    or board[r][c] in cols[c]\n",
    "                    or board[r][c] in sqr[(r // 3, c // 3)]\n",
    "                ):\n",
    "                    return False\n",
    "                cols[c].add(board[r][c])\n",
    "                rows[r].add(board[r][c])\n",
    "                sqr[(r // 3, c // 3)].add(board[r][c])\n",
    "\n",
    "    return True"
   ]
  },
  {
   "cell_type": "markdown",
   "metadata": {},
   "source": [
    "[238. Product of Array Except Self - Pre and pos as arrays](https://leetcode.com/problems/product-of-array-except-self/submissions/1089034138/)"
   ]
  },
  {
   "cell_type": "code",
   "execution_count": 55,
   "metadata": {},
   "outputs": [
    {
     "name": "stdout",
     "output_type": "stream",
     "text": [
      "[1, 2, 6, 24] [24, 24, 12, 4] [24, 12, 8, 6]\n"
     ]
    },
    {
     "data": {
      "text/plain": [
       "[24, 12, 8, 6]"
      ]
     },
     "execution_count": 55,
     "metadata": {},
     "output_type": "execute_result"
    }
   ],
   "source": [
    "def productExceptSelf(nums: list[int]) -> list[int]:\n",
    "    #Create 2 arrays: prefix product and postfix product.\n",
    "    #Output[i] = prefix[i-1] * postfix [i+1]\n",
    "    #Time: O(n), Space: O(3n)\n",
    "    l = len(nums)\n",
    "    pre, pos= [nums[0]]*l, [nums[l-1]]*l\n",
    "    j = l - 2\n",
    "    for i in range(1, l):\n",
    "        pre[i] = pre[i-1] * nums[i]\n",
    "        pos[j] = pos[j+1] * nums[j]\n",
    "        j-=1\n",
    "    #init first and last in output\n",
    "    out = [pos[1]]*l\n",
    "    out[l-1] = pre[l-2]\n",
    "\n",
    "    for i in range(1,l-1):\n",
    "        out[i] = pre[i-1]*pos[i+1]\n",
    "\n",
    "    print(pre, pos, out)\n",
    "    return out\n",
    "\n",
    "nums = [1,2,3,4]\n",
    "productExceptSelf(nums)"
   ]
  },
  {
   "cell_type": "markdown",
   "metadata": {},
   "source": [
    "[238. Product of Array Except Self (2) - Only pos var](https://leetcode.com/problems/product-of-array-except-self/submissions/1089079628/)"
   ]
  },
  {
   "cell_type": "code",
   "execution_count": 56,
   "metadata": {},
   "outputs": [],
   "source": [
    "def productExceptSelf(nums: list[int]) -> list[int]:\n",
    "    #Create an preArr stores prefix product up to + (exclude) nums[i]\n",
    "    #Loop from the end of preArr: at each preArr[i], multiply by current postfix product var\n",
    "\n",
    "    #Time: O(n), Space: O(n)\n",
    "    l = len(nums)\n",
    "    out = [1] * l\n",
    "    \n",
    "    #Create an arr stores prefix product up to nums[i] + (exclude) nums[i]\n",
    "    for i in range(1, l):\n",
    "        out[i] = out[i-1] * nums[i-1]\n",
    "    #init first and last in output\n",
    "    pos = nums[l-1]\n",
    "    for i in range(l-2, -1, -1):\n",
    "        out[i] = out[i] * pos  #upto prefix * upto postfix \n",
    "        pos *= nums[i]\n",
    "\n",
    "    print(out)\n",
    "    return out"
   ]
  },
  {
   "cell_type": "markdown",
   "metadata": {},
   "source": [
    "[128. Longest Consecutive Sequence. Original](https://leetcode.com/problems/longest-consecutive-sequence/)"
   ]
  },
  {
   "cell_type": "code",
   "execution_count": 57,
   "metadata": {},
   "outputs": [],
   "source": [
    "def longestConsecutive(nums: list[int]) -> int:\n",
    "    #Sort and count the highest\n",
    "    nums.sort()\n",
    "    if len(nums) == 0:\n",
    "        return 0\n",
    "    max = 1\n",
    "    temp = 1\n",
    "    for i in range(1, len(nums)):\n",
    "        if nums[i] == nums[i-1]+1: \n",
    "            temp+=1\n",
    "        elif nums[i] == nums[i-1]:\n",
    "            continue\n",
    "        else:\n",
    "            temp = 1 #reset\n",
    "        if temp > max:\n",
    "            max = temp\n",
    "    print(max)\n",
    "    return max"
   ]
  },
  {
   "cell_type": "markdown",
   "metadata": {},
   "source": [
    "[347. Top K Frequent Elements ](https://leetcode.com/problems/top-k-frequent-elements/submissions/)"
   ]
  },
  {
   "cell_type": "markdown",
   "metadata": {},
   "source": [
    "Bucket sort - Space: Linear, Time: Linear"
   ]
  },
  {
   "cell_type": "code",
   "execution_count": 58,
   "metadata": {},
   "outputs": [],
   "source": [
    "def topKFrequent(nums: list[int], k: int) -> list[int]:\n",
    "#bucket sort: create an array where index is the freqs, value is list of nums associating with the freqs\n",
    "# Space: O(N). Size of bucket always <= len(nums) because max freq of any num is len(nums).\n",
    "    count = {} # count dict\n",
    "    \n",
    "    buckets = [[] for i in range (len(nums)+1)] #freqs start from 1 to including len(nums)\n",
    "    \n",
    "    print(buckets)\n",
    "    #manually count instead of collections.Counter(nums)\n",
    "    for n in nums:\n",
    "        count[n] = 1 + count.get(n, 0) #count.get(n, 0) means count[n] = 0 if n has not exist in dict\n",
    "    \n",
    "    #bucket's index is the freqs, value is list of nums associating with the freqs\n",
    "    for num,freq in count.items():\n",
    "        \n",
    "        buckets[freq].append(num)\n",
    "    res = []\n",
    "    for i in range(len(buckets)-1, 0, -1): #start from last index\n",
    "        if len(buckets[i]) == 0:\n",
    "            continue\n",
    "        for num in buckets[i]:\n",
    "            res.append(num)\n",
    "            if len(res) == k:\n",
    "                return res\n",
    "    return res"
   ]
  },
  {
   "cell_type": "markdown",
   "metadata": {},
   "source": [
    "Heap - O(KlogN)"
   ]
  },
  {
   "cell_type": "code",
   "execution_count": 1,
   "metadata": {},
   "outputs": [],
   "source": [
    "from collections import Counter\n",
    "import heapq \n",
    "\n",
    "def topKFrequent(nums: list[int], k: int) -> list[int]:\n",
    "    count = Counter(nums)\n",
    "    #create a list of tuples (fre, num) for heapifying (we maintain heap by values)\n",
    "    heap = [(fre, num) for (num, fre) in count.items() ]\n",
    "    \n",
    "    heapq._heapify_max(heap)\n",
    "    print(heap)\n",
    "\n",
    "    mlist = []\n",
    "    for i in range(k):\n",
    "        mlist.append(heapq._heappop_max(heap)[1]) #get the num (heap[1])\n",
    "    return mlist"
   ]
  },
  {
   "cell_type": "markdown",
   "metadata": {},
   "source": [
    "## Two Pointers"
   ]
  },
  {
   "cell_type": "markdown",
   "metadata": {},
   "source": [
    "### Medium"
   ]
  },
  {
   "cell_type": "markdown",
   "metadata": {},
   "source": [
    "[167. Two Sum II - Input Array Is Sorted](https://leetcode.com/problems/two-sum-ii-input-array-is-sorted/)"
   ]
  },
  {
   "cell_type": "code",
   "execution_count": 60,
   "metadata": {},
   "outputs": [],
   "source": [
    "def twoSum(numbers: list[int], target: int) -> list[int]:\n",
    "    #2 pointers: at start and at end. \n",
    "    # When sum(nums[i]+nums[j])> target -> decrement end p (decrease larger num in the sum)\n",
    "    #sum(nums[i]+nums[j]) < target -> increase start p \n",
    "    #Time: O(n), Space: O(1)\n",
    "\n",
    "    pre, pos = 0, len(numbers)-1\n",
    "    while pre < pos:\n",
    "        sum = numbers[pre]+numbers[pos]\n",
    "        if sum < target:\n",
    "            pre += 1\n",
    "        elif sum > target:\n",
    "            pos -= 1\n",
    "        else:\n",
    "            return [pre+1, pos+1]\n",
    "    return []"
   ]
  },
  {
   "cell_type": "markdown",
   "metadata": {},
   "source": [
    "[15. 3Sum](https://leetcode.com/problems/3sum/)"
   ]
  },
  {
   "cell_type": "code",
   "execution_count": 61,
   "metadata": {},
   "outputs": [
    {
     "data": {
      "text/plain": [
       "[[-2, 0, 2], [-2, 1, 1]]"
      ]
     },
     "metadata": {},
     "output_type": "display_data"
    },
    {
     "data": {
      "text/plain": [
       "[[-1, -1, 2], [-1, 0, 1]]"
      ]
     },
     "metadata": {},
     "output_type": "display_data"
    }
   ],
   "source": [
    "def threeSum(nums: list[int]) -> list[list[int]]:\n",
    "    nums.sort()\n",
    "    res = []\n",
    "\n",
    "    #i is pivot\n",
    "    for i in range(len(nums)):\n",
    "        #no repeated triplet\n",
    "        if i > 0 and nums[i] == nums[i-1]:\n",
    "            continue \n",
    "        #can't offset from positive pivot \n",
    "        if nums[i] > 0:\n",
    "            break\n",
    "        l, r = i+1, len(nums)-1\n",
    "        while l < r:\n",
    "            \n",
    "            sum = nums[i]+nums[l]+nums[r]\n",
    "            \n",
    "            if sum == 0:\n",
    "                res.append([nums[i],nums[l],nums[r]])\n",
    "                #only need to update 1 pointer\n",
    "                l+=1 \n",
    "                #no repeated triplet\n",
    "                while nums[l-1] == nums[l] and l<r :\n",
    "                    l+=1\n",
    "                \n",
    "            elif sum > 0:\n",
    "                r-=1\n",
    "            elif sum < 0:\n",
    "                l+=1\n",
    "        \n",
    "    return res\n",
    "nums = [-1,0,1,2,-1,-4]\n",
    "nums1= [-2,0,1,1,2]\n",
    "display(threeSum(nums1))\n",
    "display(threeSum(nums))"
   ]
  },
  {
   "cell_type": "markdown",
   "metadata": {},
   "source": [
    "## Stack"
   ]
  },
  {
   "cell_type": "markdown",
   "metadata": {},
   "source": [
    "### Easy"
   ]
  },
  {
   "cell_type": "markdown",
   "metadata": {},
   "source": [
    "[20. Valid Parentheses](https://leetcode.com/problems/valid-parentheses/)"
   ]
  },
  {
   "cell_type": "code",
   "execution_count": 62,
   "metadata": {},
   "outputs": [],
   "source": [
    "def isValid(s: str) -> bool:\n",
    "    brack = {'{':'}', '[':']', '(':')'}\n",
    "    stack = []\n",
    "    for i in range(len(s)):\n",
    "        if s[i] in brack.keys():\n",
    "            stack.append(s[i])\n",
    "        elif len(stack) != 0:\n",
    "            if s[i] != brack[stack[-1]]: #peek\n",
    "                return False\n",
    "            stack.pop()\n",
    "        # len(stack) == 0 + still have non-open char -> illegal close char\n",
    "        elif len(stack) == 0: \n",
    "            return False\n",
    "    if len(stack) != 0:\n",
    "        return False\n",
    "    return True"
   ]
  },
  {
   "cell_type": "markdown",
   "metadata": {},
   "source": [
    "### Medium"
   ]
  },
  {
   "cell_type": "markdown",
   "metadata": {},
   "source": [
    "[155. Min Stack](https://leetcode.com/problems/min-stack/)"
   ]
  },
  {
   "cell_type": "code",
   "execution_count": 63,
   "metadata": {},
   "outputs": [
    {
     "name": "stdout",
     "output_type": "stream",
     "text": [
      "Minimum element in the stack: 1\n"
     ]
    }
   ],
   "source": [
    "class MinStack:\n",
    "    #Create a another minstack next to normal stack that stores upto current min val\n",
    "    def __init__(self):\n",
    "        self.stack = []\n",
    "        self.minSt = []\n",
    "\n",
    "    def push(self, val: int) -> None:\n",
    "        self.stack.append(val)\n",
    "        #temp min\n",
    "        # Only consider minSt[-1] if minSt not EMPTY\n",
    "        self.minSt.append(min(val, self.minSt[-1] if self.minSt else val))\n",
    "\n",
    "\n",
    "    def pop(self) -> None:\n",
    "        #pop minSt always true because it pop the same as stack IF stack[i] is the min value at its temp time.\n",
    "        #else, it pop the temporary min\n",
    "        self.minSt.pop()\n",
    "        self.stack.pop()\n",
    "\n",
    "    def top(self) -> int:\n",
    "        return self.stack[-1]\n",
    "\n",
    "    def getMin(self) -> int:\n",
    "        return self.minSt[-1]\n",
    "\n",
    "\n",
    "min_stack = MinStack()\n",
    "\n",
    "# Push elements onto the stack\n",
    "min_stack.push(3)\n",
    "min_stack.push(1)\n",
    "\n",
    "# Get the current minimum element\n",
    "min_element = min_stack.getMin()\n",
    "print(f\"Minimum element in the stack: {min_element}\")  # Output: Minimum element in the stack: 1"
   ]
  },
  {
   "cell_type": "markdown",
   "metadata": {},
   "source": [
    "[150. Evaluate Reverse Polish Notation](https://leetcode.com/problems/evaluate-reverse-polish-notation/)"
   ]
  },
  {
   "cell_type": "markdown",
   "metadata": {},
   "source": [
    "This is postfix travel, utilize stack. Pop nums when encounter sign. Then push the result back to stack"
   ]
  },
  {
   "cell_type": "code",
   "execution_count": 64,
   "metadata": {},
   "outputs": [
    {
     "data": {
      "text/plain": [
       "6"
      ]
     },
     "execution_count": 64,
     "metadata": {},
     "output_type": "execute_result"
    }
   ],
   "source": [
    "import math\n",
    "def evalRPN(tokens: list[str]) -> int:\n",
    "    st = []\n",
    "    res = 0\n",
    "    for i in tokens:\n",
    "        ch = i\n",
    "        if ch == '+':\n",
    "            res = st.pop() + st.pop()\n",
    "        elif ch == '-':\n",
    "            #later digit on top, pop first\n",
    "            b,a = st.pop(), st.pop()\n",
    "            res = a - b\n",
    "        elif ch == '*':\n",
    "            res = st.pop() * st.pop()\n",
    "        elif ch == '/':\n",
    "            #cast to int\n",
    "            #e.g: -0.5 = 0, 8.9=8\n",
    "            b,a = st.pop(), st.pop()\n",
    "            res = int(a/b)\n",
    "        else: #if num\n",
    "            res = int(i)\n",
    "        st.append(res)\n",
    "    return st.pop()\n",
    "tokens = [\"4\",\"13\",\"5\",\"/\",\"+\"]\n",
    "evalRPN(tokens)\n",
    "\n"
   ]
  },
  {
   "cell_type": "markdown",
   "metadata": {},
   "source": [
    "[22. Generate Parentheses](https://leetcode.com/problems/generate-parentheses/)"
   ]
  },
  {
   "cell_type": "markdown",
   "metadata": {},
   "source": [
    "[Generate Parentheses - Stack - Leetcode 22](https://www.youtube.com/watch?v=s9fokUqJ76A&t=1s)\n",
    "\n",
    "<img src=\"assets/l22.png\" width=800px />"
   ]
  },
  {
   "cell_type": "code",
   "execution_count": 1,
   "metadata": {},
   "outputs": [
    {
     "data": {
      "text/plain": [
       "['((()))', '(()())', '(())()', '()(())', '()()()']"
      ]
     },
     "execution_count": 1,
     "metadata": {},
     "output_type": "execute_result"
    }
   ],
   "source": [
    "def generateParenthesis(n: int) -> list[str]:\n",
    "    out = []\n",
    "    comb = [] #each combination\n",
    "    #Learned recursion TREE with # of o and c parentheses from 0 to n\n",
    "    #add ( when open < n, add ) when close < open\n",
    "    \n",
    "    def backtrack(ocount, ccount):\n",
    "        #base case\n",
    "        if ocount == n and ccount == n:\n",
    "            out.append(\"\".join(comb))\n",
    "        \n",
    "        if ocount < n:\n",
    "            comb.append('(')\n",
    "            backtrack(ocount+1, ccount)\n",
    "            comb.pop()\n",
    "        if ccount < ocount: \n",
    "            comb.append(')')\n",
    "            backtrack(ocount, ccount+1)\n",
    "            comb.pop()\n",
    "\n",
    "    \n",
    "    backtrack(0,0)\n",
    "    return out\n",
    "n=3\n",
    "generateParenthesis(n)"
   ]
  },
  {
   "cell_type": "markdown",
   "metadata": {},
   "source": [
    "[739. Daily Temperatures](https://leetcode.com/problems/daily-temperatures/)"
   ]
  },
  {
   "cell_type": "code",
   "execution_count": 2,
   "metadata": {},
   "outputs": [],
   "source": [
    "def dailyTemperatures(temperatures: list[int]) -> list[int]:\n",
    "    \n",
    "    #Pattern reg: find nearest correlation -> stack.pop get the most recent val within the correlation.\n",
    "    #Add temps to stacks, only pop when found the nearest warm.\n",
    "    \n",
    "    st = [] #val:count stack\n",
    "    out = [0]*len(temperatures)\n",
    "    \n",
    "    for i,t in enumerate(temperatures):\n",
    "        while st and t > st[-1][0]: #st[-1][0] = temp at top node\n",
    "            stT,stIndex = st.pop()\n",
    "            out[stIndex] = i - stIndex            \n",
    "        st.append((t,i)) #i, t\n",
    "\n",
    "    return out"
   ]
  },
  {
   "cell_type": "markdown",
   "metadata": {},
   "source": []
  },
  {
   "cell_type": "markdown",
   "metadata": {},
   "source": [
    "## Binary trees"
   ]
  },
  {
   "cell_type": "markdown",
   "metadata": {},
   "source": [
    "[74. Search a 2D Matrix](https://leetcode.com/problems/search-a-2d-matrix/)"
   ]
  },
  {
   "cell_type": "markdown",
   "metadata": {},
   "source": [
    "Mid in 1d arr -> ro, co index"
   ]
  },
  {
   "cell_type": "code",
   "execution_count": 22,
   "metadata": {},
   "outputs": [
    {
     "name": "stdout",
     "output_type": "stream",
     "text": [
      "True\n"
     ]
    }
   ],
   "source": [
    "def searchMatrix(matrix: list[list[int]], target: int) -> bool:\n",
    "    m,n = len(matrix), len(matrix[0])\n",
    "    \n",
    "    i,j = 0, m*n-1\n",
    "    \n",
    "    while i<=j:\n",
    "        \n",
    "        mid = (i+j)//2\n",
    "        \n",
    "        ro , co = mid//n , mid % n \n",
    "        if matrix[ro][co] == target:\n",
    "            return True\n",
    "        if matrix[ro][co] < target:\n",
    "            \n",
    "            i = mid +1\n",
    "        else:\n",
    "            j = mid -1\n",
    "            \n",
    "    \n",
    "    return False\n",
    "        \n",
    "\n",
    "\n",
    "matrix = [[1,3,5,7],[10,11,16,20],[23,30,34,60]]\n",
    "target = 3\n",
    "print(searchMatrix(matrix, target))"
   ]
  },
  {
   "cell_type": "markdown",
   "metadata": {},
   "source": [
    "Convert 2d -> 1d and do easy bin search"
   ]
  },
  {
   "cell_type": "code",
   "execution_count": 7,
   "metadata": {},
   "outputs": [
    {
     "name": "stdout",
     "output_type": "stream",
     "text": [
      "True\n"
     ]
    }
   ],
   "source": [
    "def searchMatrix(matrix: list[list[int]], target: int) -> bool:\n",
    "    nums = [num for sublist in matrix for num in sublist]\n",
    "    mid = len(nums)//2\n",
    "    i,j= 0, len(nums)-1\n",
    "    while i<=j:\n",
    "        mid = (i+j)//2\n",
    "        if target == nums[mid]:\n",
    "            return True\n",
    "        if target > nums[mid]:\n",
    "            i = mid+1\n",
    "        else:\n",
    "            j = mid -1\n",
    "    return False\n",
    "\n",
    "matrix = [[1,3,5,7],[10,11,16,20],[23,30,34,60]]\n",
    "target = 3\n",
    "print(searchMatrix(matrix, target))"
   ]
  },
  {
   "cell_type": "markdown",
   "metadata": {},
   "source": [
    "[875. Koko Eating Bananas](https://leetcode.com/problems/koko-eating-bananas/)"
   ]
  },
  {
   "cell_type": "markdown",
   "metadata": {},
   "source": [
    "Lesson learned:\n",
    "- If it seems way too complicated, start with worst brute force\n",
    "- [0...k] search can always reduced to bin search"
   ]
  },
  {
   "cell_type": "code",
   "execution_count": 11,
   "metadata": {},
   "outputs": [
    {
     "data": {
      "text/plain": [
       "4"
      ]
     },
     "execution_count": 11,
     "metadata": {},
     "output_type": "execute_result"
    }
   ],
   "source": [
    "import math\n",
    "def minEatingSpeed(piles: list[int], h: int) -> int:\n",
    "    #h >= len(piles). Always. When h = len(piles), k = max(piles) (each hour, each pile)\n",
    "    #In general: 1 <= k < = max (piles) for all h\n",
    "    \n",
    "    i, j = 1, max(piles)\n",
    "    k = j\n",
    "\n",
    "    while i <= j:\n",
    "        mid = (i + j) // 2\n",
    "        totalTime = 0\n",
    "        \n",
    "        for p in piles:\n",
    "            totalTime += math.ceil(float(p) / mid)\n",
    "            \n",
    "        if totalTime <= h: #This means k is larger than should be that it eats fater than given hours\n",
    "            k = mid\n",
    "            j = mid - 1\n",
    "        else:\n",
    "            i = mid + 1\n",
    "    return k\n",
    "            \n",
    "piles = [3,6,7,11]\n",
    "h = 8\n",
    "minEatingSpeed(piles,h)\n"
   ]
  },
  {
   "cell_type": "markdown",
   "metadata": {},
   "source": [
    "## Sliding Window"
   ]
  },
  {
   "cell_type": "markdown",
   "metadata": {},
   "source": [
    "### Easy"
   ]
  },
  {
   "cell_type": "markdown",
   "metadata": {},
   "source": [
    "[121. Best Time to Buy and Sell Stock](https://leetcode.com/problems/best-time-to-buy-and-sell-stock/)"
   ]
  },
  {
   "cell_type": "code",
   "execution_count": 2,
   "metadata": {},
   "outputs": [],
   "source": [
    "def maxProfit(prices: list[int]) -> int:\n",
    "    buy = prices[0] #buy price\n",
    "    mx = 0 #max profit\n",
    "    for i in prices:\n",
    "        if i < buy: #update best buy price\n",
    "            b = i\n",
    "        elif i > buy and i - buy > mx: #update max profit\n",
    "            mx = i - buy\n",
    "    return mx"
   ]
  },
  {
   "cell_type": "markdown",
   "metadata": {},
   "source": [
    "### Medium"
   ]
  },
  {
   "cell_type": "markdown",
   "metadata": {},
   "source": [
    "[3. Longest Substring Without Repeating Characters](https://leetcode.com/problems/longest-substring-without-repeating-characters/)"
   ]
  },
  {
   "cell_type": "code",
   "execution_count": 3,
   "metadata": {},
   "outputs": [],
   "source": [
    "def lengthOfLongestSubstring(s: str) -> int:\n",
    "    l = 0 #left pointer\n",
    "    longest = 0\n",
    "    cset = set()\n",
    "    for r in range(len(s)):\n",
    "        while s[r] in cset:\n",
    "            cset.remove(s[l])\n",
    "            l+=1\n",
    "\n",
    "        cset.add(s[r])\n",
    "        longest = max(longest, r-l+1)\n",
    "    return longest"
   ]
  },
  {
   "cell_type": "markdown",
   "metadata": {},
   "source": [
    "[424. Longest Repeating Character Replacement](https://leetcode.com/problems/longest-repeating-character-replacement/)"
   ]
  },
  {
   "cell_type": "markdown",
   "metadata": {},
   "source": [
    "- approach is counterintuitive with no str manipulation\n",
    "- concerns only max occurencies of a char\n",
    "- concern subtraction equation \"len(window) - mx\" = nums of replaced-needed chars (RNC)\n",
    "\n",
    "        Universal mx instead of loop hashmap to get true mx\n",
    "    \n",
    "    \n",
    "- **mx** not always represent mx count in inside window, \n",
    "- mx: largest count so far thoughout history, not temp largest in countdict.\n",
    "\n",
    "- if true mx reduced, \n",
    "    - dont bother, wait until it raised and beat universal largest mx because universal mx results universal longest (return). (largest len(w) <-> largest mx)\n",
    "    - if true mx can't raised to beat universal mx, don't bother. Longest not updated, not what we return.\n",
    "    - \"while (r-l+1) - mx > k \"stays (false) with universal mx, which means \n",
    "        -  we don't care reducing windown with universal mx in hand, we ignore and expand window until finding char can beat universal mx, then \"while\" reducing later if necessary\n",
    "        \n",
    "        - reduce that way won't create error?... reducing later kindof thing? missing something?...\n",
    "\n",
    "    - **longest = max(longest, r - l+1)** longest won't bother to update, wait until mx raised, not mx reduced.\n"
   ]
  },
  {
   "cell_type": "code",
   "execution_count": null,
   "metadata": {},
   "outputs": [],
   "source": [
    "def characterReplacement(s: str, k: int) -> int:\n",
    "\n",
    "\n",
    "\n",
    "    l = 0\n",
    "    longest = 0\n",
    "    tk = k\n",
    "    temp = s[0]\n",
    "    mx = 0\n",
    "    count = defaultdict(int)\n",
    "    for r in range(len(s)):\n",
    "        #concurrencies of chars\n",
    "        count[s[r]] +=1\n",
    "        \n",
    "        #mxcount is updated max of all count[s[r]] so far\n",
    "        mx = max(count[s[r]], mx)\n",
    "\n",
    "        #removing leftmost char in window to ensure there's enough k to replace needed in w (reduce len(w) in \"len(w) - mx\")\n",
    "\n",
    "        #\"while\" instead of if because there's case leftmost char is maxcount char -> maxcount char reduced -> number of RNC (non-mxcount char) exceed k remains \n",
    "        #->invalid substr cannot move on (cannot add more char to the w already have too many RNC, must \"while\" keep reduce w)\n",
    "        #another logic using while: mx is not true mx of table, when temp mx < mx, window kept spreading \n",
    "        # -> reducing window once found next mx will REQUIRE multipleb remove\n",
    "        while (r-l+1) - mx > k:\n",
    "            count[s[l]]-=1\n",
    "            l+=1\n",
    "        longest = max(longest, r - l+1)\n",
    "    return longest"
   ]
  },
  {
   "cell_type": "markdown",
   "metadata": {},
   "source": [
    "[567. Permutation in String](https://leetcode.com/problems/permutation-in-string/)"
   ]
  },
  {
   "cell_type": "markdown",
   "metadata": {},
   "source": [
    "Used 2 hashmap d1, d2\n",
    "\n",
    "        Even if we reduced s2[l] which is not same char as s2[r], it doesn't matter\n",
    "        we needed to reduced whatever it is anyway until\n",
    "        match counts of the char s2[r] (which means any char in d2)\n",
    "        Because it's a essential PRIOR step to move forward to find a permutation"
   ]
  },
  {
   "cell_type": "code",
   "execution_count": 8,
   "metadata": {},
   "outputs": [
    {
     "name": "stdout",
     "output_type": "stream",
     "text": [
      "2\n"
     ]
    },
    {
     "data": {
      "text/plain": [
       "True"
      ]
     },
     "execution_count": 8,
     "metadata": {},
     "output_type": "execute_result"
    }
   ],
   "source": [
    "def checkInclusion(s1: str, s2: str) -> bool:\n",
    "    #\n",
    "    d1, d2 = {},{}\n",
    "    l = 0\n",
    "    for i in s1:\n",
    "        if i not in d1.keys():\n",
    "            d1.update({i:1})\n",
    "        else:\n",
    "            d1[i]+= 1\n",
    "            \n",
    "    for r in range(len(s2)):\n",
    "        if s2[r] not in d1.keys():\n",
    "            if d1 == d2:\n",
    "                return True\n",
    "            #reset d2\n",
    "            d2.clear()\n",
    "            continue\n",
    "        \n",
    "        if not d2:\n",
    "            l = r\n",
    "\n",
    "        if s2[r] not in d2.keys():\n",
    "            d2.update({s2[r]:1})\n",
    "        else:\n",
    "            d2[s2[r]]+= 1\n",
    "            #while instead of if because the count of s2[l] we reduced\n",
    "            #is not count of char s2[r] needed to be reduced\n",
    "            #****\n",
    "            while d2[s2[r]] > d1[s2[r]]:\n",
    "                print(d2[s2[r]])\n",
    "                \n",
    "                d2[s2[l]] -=1\n",
    "                l += 1\n",
    "        \n",
    "        if d1 == d2:\n",
    "            return True\n",
    "    print(d1, d2)\n",
    "    return False\n",
    "s1 = \"adc\"\n",
    "s2 = \"dcda\"\n",
    "checkInclusion(s1,s2)"
   ]
  },
  {
   "cell_type": "markdown",
   "metadata": {},
   "source": [
    "Optimized sliding window with **match** count\n",
    "\n",
    "Maintain a match variable, which stores the #chars (out of the 26 alphabets), THAT have the same occurence in **s1** and **current window in s2s2s2**. \n",
    "\n",
    "When we slide the window, \n",
    "\n",
    "- if the deduction of the last element and the addition of the new element leads to a new frequency match of any of the characters, we increment the match by 1. \n",
    "- Else if count of a char was the same earlier(prior to addition or removal) as in s1\n",
    "\n",
    "    => NEW mismatch that was JUST USED TO be taken as prev **match**! -> decrement **match**.\n",
    "     \n",
    "- Else, do nothing, since **match** already up-to-date with all the matched and mismatched chars before.\n",
    "After the shifting of the window, the countcountcount evaluates to 26, it means all the characters match in frequency totally. So, we return a True in that case immediately."
   ]
  },
  {
   "cell_type": "code",
   "execution_count": 3,
   "metadata": {},
   "outputs": [
    {
     "data": {
      "text/plain": [
       "False"
      ]
     },
     "execution_count": 3,
     "metadata": {},
     "output_type": "execute_result"
    }
   ],
   "source": [
    "def checkInclusion(s1: str, s2: str) -> bool:\n",
    "    \n",
    "    #This not check is essential because if move on, can't access s2[i] as s1[i] in next examine range(len(s1)):\n",
    "    if len(s2) < len(s1):\n",
    "        return False\n",
    "    \n",
    "    match = 0\n",
    "    s1c,s2c = [0]*26, [0]*26\n",
    "    \n",
    "    #examine counts up to len(s1):\n",
    "    for i in range(len(s1)):\n",
    "        #s1c records s1, s2c records s2\n",
    "        s1c[ord(s1[i]) - ord('a')] += 1\n",
    "        s2c[ord(s2[i]) - ord('a')] += 1\n",
    "    \n",
    "    #examine init match of 26 chars:\n",
    "    for i in range(26):\n",
    "        if s1c[i] == s2c[i]:\n",
    "            match += 1\n",
    "    l = 0\n",
    "    #examine the rest\n",
    "    for r in range(len(s1), len(s2)):\n",
    "        if match == 26: return True\n",
    "        \n",
    "        index = ord(s2[r]) - ord('a') #right char\n",
    "        s2c[index] +=1\n",
    "        #Only concerns about updating \"match\", when match incre or decre. \n",
    "        # Match always takes account of true matches and mismatches at any examine time.\n",
    "        \n",
    "        #Match ONLY INCRE when count of current char in 2 str matches <3\n",
    "        #Match ONLY DECRE when what JUST USED to match, taken to match => now mismatch, now must be taken out of match\n",
    "        # ... due to incre count or decre count when sliding window\n",
    "        if s1c[index] == s2c[index]:\n",
    "            match += 1\n",
    "        elif s1c[index] == s2c[index] - 1:\n",
    "            match -=1 \n",
    "        \n",
    "        index = ord(s2[l]) - ord('a') #left char\n",
    "        s2c[index] -=1\n",
    "        if s1c[index] == s2c[index]:\n",
    "            match += 1\n",
    "        elif s1c[index] == s2c[index] + 1:\n",
    "            match -=1 \n",
    "        l+=1\n",
    "    return match == 26\n",
    "    #\n",
    "\n",
    "s1 = \"adc\"\n",
    "s2 = \"dcdba\"\n",
    "checkInclusion(s1,s2)\n"
   ]
  },
  {
   "cell_type": "markdown",
   "metadata": {},
   "source": [
    "## Linked List"
   ]
  },
  {
   "cell_type": "markdown",
   "metadata": {},
   "source": [
    "### <a id='initll'>Init Linked List for testing.</a>"
   ]
  },
  {
   "cell_type": "code",
   "execution_count": 3,
   "metadata": {},
   "outputs": [],
   "source": [
    "from typing import Optional\n",
    "\n",
    "# Definition for singly-linked list.\n",
    "class ListNode:\n",
    "    def __init__(self, val=0, next=None):\n",
    "        self.val = val\n",
    "        self.next = next\n",
    "    def __repr__(self):\n",
    "        s = \"(\"+ str(self.val) + \") => \"\n",
    "        tm = self.next\n",
    "        while tm:\n",
    "            s += str(tm.val) + \" -> \"\n",
    "            tm = tm.next\n",
    "        return s\n",
    "\n",
    "def print_list(head: Optional[ListNode]) -> None:\n",
    "    while head:\n",
    "        print(head.val, end=\" -> \")\n",
    "        head = head.next\n",
    "    print(\"None\")\n",
    "\n",
    "# Helper function to create a linked list from a list of values\n",
    "def create_list(values):\n",
    "    if not values:\n",
    "        return None\n",
    "    head = ListNode(values[0])\n",
    "    current = head\n",
    "    for val in values[1:]:\n",
    "        current.next = ListNode(val)\n",
    "        current = current.next\n",
    "    return head\n",
    "\n"
   ]
  },
  {
   "cell_type": "code",
   "execution_count": 5,
   "metadata": {},
   "outputs": [
    {
     "name": "stdout",
     "output_type": "stream",
     "text": [
      "Original Linked List:\n",
      "1 -> 2 -> 3 -> 4 -> 5 -> None\n"
     ]
    }
   ],
   "source": [
    "# Test Case 1: Basic Test\n",
    "head1 = create_list([1, 2, 3, 4, 5])\n",
    "print(\"Original Linked List:\")\n",
    "print_list(head1)\n",
    "# reversed_head1 = reverseList(head1)\n",
    "# print(\"Reversed Linked List:\")\n",
    "# print_linked_list(reversed_head1)"
   ]
  },
  {
   "cell_type": "markdown",
   "metadata": {},
   "source": [
    "### Easy\n",
    "Run Init [LinkedList](#initll) before testing methods"
   ]
  },
  {
   "cell_type": "markdown",
   "metadata": {},
   "source": [
    "#### [206. Reverse Linked List](https://leetcode.com/problems/reverse-linked-list/)"
   ]
  },
  {
   "cell_type": "markdown",
   "metadata": {},
   "source": [
    "        Reverse: prev is always the reversed list, not head, or temp"
   ]
  },
  {
   "cell_type": "code",
   "execution_count": 5,
   "metadata": {},
   "outputs": [
    {
     "data": {
      "text/plain": [
       "(4) => 3 -> 2 -> 1 -> "
      ]
     },
     "execution_count": 5,
     "metadata": {},
     "output_type": "execute_result"
    }
   ],
   "source": [
    "\n",
    "def reverseList(head: Optional[ListNode]) -> Optional[ListNode]:\n",
    "    next = None #real next's next\n",
    "    prev = None\n",
    "    temp = head\n",
    "    \n",
    "    while temp:\n",
    "        #save next\n",
    "        next = temp.next \n",
    "        #point to prev\n",
    "        temp.next = prev\n",
    "        #update prev\n",
    "        prev = temp\n",
    "        #update temp\n",
    "        temp = next\n",
    "        # if temp == None:\n",
    "        #     head = prev\n",
    "    \n",
    "    return prev #at the end, prev is head\n",
    "reverseList(create_list([1,2,3,4]))"
   ]
  },
  {
   "cell_type": "markdown",
   "metadata": {},
   "source": [
    "#### [21. Merge Two Sorted Lists](https://leetcode.com/problems/merge-two-sorted-lists/)"
   ]
  },
  {
   "cell_type": "markdown",
   "metadata": {},
   "source": [
    "##### Iterative"
   ]
  },
  {
   "cell_type": "markdown",
   "metadata": {},
   "source": [
    "Create new list and gradually add next smaller nodes from two lists to the merged.\n",
    "\n",
    "        Learned: temp = dummy\n",
    "        \n",
    "        temp.next = s; temp = temp.next means temp helps adding things and act for dummy"
   ]
  },
  {
   "cell_type": "code",
   "execution_count": 17,
   "metadata": {},
   "outputs": [],
   "source": [
    "def mergeTwoLists(self, list1: Optional[ListNode], list2: Optional[ListNode]) -> Optional[ListNode]:\n",
    "    \n",
    "        dummy = ListNode()\n",
    "        temp = dummy\n",
    "        \n",
    "        while list1 and list2:\n",
    "            if list1.val < list2.val:\n",
    "                temp.next = list1\n",
    "                list1 = list1.next\n",
    "            else:\n",
    "                temp.next = list2\n",
    "                list2 = list2.next\n",
    "            temp = temp.next\n",
    "        temp.next = list1 or list2\n",
    "        \n",
    "        dummy = dummy.next\n",
    "        return dummy"
   ]
  },
  {
   "cell_type": "markdown",
   "metadata": {},
   "source": [
    "##### Recursive"
   ]
  },
  {
   "cell_type": "code",
   "execution_count": 6,
   "metadata": {},
   "outputs": [],
   "source": [
    "def mergeTwoLists(self, list1: Optional[ListNode], list2: Optional[ListNode]) -> Optional[ListNode]:  \n",
    "    def merging(list1, list2):\n",
    "        #Return lists\n",
    "        #code base, simpliest form of recursive occurs when list1 or list2 completely examined\n",
    "        if not list1:\n",
    "            return list2\n",
    "        if not list2:\n",
    "            return list1\n",
    "        \n",
    "        #the smaller will be assigned its next\n",
    "        #mergetwolist function acts like returning, providing the smaller node between two node args and keep moving on\"\n",
    "        if list1.val < list2.val:\n",
    "            list1.next = merging(list1.next, list2)\n",
    "        \n",
    "            #providing the smaller results for the parent recursion\n",
    "            return list1 \n",
    "        else:\n",
    "            list2.next = merging(list2.next, list1)\n",
    "            return list2\n",
    "    \n",
    "    return merging(list1, list2)"
   ]
  },
  {
   "cell_type": "markdown",
   "metadata": {},
   "source": [
    "#### [141. Linked List Cycle](https://leetcode.com/problems/linked-list-cycle/)\n"
   ]
  },
  {
   "cell_type": "code",
   "execution_count": 6,
   "metadata": {},
   "outputs": [],
   "source": [
    "def hasCycle(head: Optional[ListNode]) -> bool:\n",
    "    #Guaranteed to meet when having a circle\n",
    "    #Note: From meet point -> knot = head -> knot. \n",
    "    # ==> Find knot by move f to head, f and s incre 1 until meet\n",
    "    f,s = head, head\n",
    "\n",
    "    while f and f.next:\n",
    "        f = f.next.next\n",
    "        s = s.next\n",
    "        if s == f:\n",
    "            return True\n",
    "    return False"
   ]
  },
  {
   "cell_type": "markdown",
   "metadata": {},
   "source": [
    "### Medium"
   ]
  },
  {
   "cell_type": "markdown",
   "metadata": {},
   "source": [
    "#### [143. Reorder List](https://leetcode.com/problems/reorder-list/)"
   ]
  },
  {
   "cell_type": "markdown",
   "metadata": {},
   "source": [
    "**Approach 1** (Easy, slow): Create a list (arr), add each node to list in order. \n",
    "\n",
    "-> Reorder by indexing list "
   ]
  },
  {
   "cell_type": "code",
   "execution_count": 2,
   "metadata": {},
   "outputs": [
    {
     "name": "stdout",
     "output_type": "stream",
     "text": [
      "1 -> 2 -> 3 -> 4 -> None\n",
      "None\n"
     ]
    }
   ],
   "source": [
    "import math\n",
    "def reorderList(head: Optional[ListNode]) -> None:\n",
    "    \"\"\"\n",
    "    Do not return anything, modify head in-place instead.\n",
    "    \"\"\"\n",
    "    nodelist = list()\n",
    "    temp = head\n",
    "    while temp:\n",
    "        nodelist.append(temp)\n",
    "        temp = temp.next\n",
    "    dum = ListNode()\n",
    "    temp = dum\n",
    "    n = math.ceil(len(nodelist)/2)\n",
    "    j = len(nodelist) - 1\n",
    "    for i in range(n):\n",
    "    \n",
    "        temp.next = nodelist[i]\n",
    "        temp = temp.next\n",
    "        temp.next=nodelist[j]\n",
    "        \n",
    "        temp = temp.next\n",
    "        if i == n-1:\n",
    "            temp.next = None\n",
    "            return\n",
    "        j-=1\n",
    "    print(head)\n",
    "    \n",
    "head = [1,2,3,4]\n",
    "\n",
    "head1 = create_list(head)\n",
    "print_list(head1)\n",
    "\n",
    "print(reorderList(head1))"
   ]
  },
  {
   "cell_type": "markdown",
   "metadata": {},
   "source": [
    "**Approach 2**\n",
    "1. Split into two halves. Using f,s pointers (s incre 1, f incre 2). When f no next -> s at middle\n",
    "2. Reverse second half\n",
    "3. Merge side by side 2 halves"
   ]
  },
  {
   "cell_type": "code",
   "execution_count": 7,
   "metadata": {},
   "outputs": [
    {
     "name": "stdout",
     "output_type": "stream",
     "text": [
      "(1) => 9 -> 2 -> 8 -> 3 -> 7 -> 4 -> 6 -> 5 -> \n"
     ]
    }
   ],
   "source": [
    "import math\n",
    "def reorderList(head: Optional[ListNode]) -> None:\n",
    "    \"\"\"\n",
    "    Do not return anything, modify head in-place instead.\n",
    "    \"\"\"\n",
    "    # find middle\n",
    "    s, f = head, head\n",
    "    while f.next and f.next.next:\n",
    "        s = s.next\n",
    "        f = f.next.next\n",
    "    \n",
    "    #split\n",
    "    se = s.next #saved second half\n",
    "    s.next = None #cut tail at mid\n",
    "    #mid 's' still belongs to head -> cut tail of head\n",
    "    \n",
    "    #Reverse\n",
    "    prev = None\n",
    "    while se:\n",
    "        tm = se.next\n",
    "        se.next = prev\n",
    "        prev = se\n",
    "        se = tm\n",
    "    \n",
    "    se = prev #prev is reversed list\n",
    "    \n",
    "    #Merge 2 halves\n",
    "    \n",
    "    fi = head #first half\n",
    "    \n",
    "    while fi and se:\n",
    "        fnext, snext = fi.next, se.next\n",
    "        fi.next = se\n",
    "        se.next = fnext\n",
    "        fi, se = fnext,snext\n",
    "    return head #for testing\n",
    "    \n",
    "head = [1,2,3,4,5,6,7,8,9]\n",
    "\n",
    "head1 = create_list(head)\n",
    "\n",
    "print(reorderList(head1))"
   ]
  },
  {
   "cell_type": "markdown",
   "metadata": {},
   "source": [
    "#### [19. Remove Nth Node From End of List](https://leetcode.com/problems/remove-nth-node-from-end-of-list/)"
   ]
  },
  {
   "cell_type": "code",
   "execution_count": 15,
   "metadata": {},
   "outputs": [
    {
     "name": "stdout",
     "output_type": "stream",
     "text": [
      "(2) => \n"
     ]
    }
   ],
   "source": [
    "def removeNthFromEnd(head: Optional[ListNode], n: int) -> Optional[ListNode]:\n",
    "    \n",
    "    dummy = ListNode()\n",
    "    #Dummy to remove head.\n",
    "    dummy.next = head \n",
    "    l, r = dummy, head\n",
    "\n",
    "    while n > 1:\n",
    "       r = r.next\n",
    "       n -=1\n",
    "    #push r to last\n",
    "    while r.next: \n",
    "        r = r.next\n",
    "        l = l.next\n",
    "    l.next = l.next.next\n",
    "    \n",
    "    return dummy.next\n",
    "\n",
    "head = [1,2]\n",
    "\n",
    "head1 = create_list(head)\n",
    "print(removeNthFromEnd(head1,2))\n",
    "        \n",
    "       "
   ]
  },
  {
   "cell_type": "markdown",
   "metadata": {},
   "source": [
    "#### [287. Find the Duplicate Number](https://leetcode.com/problems/find-the-duplicate-number/description/)"
   ]
  },
  {
   "cell_type": "code",
   "execution_count": 3,
   "metadata": {},
   "outputs": [],
   "source": [
    "def findDuplicate(nums: list[int]) -> int:\n",
    "    #floyd's hare and tortoise\n",
    "    \n",
    "    s,f = 0, 0\n",
    "    #do while loop instead of while s!=f to run the first loop\n",
    "    while True:\n",
    "        s = nums[s]\n",
    "        f = nums[nums[f]]\n",
    "        if s == f:\n",
    "            break\n",
    "\n",
    "    #when s and f meet, set f to beginning\n",
    "    f = 0\n",
    "    #each takes 1 steps\n",
    "    while s != f :\n",
    "        s = nums[s]\n",
    "        f = nums[f]\n",
    "            \n",
    "    return s"
   ]
  },
  {
   "cell_type": "markdown",
   "metadata": {},
   "source": [
    "#### [2. Add Two Numbers](https://leetcode.com/problems/add-two-numbers/)"
   ]
  },
  {
   "cell_type": "code",
   "execution_count": 5,
   "metadata": {},
   "outputs": [
    {
     "data": {
      "text/plain": [
       "(8) => 9 -> 9 -> 9 -> 0 -> 0 -> 0 -> 1 -> "
      ]
     },
     "execution_count": 5,
     "metadata": {},
     "output_type": "execute_result"
    }
   ],
   "source": [
    "def addTwoNumbers(l1: Optional[ListNode], l2: Optional[ListNode]) -> Optional[ListNode]:\n",
    "        res = ListNode()\n",
    "        temp = res\n",
    "        carr = 0 #carry\n",
    "        \n",
    "        #finsih loop while both l1 and l2 end\n",
    "        while l1 or l2:\n",
    "            \n",
    "            if l1 and l2:\n",
    "                ssum = l1.val + l2.val + carr\n",
    "            elif l1:\n",
    "                ssum = l1.val + carr \n",
    "            elif l2:\n",
    "                ssum = l2.val + carr\n",
    "            \n",
    "            temp.val = ssum%10\n",
    "            carr = ssum//10\n",
    "\n",
    "            l1 = l1.next if l1 else None\n",
    "            l2 = l2.next if l2 else None\n",
    "            \n",
    "            if l1 or l2:\n",
    "                temp.next = ListNode()\n",
    "                temp = temp.next\n",
    "                \n",
    "        if carr == 1:\n",
    "            temp.next = ListNode()\n",
    "            temp = temp.next\n",
    "            temp.val = 1\n",
    "        return res\n",
    "l1 = create_list([9,9,9,9,9,9,9])\n",
    "l2 = create_list([9,9,9,9])\n",
    "addTwoNumbers(l1,l2)"
   ]
  },
  {
   "cell_type": "markdown",
   "metadata": {},
   "source": [
    "#### [146. LRU Cache](https://leetcode.com/problems/lru-cache/)"
   ]
  },
  {
   "cell_type": "markdown",
   "metadata": {},
   "source": [
    "1. <b> <font color='yellow'>Lessons</font> </b>\n",
    "To reduce complexity of code, reduce edge case where **head** and **tail** may not have **prev** and **next** like other nodes\n",
    "\n",
    "    -> Create nodes next to head and tail like left, right that points to head, tail. To refer head/tail, only used left.next or right.prev"
   ]
  },
  {
   "cell_type": "markdown",
   "metadata": {},
   "source": [
    "2. <b> <font color='yellow'>Approach</font> </b> LinkedList + HashMap for Put O(1) + Get O(1)\n",
    "- array inefficient for changing the order of elements from most to least recently used\n",
    "\n",
    "- To get any element O(1), we need to know the parent node of get node for order transition (getnode -> head, parent->get.next)\n",
    "- To retrieve parent node O(1), node must point to **parent** \n",
    "                \n",
    "            -> doule linkedlist\n",
    "\n",
    "- hashmap for put only is ineffecient for remaining the order of most to LRU element, need to corporate **linkedlist**.\n",
    "\n",
    "\n"
   ]
  },
  {
   "cell_type": "code",
   "execution_count": 12,
   "metadata": {},
   "outputs": [
    {
     "name": "stdout",
     "output_type": "stream",
     "text": [
      "get 1 -1\n",
      "get 2 3\n",
      "(0) => \n",
      "{2: (2: 3), 4: (4: 1)}\n"
     ]
    }
   ],
   "source": [
    "class LRUCache:\n",
    "\n",
    "    def __init__(self, capacity: int):\n",
    "        self.capacity = capacity\n",
    "        self.head = Node(0,0) #most recent used\n",
    "        self.tail = Node(0,0) #least recent used\n",
    "        self.mdict = {}\n",
    "        self.tail.next, self.head.prev = self.head, self.tail\n",
    "        \n",
    "        \n",
    "    def remove(self,node):\n",
    "        #all nodes have prev and next thanks to head and tail\n",
    "        prev, next = node.prev, node.next\n",
    "        prev.next = next\n",
    "        next.prev = prev\n",
    "        \n",
    "    def insert(self,node):\n",
    "        prev, next = self.head.prev, self.head\n",
    "        prev.next = next.prev =node\n",
    "        node.next, node.prev = next, prev\n",
    "        \n",
    "        \n",
    "        \n",
    "    def get(self, key: int) -> int:\n",
    "        if key not in self.mdict:\n",
    "            print(\"get: \",-1)\n",
    "\n",
    "            return -1\n",
    "        node = self.mdict[key]\n",
    "        #each time use the element, remove and reinsert\n",
    "        self.remove(node)\n",
    "        self.insert(node)\n",
    "        print(\"get: \",node.val)\n",
    "        return node.val\n",
    "    \n",
    "    def put(self, key: int, value: int) -> None:\n",
    "        \n",
    "        if key in self.mdict:\n",
    "            self.remove(self.mdict[key])\n",
    "            \n",
    "        nNode = Node(key=key, val=value)\n",
    "        #add to dict and list\n",
    "        self.mdict[key] = nNode\n",
    "        self.insert(nNode)\n",
    "        \n",
    "        #dismiss LRU\n",
    "        if len(self.mdict) > self.capacity:\n",
    "            lru = self.tail.next\n",
    "            self.remove(lru)\n",
    "            self.mdict.pop(lru.key)\n",
    "\n",
    "            \n",
    "        \n",
    "    def __str__(self) -> str:\n",
    "        s = \"(\"+ str(self.head.val) + \") => \"\n",
    "        tm = self.head.next\n",
    "        while tm:\n",
    "            s += str(tm.val) + \" -> \"\n",
    "            tm = tm.next\n",
    "        s+='\\n'\n",
    "        s+=str(self.mdict)\n",
    "        return s\n",
    "   \n",
    "    def __repr__(self):\n",
    "        s = \"(\"+ str(self.head.val) + \") => \"\n",
    "        tm = self.head.next\n",
    "        while tm:\n",
    "            s += str(tm.val) + \" -> \"\n",
    "            tm = tm.next\n",
    "        s+='\\n'\n",
    "        s+=str(self.mdict)\n",
    "        return s\n",
    "class Node():\n",
    "    def __init__(self, key, val, next = None, prev=None):\n",
    "        self.key = key\n",
    "        self.val = val\n",
    "        self.next = next\n",
    "        self.prev = prev\n",
    "    def __str__(self) -> str:\n",
    "        return \"(\" +  str(self.key) + \": \" + str(self.val) + \")\"\n",
    "    def __repr__(self) -> str:\n",
    "        return \"(\" + str(self.key) + \": \" + str(self.val) + \")\"\n",
    "\n",
    "capacity = 1\n",
    "\n",
    "obj = LRUCache(capacity)\n",
    "# param_1 = obj.get(3)\n",
    "obj.put(2, 1)\n",
    "obj.get(2)\n",
    "obj.put(3, 2)\n",
    "obj.get(2)\n",
    "obj.get(3)\n",
    "\n",
    "# obj.put(4, 1)\n",
    "print(obj)"
   ]
  },
  {
   "cell_type": "markdown",
   "metadata": {},
   "source": [
    "#### [138. Copy List with Random Pointer](https://leetcode.com/problems/add-two-numbers/)\n"
   ]
  },
  {
   "cell_type": "markdown",
   "metadata": {},
   "source": [
    "Approach: Go through 2 iterations\n",
    "1. Create new deep copy nodes, map old nodes to new nodes in dict\n",
    "\n",
    "2. Linked nodes' next and rands\n",
    "- Link rands by mapping new nodes in dict by using relationships in old nodes\n",
    "\n",
    "\n"
   ]
  },
  {
   "cell_type": "code",
   "execution_count": 1,
   "metadata": {},
   "outputs": [],
   "source": [
    "#debug helpers\n",
    "def create_linked_list(head_list):\n",
    "    if not head_list:\n",
    "        return None\n",
    "\n",
    "    # Create nodes and store them in a dictionary with their indices\n",
    "    nodes = {}\n",
    "    for i, (val, _) in enumerate(head_list):\n",
    "        nodes[i] = Node(val)\n",
    "\n",
    "    # Connect nodes based on the second element of each sublist\n",
    "    for i, (_, random_index) in enumerate(head_list):\n",
    "        if random_index is not None:\n",
    "            nodes[i].random = nodes[random_index]\n",
    "\n",
    "    # Connect nodes based on their order in the original list\n",
    "    for i in range(len(head_list) - 1):\n",
    "        nodes[i].next = nodes[i + 1]\n",
    "\n",
    "    return nodes[0]\n"
   ]
  },
  {
   "cell_type": "code",
   "execution_count": 2,
   "metadata": {},
   "outputs": [],
   "source": [
    "class Node:\n",
    "    def __init__(self, x: int, next: 'Node' = None, random: 'Node' = None):\n",
    "        self.val = int(x)\n",
    "        self.next = next\n",
    "        self.random = random\n",
    "    def __repr__(self):\n",
    "        current = self\n",
    "        s = \"\"\n",
    "        while current:\n",
    "            value = current.val\n",
    "            random_node = current.random.val if current.random else None\n",
    "            s+=f\"({value}, {random_node}) -> \"\n",
    "            current = current.next\n",
    "        s+=\"None\"\n",
    "        return s\n",
    "    \n"
   ]
  },
  {
   "cell_type": "code",
   "execution_count": 6,
   "metadata": {},
   "outputs": [
    {
     "data": {
      "text/plain": [
       "(7, None) -> (13, 7) -> (11, 1) -> (10, 11) -> (1, 7) -> None"
      ]
     },
     "execution_count": 6,
     "metadata": {},
     "output_type": "execute_result"
    }
   ],
   "source": [
    "from typing import Optional\n",
    "\n",
    "def copyRandomList(head: 'Optional[Node]') -> 'Optional[Node]':\n",
    "        \n",
    "        temp = head\n",
    "        mdict = {None: None} #in case mdict[temp.next] or mdict[temp.random] null \n",
    "        \n",
    "        #map in dict {Key: Val} = {Original Node: New Node}\n",
    "        while temp:\n",
    "                mdict[temp] = Node(temp.val)\n",
    "                temp = temp.next\n",
    "        \n",
    "        temp = head\n",
    "        \n",
    "        while temp:\n",
    "                copiedN = mdict[temp]\n",
    "                #copiedN is the copied verson of temp\n",
    "                # mdict[temp.random] is the copied version of temp.random\n",
    "                # => mdict[temp.random] is random version of newNode\n",
    "                # So as \"next\"\n",
    "                copiedN.next = mdict[temp.next]\n",
    "                #mdict[temp.random] is the deep copied node newNode.random\n",
    "                copiedN.random = mdict[temp.random]\n",
    "                temp = temp.next\n",
    "                \n",
    "        return mdict[head]\n",
    "\n",
    "\n",
    "head_list = [[7, None], [13, 0], [11, 4], [10, 2], [1, 0]]\n",
    "head_node = create_linked_list(head_list)\n",
    "\n",
    "\n",
    "\n",
    "copyRandomList(head_node)\n",
    "        \n",
    "        "
   ]
  },
  {
   "cell_type": "markdown",
   "metadata": {},
   "source": [
    "## Trees"
   ]
  },
  {
   "cell_type": "markdown",
   "metadata": {},
   "source": [
    "### Easy"
   ]
  },
  {
   "cell_type": "markdown",
   "metadata": {},
   "source": [
    "#### Init Tree"
   ]
  },
  {
   "cell_type": "code",
   "execution_count": 2,
   "metadata": {},
   "outputs": [],
   "source": [
    "from typing import Optional\n",
    "class TreeNode:\n",
    "    def __init__(self, val=0, left=None, right=None):\n",
    "        self.val = val\n",
    "        self.left = left\n",
    "        self.right = right\n",
    "    def __repr__(self):\n",
    "        result = \"tree: {\"\n",
    "        queue = [self]\n",
    "\n",
    "        while queue:\n",
    "            current = queue.pop(0)\n",
    "\n",
    "            if current:\n",
    "                result += str(current.val) + \" \"\n",
    "\n",
    "                # Enqueue left and right children\n",
    "                queue.append(current.left)\n",
    "                queue.append(current.right)\n",
    "            else:\n",
    "                result += \"null \"\n",
    "        result += \"}\"\n",
    "        return result.rstrip()\n",
    "def to_tree(lst):\n",
    "    if not lst:\n",
    "        return None\n",
    "\n",
    "    root = TreeNode(lst[0])\n",
    "    nodes = [root]\n",
    "    i = 1\n",
    "\n",
    "    while nodes and i < len(lst):\n",
    "        current = nodes.pop(0)\n",
    "\n",
    "        if lst[i] is not None:\n",
    "            current.left = TreeNode(lst[i])\n",
    "            nodes.append(current.left)\n",
    "\n",
    "        i += 1\n",
    "\n",
    "        if i < len(lst) and lst[i] is not None:\n",
    "            current.right = TreeNode(lst[i])\n",
    "            nodes.append(current.right)\n",
    "\n",
    "        i += 1\n",
    "\n",
    "    return root\n",
    "# root = [3,9,20,None,None,15,7]\n",
    "# mtree = to_tree(root)\n",
    "# mtree\n"
   ]
  },
  {
   "cell_type": "markdown",
   "metadata": {},
   "source": [
    "#### [226. Invert Binary Tree](https://leetcode.com/problems/invert-binary-tree/)"
   ]
  },
  {
   "cell_type": "code",
   "execution_count": 9,
   "metadata": {},
   "outputs": [],
   "source": [
    "#DFS stack call\n",
    "def invertTree(root: Optional[TreeNode]) -> Optional[TreeNode]:\n",
    "    #if have no child\n",
    "    if not root:\n",
    "        return\n",
    "    #perform first, call stack later\n",
    "    temp = root.left\n",
    "    root.left = root.right\n",
    "    root.right = temp\n",
    "    \n",
    "    invertTree(root.left)\n",
    "    invertTree(root.right)\n",
    "    return root"
   ]
  },
  {
   "cell_type": "markdown",
   "metadata": {},
   "source": [
    "#### [104. Maximum Depth of Binary Tree](https://leetcode.com/problems/maximum-depth-of-binary-tree/) \n",
    "All solutions' complexity is O(n) <a id='maxdepth'></a>"
   ]
  },
  {
   "cell_type": "markdown",
   "metadata": {},
   "source": [
    "**DFS Recursive**"
   ]
  },
  {
   "cell_type": "code",
   "execution_count": 6,
   "metadata": {},
   "outputs": [],
   "source": [
    "def maxDepth(root: Optional[TreeNode]) -> int:\n",
    "    if not root:\n",
    "        return 0\n",
    "    return 1 + max(maxDepth(root.left), maxDepth(root.right))"
   ]
  },
  {
   "cell_type": "markdown",
   "metadata": {},
   "source": [
    "**DFS Iterative**\n",
    "1. Use a stack to record [[node, node.depth]]. Init with [root:1]\n",
    "2. DFS because the added e to stack will go deep down (keep popping and processing child of child, because child of child added to top)\n",
    "3. Pseudocode\n",
    " While stack not empty:\n",
    "    \n",
    "    pop node -> append {children : parent.level++}\n",
    "    \n",
    "    maxlevel = max(maxlevel, node.level)"
   ]
  },
  {
   "cell_type": "code",
   "execution_count": 35,
   "metadata": {},
   "outputs": [
    {
     "name": "stdout",
     "output_type": "stream",
     "text": [
      "3\n"
     ]
    }
   ],
   "source": [
    "from collections import OrderedDict\n",
    "def maxDepth(root: Optional[TreeNode]) -> int:\n",
    "    if not root:\n",
    "        return 0\n",
    "    maxd = 1\n",
    "    stack = [[root, 1]]\n",
    "    while stack:\n",
    "        node, ndepth = stack.pop()\n",
    "        #no need to check left, right since added null will just be popped\n",
    "        if node:\n",
    "            stack.append([node.left, ndepth+1])\n",
    "            stack.append([node.right, ndepth+1])\n",
    "            maxd = max(maxd, ndepth)\n",
    "    return maxd\n",
    "\n",
    "root = [3,9,20,None,None,15,7]\n",
    "print(maxDepth(to_tree(root)))"
   ]
  },
  {
   "cell_type": "markdown",
   "metadata": {},
   "source": [
    "**BFS (Iterative)**\n",
    "1. Queue: deque([root]), level = 1\n",
    "2. Each time popnode = deque.popleft:  Pop \"node\", add node's left, child if available. level++.\n",
    "3. ...Until deque empty"
   ]
  },
  {
   "cell_type": "code",
   "execution_count": 28,
   "metadata": {},
   "outputs": [
    {
     "name": "stdout",
     "output_type": "stream",
     "text": [
      "tree: {3 9 20 null null 15 7 null null null null }\n",
      "3\n"
     ]
    }
   ],
   "source": [
    "from collections import deque \n",
    "def maxDepth(root: Optional[TreeNode]) -> int:\n",
    "    #edge case: empty root\n",
    "    if not root:\n",
    "        return 0 \n",
    "\n",
    "    level = 0\n",
    "    #init the queue of list [] starting with root\n",
    "    q = deque([root])\n",
    "    \n",
    "    #while the added children not null\n",
    "    while q:\n",
    "        #pop parents level and add children levels\n",
    "        for i in range(len(q)):\n",
    "            popnode = q.popleft()\n",
    "            if popnode.left:\n",
    "                q.append(popnode.left)\n",
    "            if popnode.right:\n",
    "                q.append(popnode.right)\n",
    "        level+=1 #level increase\n",
    "    \n",
    "    return level\n",
    "\n",
    "root = [3,9,20,None,None,15,7]\n",
    "mtree = to_tree(root)\n",
    "print(maxDepth(mtree))"
   ]
  },
  {
   "cell_type": "markdown",
   "metadata": {},
   "source": [
    "#### [543. Diameter of Binary Tree](https://leetcode.com/problems/diameter-of-binary-tree/)"
   ]
  },
  {
   "cell_type": "markdown",
   "metadata": {},
   "source": [
    "***Brainstorm**: DFS gives us:  Each iter, we all can attain depth of two subtrees:\n",
    "**Lchild.depth, Rchild.depth**\n",
    "\n",
    "- p.depth = max(Lchild.depth,Rchild.depth) + 1\n",
    "- p.diameter = Lchild.depth + Rchild.depth\n",
    "\n",
    "\n",
    "Use DFS to find the max diameter of each node (subtree)\n",
    "1. Go down to bottom left node. Start cal from that node.\n",
    "2. Cal depth of l, r of that node.\n",
    "3. Cal diamter of each node, compared to current maxdiameter\n",
    "\n",
    "(DFS recursive): l, r = dfs(left), dfs(right)\n"
   ]
  },
  {
   "cell_type": "code",
   "execution_count": 7,
   "metadata": {},
   "outputs": [
    {
     "name": "stdout",
     "output_type": "stream",
     "text": [
      "0\n"
     ]
    }
   ],
   "source": [
    "def diameterOfBinaryTree(root: Optional[TreeNode]) -> int:\n",
    "     #global max variable\n",
    "    maxd = 0\n",
    "    \n",
    "    #find height of any node\n",
    "    def dfs(root):\n",
    "        if not root:\n",
    "            return 0 #null height is -1\n",
    "        \n",
    "        #count depth of l and r\n",
    "        l = dfs(root.left)\n",
    "        r = dfs(root.right)\n",
    "        \n",
    "        # count this node's diameter -> compared to global max\n",
    "        global maxd\n",
    "        maxd = max(maxd, l + r)\n",
    "        \n",
    "        return 1 + max(l, r) #depth of node\n",
    "    \n",
    "    dfs(root)\n",
    "    return maxd\n",
    "root = [1,2,3,4,5,None,None]\n",
    "mtree = to_tree(root)\n",
    "print(diameterOfBinaryTree(mtree))"
   ]
  },
  {
   "cell_type": "markdown",
   "metadata": {},
   "source": [
    "#### [110. Balanced Binary Tree](https://leetcode.com/problems/balanced-binary-tree/)"
   ]
  },
  {
   "cell_type": "markdown",
   "metadata": {},
   "source": [
    "A height-balanced binary tree: depth of the two subtrees of every node never differs by more than one."
   ]
  },
  {
   "cell_type": "markdown",
   "metadata": {},
   "source": [
    "**Learned**: More optimal because keep returning -1 when finish, Look at **count** below\n",
    "\n",
    "- Keep returning -1 will not bother this line return 1 + max(left, right) because:\n",
    "- When -1 is assigned to eather left, right. The next step is keep returning -1 to the prev assigned parent (or left, right of grandparent again) and\n",
    "\n",
    "and keep returning -1 instead of keep cal abs and 1+max.\n"
   ]
  },
  {
   "cell_type": "code",
   "execution_count": 41,
   "metadata": {},
   "outputs": [
    {
     "name": "stdout",
     "output_type": "stream",
     "text": [
      "Backtracking count 7\n",
      "False\n"
     ]
    }
   ],
   "source": [
    "def isBalanced(root: Optional[TreeNode]) -> bool:\n",
    "        count = 0\n",
    "\n",
    "        def dfs(root) -> int:\n",
    "            if not root:\n",
    "                return 0\n",
    "            \n",
    "            left = dfs(root.left)\n",
    "            #Exit earlier helpers: Keep returning back -1, not cal abs and 1+max anymore\n",
    "            if left == -1: # EE\n",
    "                return -1\n",
    "            \n",
    "            right = dfs(root.right)\n",
    "            if right == -1: #EE\n",
    "                return -1\n",
    "            nonlocal count # EE view\n",
    "            count += 1\n",
    "            if abs(left - right) > 1:\n",
    "                return -1 # EE\n",
    "\n",
    "            #Keep returning 1 will not bother this line because\n",
    "            return 1 + max(left, right)\n",
    "        \n",
    "        b = dfs(root)\n",
    "        print(\"Backtracking count\", count)\n",
    "        return b != -1\n",
    "\n",
    "root = [1,2,2,3,3,None,None,4,4, None, None, 5,5, None, None, 6,6, None, None, 7,7,None, None, 8,8]\n",
    "mtree = to_tree(root)\n",
    "print(isBalanced(mtree))"
   ]
  },
  {
   "cell_type": "code",
   "execution_count": 42,
   "metadata": {},
   "outputs": [
    {
     "name": "stdout",
     "output_type": "stream",
     "text": [
      "Backtracking count 15\n",
      "False\n"
     ]
    }
   ],
   "source": [
    "def isBalanced(root: Optional[TreeNode]) -> bool:\n",
    "    res = True\n",
    "    count = 0\n",
    "    def dfs(root) -> int:\n",
    "        if not root:\n",
    "            return 0\n",
    "        #get l, r depth\n",
    "        l = dfs(root.left)\n",
    "        r = dfs(root.right)\n",
    "        #Code needs to use l, r\n",
    "        nonlocal count\n",
    "        count +=1\n",
    "        if abs(l - r) > 1:\n",
    "            nonlocal res\n",
    "            res = False\n",
    "            return 0\n",
    "        \n",
    "        return 1 + max(l,r)\n",
    "    dfs(root)\n",
    "    print(\"Backtracking count\",count)\n",
    "    return res\n",
    "root = [1,2,2,3,3,None,None,4,4, None, None, 5,5, None, None, 6,6, None, None, 7,7,None, None, 8,8]\n",
    "mtree = to_tree(root)\n",
    "print(isBalanced(mtree))"
   ]
  },
  {
   "cell_type": "markdown",
   "metadata": {},
   "source": [
    "#### [100. Same Tree](https://leetcode.com/problems/same-tree/)"
   ]
  },
  {
   "cell_type": "markdown",
   "metadata": {},
   "source": [
    "**Top down approach**: Check from the root to l, r children.\n",
    "- Only keep going down if not found unmatched yet."
   ]
  },
  {
   "cell_type": "code",
   "execution_count": 54,
   "metadata": {},
   "outputs": [
    {
     "name": "stdout",
     "output_type": "stream",
     "text": [
      "True\n"
     ]
    }
   ],
   "source": [
    "def isSameTree(p: Optional[TreeNode], q: Optional[TreeNode]) -> bool:\n",
    "    if not p and not q: #equal if both NULLs\n",
    "        return True\n",
    "    if p and q and p.val == q.val: #only go down if equal\n",
    "        \n",
    "        return isSameTree(p.left, q.left) and isSameTree(p.right, q.right)\n",
    "    \n",
    "    #assign false to parent otherwise, stop going down here.\n",
    "    return False "
   ]
  },
  {
   "cell_type": "markdown",
   "metadata": {},
   "source": [
    "**DFS approach**: Bottom up: check equal subtrees and pop up"
   ]
  },
  {
   "cell_type": "code",
   "execution_count": 55,
   "metadata": {},
   "outputs": [
    {
     "name": "stdout",
     "output_type": "stream",
     "text": [
      "True\n"
     ]
    }
   ],
   "source": [
    "def isSameTree(p: Optional[TreeNode], q: Optional[TreeNode]) -> bool:\n",
    "    def dfs(p, q):\n",
    "        if not p and not q:\n",
    "            return True\n",
    "        if p and q:\n",
    "            l = dfs(p.left, q.left)\n",
    "            if not l:\n",
    "                return False\n",
    "            r = dfs(p.right, q.right)\n",
    "            if not r:\n",
    "                return False\n",
    "            return p.val == q.val\n",
    "        else:\n",
    "            return False\n",
    "    return dfs(p,q)"
   ]
  },
  {
   "cell_type": "markdown",
   "metadata": {},
   "source": [
    "#### [572. Subtree of Another Tree](https://leetcode.com/problems/subtree-of-another-tree/description/)"
   ]
  },
  {
   "cell_type": "markdown",
   "metadata": {},
   "source": [
    "Fastest: O(n+m+n) ~ Linear\n",
    "1. DFS rec: get string traversal of sub and tree. check if sub in tree\n",
    "Slower: O(mn)\n",
    "2. DFS rec: While traversing dfs, check if subtree of each node in **root** is isSameTree as **subRoot**"
   ]
  },
  {
   "cell_type": "code",
   "execution_count": 21,
   "metadata": {},
   "outputs": [
    {
     "name": "stdout",
     "output_type": "stream",
     "text": [
      "True\n"
     ]
    }
   ],
   "source": [
    "#Approach 1: O(n+m+n)\n",
    "def isSubtree(root: TreeNode, subRoot: TreeNode) -> bool:\n",
    "    strr = \"\"\n",
    "\n",
    "    def s_dfs(root):\n",
    "        if root:\n",
    "            nonlocal strr\n",
    "        \n",
    "            return strr + \" \" +str(root.val) + s_dfs(root.left) + s_dfs(root.right)\n",
    "        \n",
    "        return \"null\"\n",
    "    \n",
    "    strsub= s_dfs(subRoot)   #O(n)\n",
    "    strtree = s_dfs(root)#O(m)\n",
    "    \n",
    "    if strsub in strtree: #O(n)\n",
    "        return True\n",
    "    return False\n",
    "    \n",
    "root = [3,4,5,1,2]\n",
    "subRoot = [4,1,2]\n",
    "\n",
    "print(isSubtree(to_tree(root), to_tree(subRoot)))"
   ]
  },
  {
   "cell_type": "code",
   "execution_count": null,
   "metadata": {},
   "outputs": [
    {
     "name": "stdout",
     "output_type": "stream",
     "text": [
      "True\n"
     ]
    }
   ],
   "source": [
    "#Approach 2: O(mn)\n",
    "def isSubtree(root: TreeNode, subRoot: TreeNode) -> bool:\n",
    "    def isSameTree(q,p) -> bool:\n",
    "        if not q and not p:\n",
    "            return True\n",
    "        \n",
    "        if p and q and p == q:\n",
    "            return isSameTree(p.left,q.left) and isSameTree(p.right,q.right) \n",
    "    \n",
    "root = [3,4,5,1,2]\n",
    "subRoot = [4,1,2]\n",
    "\n",
    "print(isSubtree(to_tree(root), to_tree(subRoot)))"
   ]
  },
  {
   "cell_type": "markdown",
   "metadata": {},
   "source": [
    "## 2D Arrays"
   ]
  },
  {
   "cell_type": "markdown",
   "metadata": {},
   "source": [
    "## Hackerranks - learned to remember"
   ]
  },
  {
   "cell_type": "markdown",
   "metadata": {},
   "source": [
    "#### [Bitwise AND count pairs](https://www.geeksforgeeks.org/count-of-pairs-whose-bitwise-and-is-a-power-of-2/) xxxx dont understand"
   ]
  },
  {
   "cell_type": "markdown",
   "metadata": {},
   "source": [
    "Power of 2 (num) means: num and num&(a-1)==0"
   ]
  },
  {
   "cell_type": "code",
   "execution_count": 1,
   "metadata": {},
   "outputs": [
    {
     "name": "stdout",
     "output_type": "stream",
     "text": [
      "4\n"
     ]
    }
   ],
   "source": [
    "from collections import defaultdict\n",
    "def countPairs(arr: list[int], n: int) -> int:\n",
    "    # Initialize answer and maximum value in the array\n",
    "    ans, mx = 0, 0\n",
    "    # Create a defaultdict to store the frequency of each integer in the array\n",
    "    mp = defaultdict(int)\n",
    "    # Iterate through each integer in the array\n",
    "    for ai in arr:\n",
    "        # Update the frequency of each integer in the defaultdict\n",
    "        mp[ai] += 1\n",
    "        # Update the maximum value in the array\n",
    "        mx = max(mx, ai)\n",
    "    # Iterate through each integer i from 0 to mx\n",
    "    for i in range(mx+1):\n",
    "        # If i is not present in the defaultdict, skip to the next integer\n",
    "        if i not in mp:\n",
    "            continue\n",
    "        # Iterate through each integer j from i to mx\n",
    "        for j in range(i, mx+1):\n",
    "            # If j is not present in the defaultdict, skip to the next integer\n",
    "            if j not in mp:\n",
    "                continue\n",
    "            # Check if the bitwise AND of i and j has only one set bit\n",
    "            if bin(i & j).count('1') == 1:\n",
    "                # If i is equal to j, add the product of nCr(mp.get(i), 2) \n",
    "                # to the answer\n",
    "                if i == j:\n",
    "                    ans += (mp[i] * (mp[i]-1)) // 2\n",
    "                # If i is not equal to j, add the product of mp.get(i) \n",
    "                # and mp.get(j) to the answer\n",
    "                else:\n",
    "                    ans += mp[i] * mp[j]\n",
    "    # Return the answer\n",
    "    return ans\n",
    "arr = [6, 4, 2, 3]\n",
    "n = len(arr)\n",
    "print(countPairs(arr, n))"
   ]
  },
  {
   "cell_type": "markdown",
   "metadata": {},
   "source": [
    "#### [Largest Rectangle Area after drawing each boundary](https://leetcode.com/discuss/interview-question/1225894/largest-rectangle-area-after-drawing-each-boundary)"
   ]
  },
  {
   "cell_type": "markdown",
   "metadata": {},
   "source": [
    "Passed sample"
   ]
  },
  {
   "cell_type": "code",
   "execution_count": null,
   "metadata": {},
   "outputs": [
    {
     "name": "stdout",
     "output_type": "stream",
     "text": [
      "[12, 9]\n"
     ]
    }
   ],
   "source": [
    "import math\n",
    "\n",
    "class Node:\n",
    "    def __init__(self, parent, l, r, op=max):\n",
    "        self.parent = parent\n",
    "        self.l = l\n",
    "        self.r = r\n",
    "        self.lc = None\n",
    "        self.rc = None\n",
    "        self.val = r - l\n",
    "        self.op = op\n",
    "    \n",
    "    def split(self, x):\n",
    "        # No balancing, but doesn't seem to give timeouts.\n",
    "        assert self.l <= x <= self.r\n",
    "        if x == self.l or x == self.r:\n",
    "            # Split lies on borders.\n",
    "            return\n",
    "        if self.lc:\n",
    "            if x == self.lc.r:\n",
    "                # Split lies on mid split.\n",
    "                return\n",
    "            if x < self.lc.r:\n",
    "                self.lc.split(x)\n",
    "            else:\n",
    "                self.rc.split(x)\n",
    "            self.val = self.op(self.lc.val, self.rc.val)\n",
    "        else:\n",
    "            self.lc = Node(parent=self, l=self.l, r=x)\n",
    "            self.rc = Node(parent=self, l=x, r=self.r)\n",
    "            self.val = self.op(x - self.l, self.r - x)\n",
    "        \n",
    "def getMaxArea(w, h, isVertical, distance):\n",
    "    w_root = Node(parent=None, l=0, r=w)\n",
    "    h_root = Node(parent=None, l=0, r=h)\n",
    "    ans = []\n",
    "    for iv, d in zip(isVertical, distance):\n",
    "        if iv:\n",
    "            w_root.split(d)\n",
    "        else:\n",
    "            h_root.split(d)\n",
    "        ans.append(w_root.val * h_root.val)\n",
    "    return ans\n",
    "    \n",
    "\n",
    "w = 4\n",
    "h = 4\n",
    "isVertical = [0,1]\n",
    "distance = [3,1]\n",
    "print(getMaxArea(w,h,isVertical,distance))\n"
   ]
  },
  {
   "cell_type": "markdown",
   "metadata": {},
   "source": [
    "Below passed 11/15 tests, passed cert"
   ]
  },
  {
   "cell_type": "code",
   "execution_count": null,
   "metadata": {},
   "outputs": [],
   "source": []
  },
  {
   "cell_type": "code",
   "execution_count": null,
   "metadata": {},
   "outputs": [],
   "source": [
    "def getMaxArea(w, h, isVertical, distance):\n",
    "    # Write your code here\n",
    "    def insort(test_list, k):\n",
    "        for i in range(len(test_list)):\n",
    "            if test_list[i] > k:\n",
    "                break\n",
    "        return test_list[:i] + [k] + test_list[i:]\n",
    "        \n",
    "    maxy = 0\n",
    "    wline = [0,w]\n",
    "    hline = [0,h]\n",
    "    res = []\n",
    "    for i in range(len(isVertical)):\n",
    "        if isVertical[i]:\n",
    "            wline = insort(wline, distance[i])\n",
    "        else:\n",
    "            hline = insort(hline, distance[i])\n",
    "        wmax = 0\n",
    "        hmax = 0\n",
    "        for i in range(1,len(wline)):\n",
    "            if wline[i] - wline[i-1] > wmax:\n",
    "                wmax = wline[i] - wline[i-1]\n",
    "        for i in range(1,len(hline)):\n",
    "            if hline[i] - hline[i-1] > hmax:\n",
    "                hmax = hline[i] - hline[i-1]\n",
    "     \n",
    "        res.append(hmax * wmax)\n",
    "    return res\n"
   ]
  },
  {
   "cell_type": "markdown",
   "metadata": {},
   "source": [
    "#### Road Repairs"
   ]
  },
  {
   "cell_type": "code",
   "execution_count": 7,
   "metadata": {},
   "outputs": [
    {
     "name": "stdout",
     "output_type": "stream",
     "text": [
      "16\n"
     ]
    }
   ],
   "source": [
    "\n",
    "#(5-9, 3-3, 1-1, 4-15, 6-8)\n",
    "def getMinCost(crew_id, job_id):\n",
    "    crew_id.sort()\n",
    "    job_id.sort()\n",
    "    cost = 0\n",
    "    for i in range(len(crew_id)):\n",
    "        cost += abs(job_id[i] - crew_id[i])\n",
    "    return cost\n",
    "\n",
    "crewId = [4,5,1,4,2]\n",
    "jobId = [4,4,5,9,10] \n",
    "print(getMinCost(crewId, jobId))"
   ]
  },
  {
   "cell_type": "markdown",
   "metadata": {},
   "source": [
    "**need to be solved**\n",
    "\n",
    "#### [Total number of triangles formed when there are H horizontal and V vertical lines](https://www.geeksforgeeks.org/total-number-of-triangles-formed-when-there-are-h-horizontal-and-v-vertical-lines/)\n",
    "[Largest area possible after removal of a series of horizontal & vertical bars](https://www.geeksforgeeks.org/largest-area-possible-after-removal-of-a-series-of-horizontal-vertical-bars/)\n",
    "\n",
    "[Count number of triangles cut by the given horizontal and vertical line segments](https://www.geeksforgeeks.org/count-number-of-triangles-cut-by-the-given-horizontal-and-vertical-line-segments/)\n"
   ]
  },
  {
   "cell_type": "markdown",
   "metadata": {},
   "source": [
    "#### [1465. Maximum Area of a Piece of Cake After Horizontal and Vertical Cuts](https://leetcode.com/problems/maximum-area-of-a-piece-of-cake-after-horizontal-and-vertical-cuts/)"
   ]
  },
  {
   "cell_type": "code",
   "execution_count": null,
   "metadata": {},
   "outputs": [],
   "source": []
  }
 ],
 "metadata": {
  "kernelspec": {
   "display_name": "base",
   "language": "python",
   "name": "python3"
  },
  "language_info": {
   "codemirror_mode": {
    "name": "ipython",
    "version": 3
   },
   "file_extension": ".py",
   "mimetype": "text/x-python",
   "name": "python",
   "nbconvert_exporter": "python",
   "pygments_lexer": "ipython3",
   "version": "3.11.3"
  }
 },
 "nbformat": 4,
 "nbformat_minor": 2
}
