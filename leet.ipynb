{
 "cells": [
  {
   "cell_type": "markdown",
   "metadata": {},
   "source": [
    "## Arrays & Hashing"
   ]
  },
  {
   "cell_type": "markdown",
   "metadata": {},
   "source": [
    "### Medium"
   ]
  },
  {
   "cell_type": "markdown",
   "metadata": {},
   "source": [
    "[36. Valid Sudoku](https://leetcode.com/problems/valid-sudoku/)"
   ]
  },
  {
   "cell_type": "code",
   "execution_count": null,
   "metadata": {},
   "outputs": [],
   "source": [
    "from collections import defaultdict \n",
    "#36. Valid Sudoku\n",
    "def isValidSudoku(board: list[list[str]]) -> bool:\n",
    "    #Idea: check if each small square belongs to coordinated-associated rows, cols, and sqr \n",
    "    #Implement: create hashset (dict of sets) as cols, rows and sqr\n",
    "    #each row, col, sqr is a set\n",
    "    #Form of each dict(set): e.g: rows = {0: {set}, 1:{set},...}\n",
    "    cols = defaultdict(set) \n",
    "    rows = defaultdict(set)\n",
    "    sqr = defaultdict(set)\n",
    "\n",
    "    for r in range(9):\n",
    "            for c in range(9):\n",
    "                if board[r][c] == \".\":\n",
    "                    continue\n",
    "                if (\n",
    "                    board[r][c] in rows[r]\n",
    "                    or board[r][c] in cols[c]\n",
    "                    or board[r][c] in sqr[(r // 3, c // 3)]\n",
    "                ):\n",
    "                    return False\n",
    "                cols[c].add(board[r][c])\n",
    "                rows[r].add(board[r][c])\n",
    "                sqr[(r // 3, c // 3)].add(board[r][c])\n",
    "\n",
    "    return True"
   ]
  },
  {
   "cell_type": "markdown",
   "metadata": {},
   "source": [
    "[238. Product of Array Except Self - Pre and pos as arrays](https://leetcode.com/problems/product-of-array-except-self/submissions/1089034138/)"
   ]
  },
  {
   "cell_type": "code",
   "execution_count": 2,
   "metadata": {},
   "outputs": [
    {
     "name": "stdout",
     "output_type": "stream",
     "text": [
      "[1, 2, 6, 24] [24, 24, 12, 4] [24, 12, 8, 6]\n"
     ]
    },
    {
     "data": {
      "text/plain": [
       "[24, 12, 8, 6]"
      ]
     },
     "execution_count": 2,
     "metadata": {},
     "output_type": "execute_result"
    }
   ],
   "source": [
    "def productExceptSelf(nums: list[int]) -> list[int]:\n",
    "    #Create 2 arrays: prefix product and postfix product.\n",
    "    #Output[i] = prefix[i-1] * postfix [i+1]\n",
    "    #Time: O(n), Space: O(3n)\n",
    "    l = len(nums)\n",
    "    pre, pos= [nums[0]]*l, [nums[l-1]]*l\n",
    "    j = l - 2\n",
    "    for i in range(1, l):\n",
    "        pre[i] = pre[i-1] * nums[i]\n",
    "        pos[j] = pos[j+1] * nums[j]\n",
    "        j-=1\n",
    "    #init first and last in output\n",
    "    out = [pos[1]]*l\n",
    "    out[l-1] = pre[l-2]\n",
    "\n",
    "    for i in range(1,l-1):\n",
    "        out[i] = pre[i-1]*pos[i+1]\n",
    "\n",
    "    print(pre, pos, out)\n",
    "    return out\n",
    "\n",
    "nums = [1,2,3,4]\n",
    "productExceptSelf(nums)"
   ]
  },
  {
   "cell_type": "markdown",
   "metadata": {},
   "source": [
    "[238. Product of Array Except Self (2) - Only pos var](https://leetcode.com/problems/product-of-array-except-self/submissions/1089079628/)"
   ]
  },
  {
   "cell_type": "code",
   "execution_count": null,
   "metadata": {},
   "outputs": [],
   "source": [
    "def productExceptSelf(nums: list[int]) -> list[int]:\n",
    "    #Create an preArr stores prefix product up to + (exclude) nums[i]\n",
    "    #Loop from the end of preArr: at each preArr[i], multiply by current postfix product var\n",
    "\n",
    "    #Time: O(n), Space: O(n)\n",
    "    l = len(nums)\n",
    "    out = [1] * l\n",
    "    \n",
    "    #Create an arr stores prefix product up to nums[i] + (exclude) nums[i]\n",
    "    for i in range(1, l):\n",
    "        out[i] = out[i-1] * nums[i-1]\n",
    "    #init first and last in output\n",
    "    pos = nums[l-1]\n",
    "    for i in range(l-2, -1, -1):\n",
    "        out[i] = out[i] * pos  #upto prefix * upto postfix \n",
    "        pos *= nums[i]\n",
    "\n",
    "    print(out)\n",
    "    return out"
   ]
  },
  {
   "cell_type": "markdown",
   "metadata": {},
   "source": [
    "[128. Longest Consecutive Sequence. Original](https://leetcode.com/problems/longest-consecutive-sequence/)"
   ]
  },
  {
   "cell_type": "code",
   "execution_count": null,
   "metadata": {},
   "outputs": [],
   "source": [
    "def longestConsecutive(nums: list[int]) -> int:\n",
    "    #Sort and count the highest\n",
    "    nums.sort()\n",
    "    if len(nums) == 0:\n",
    "        return 0\n",
    "    max = 1\n",
    "    temp = 1\n",
    "    for i in range(1, len(nums)):\n",
    "        if nums[i] == nums[i-1]+1: \n",
    "            temp+=1\n",
    "        elif nums[i] == nums[i-1]:\n",
    "            continue\n",
    "        else:\n",
    "            temp = 1 #reset\n",
    "        if temp > max:\n",
    "            max = temp\n",
    "    print(max)\n",
    "    return max"
   ]
  },
  {
   "cell_type": "markdown",
   "metadata": {},
   "source": [
    "[347. Top K Frequent Elements ](https://leetcode.com/problems/top-k-frequent-elements/submissions/)"
   ]
  },
  {
   "cell_type": "markdown",
   "metadata": {},
   "source": [
    "Bucket sort - Space: Linear, Time: Linear"
   ]
  },
  {
   "cell_type": "code",
   "execution_count": null,
   "metadata": {},
   "outputs": [],
   "source": [
    "def topKFrequent(nums: list[int], k: int) -> list[int]:\n",
    "#bucket sort: create an array where index is the freqs, value is list of nums associating with the freqs\n",
    "# Space: O(N). Size of bucket always <= len(nums) because max freq of any num is len(nums).\n",
    "    count = {} # count dict\n",
    "    \n",
    "    buckets = [[] for i in range (len(nums)+1)] #freqs start from 1 to including len(nums)\n",
    "    \n",
    "    print(buckets)\n",
    "    #manually count instead of collections.Counter(nums)\n",
    "    for n in nums:\n",
    "        count[n] = 1 + count.get(n, 0) #count.get(n, 0) means count[n] = 0 if n has not exist in dict\n",
    "    \n",
    "    #bucket's index is the freqs, value is list of nums associating with the freqs\n",
    "    for num,freq in count.items():\n",
    "        \n",
    "        buckets[freq].append(num)\n",
    "    res = []\n",
    "    for i in range(len(buckets)-1, 0, -1): #start from last index\n",
    "        if len(buckets[i]) == 0:\n",
    "            continue\n",
    "        for num in buckets[i]:\n",
    "            res.append(num)\n",
    "            if len(res) == k:\n",
    "                return res\n",
    "    return res"
   ]
  },
  {
   "cell_type": "markdown",
   "metadata": {},
   "source": [
    "Heap - O(KlogN)"
   ]
  },
  {
   "cell_type": "code",
   "execution_count": 7,
   "metadata": {},
   "outputs": [],
   "source": [
    "def topKFrequent(nums: list[int], k: int) -> list[int]:\n",
    "    count = Counter(nums)\n",
    "    #create a list of tuples (fre, num) for heapifying (we maintain heap by values)\n",
    "    heap = [(fre, num) for (num, fre) in count.items() ]\n",
    "    \n",
    "    heapq._heapify_max(heap)\n",
    "    print(heap)\n",
    "\n",
    "    mlist = []\n",
    "    for i in range(k):\n",
    "        mlist.append(heapq._heappop_max(heap)[1]) #get the num (heap[1])\n",
    "    return mlist"
   ]
  },
  {
   "cell_type": "markdown",
   "metadata": {},
   "source": [
    "## Two Pointers"
   ]
  },
  {
   "cell_type": "markdown",
   "metadata": {},
   "source": [
    "### Medium"
   ]
  },
  {
   "cell_type": "markdown",
   "metadata": {},
   "source": [
    "[167. Two Sum II - Input Array Is Sorted](https://leetcode.com/problems/two-sum-ii-input-array-is-sorted/)"
   ]
  },
  {
   "cell_type": "code",
   "execution_count": null,
   "metadata": {},
   "outputs": [],
   "source": [
    "def twoSum(numbers: list[int], target: int) -> list[int]:\n",
    "    #2 pointers: at start and at end. \n",
    "    # When sum(nums[i]+nums[j])> target -> decrement end p (decrease larger num in the sum)\n",
    "    #sum(nums[i]+nums[j]) < target -> increase start p \n",
    "    #Time: O(n), Space: O(1)\n",
    "\n",
    "    pre, pos = 0, len(numbers)-1\n",
    "    while pre < pos:\n",
    "        sum = numbers[pre]+numbers[pos]\n",
    "        if sum < target:\n",
    "            pre += 1\n",
    "        elif sum > target:\n",
    "            pos -= 1\n",
    "        else:\n",
    "            return [pre+1, pos+1]\n",
    "    return []"
   ]
  },
  {
   "cell_type": "markdown",
   "metadata": {},
   "source": [
    "[15. 3Sum](https://leetcode.com/problems/3sum/)"
   ]
  },
  {
   "cell_type": "code",
   "execution_count": 12,
   "metadata": {},
   "outputs": [],
   "source": [
    "def threeSum(self, nums: list[int]) -> list[list[int]]:\n",
    "    print(\"\")\n"
   ]
  },
  {
   "cell_type": "code",
   "execution_count": null,
   "metadata": {},
   "outputs": [],
   "source": []
  }
 ],
 "metadata": {
  "kernelspec": {
   "display_name": "base",
   "language": "python",
   "name": "python3"
  },
  "language_info": {
   "codemirror_mode": {
    "name": "ipython",
    "version": 3
   },
   "file_extension": ".py",
   "mimetype": "text/x-python",
   "name": "python",
   "nbconvert_exporter": "python",
   "pygments_lexer": "ipython3",
   "version": "3.11.3"
  }
 },
 "nbformat": 4,
 "nbformat_minor": 2
}
