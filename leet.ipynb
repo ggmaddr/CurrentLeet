{
 "cells": [
  {
   "cell_type": "markdown",
   "metadata": {},
   "source": [
    "## Arrays & Hashing"
   ]
  },
  {
   "cell_type": "markdown",
   "metadata": {},
   "source": [
    "### Medium"
   ]
  },
  {
   "cell_type": "markdown",
   "metadata": {},
   "source": [
    "[36. Valid Sudoku](https://leetcode.com/problems/valid-sudoku/)"
   ]
  },
  {
   "cell_type": "code",
   "execution_count": 54,
   "metadata": {},
   "outputs": [],
   "source": [
    "from collections import defaultdict \n",
    "#36. Valid Sudoku\n",
    "def isValidSudoku(board: list[list[str]]) -> bool:\n",
    "    #Idea: check if each small square belongs to coordinated-associated rows, cols, and sqr \n",
    "    #Implement: create hashset (dict of sets) as cols, rows and sqr\n",
    "    #each row, col, sqr is a set\n",
    "    #Form of each dict(set): e.g: rows = {0: {set}, 1:{set},...}\n",
    "    cols = defaultdict(set) \n",
    "    rows = defaultdict(set)\n",
    "    sqr = defaultdict(set)\n",
    "\n",
    "    for r in range(9):\n",
    "            for c in range(9):\n",
    "                if board[r][c] == \".\":\n",
    "                    continue\n",
    "                if (\n",
    "                    board[r][c] in rows[r]\n",
    "                    or board[r][c] in cols[c]\n",
    "                    or board[r][c] in sqr[(r // 3, c // 3)]\n",
    "                ):\n",
    "                    return False\n",
    "                cols[c].add(board[r][c])\n",
    "                rows[r].add(board[r][c])\n",
    "                sqr[(r // 3, c // 3)].add(board[r][c])\n",
    "\n",
    "    return True"
   ]
  },
  {
   "cell_type": "markdown",
   "metadata": {},
   "source": [
    "[238. Product of Array Except Self - Pre and pos as arrays](https://leetcode.com/problems/product-of-array-except-self/submissions/1089034138/)"
   ]
  },
  {
   "cell_type": "code",
   "execution_count": 55,
   "metadata": {},
   "outputs": [
    {
     "name": "stdout",
     "output_type": "stream",
     "text": [
      "[1, 2, 6, 24] [24, 24, 12, 4] [24, 12, 8, 6]\n"
     ]
    },
    {
     "data": {
      "text/plain": [
       "[24, 12, 8, 6]"
      ]
     },
     "execution_count": 55,
     "metadata": {},
     "output_type": "execute_result"
    }
   ],
   "source": [
    "def productExceptSelf(nums: list[int]) -> list[int]:\n",
    "    #Create 2 arrays: prefix product and postfix product.\n",
    "    #Output[i] = prefix[i-1] * postfix [i+1]\n",
    "    #Time: O(n), Space: O(3n)\n",
    "    l = len(nums)\n",
    "    pre, pos= [nums[0]]*l, [nums[l-1]]*l\n",
    "    j = l - 2\n",
    "    for i in range(1, l):\n",
    "        pre[i] = pre[i-1] * nums[i]\n",
    "        pos[j] = pos[j+1] * nums[j]\n",
    "        j-=1\n",
    "    #init first and last in output\n",
    "    out = [pos[1]]*l\n",
    "    out[l-1] = pre[l-2]\n",
    "\n",
    "    for i in range(1,l-1):\n",
    "        out[i] = pre[i-1]*pos[i+1]\n",
    "\n",
    "    print(pre, pos, out)\n",
    "    return out\n",
    "\n",
    "nums = [1,2,3,4]\n",
    "productExceptSelf(nums)"
   ]
  },
  {
   "cell_type": "markdown",
   "metadata": {},
   "source": [
    "[238. Product of Array Except Self (2) - Only pos var](https://leetcode.com/problems/product-of-array-except-self/submissions/1089079628/)"
   ]
  },
  {
   "cell_type": "code",
   "execution_count": 56,
   "metadata": {},
   "outputs": [],
   "source": [
    "def productExceptSelf(nums: list[int]) -> list[int]:\n",
    "    #Create an preArr stores prefix product up to + (exclude) nums[i]\n",
    "    #Loop from the end of preArr: at each preArr[i], multiply by current postfix product var\n",
    "\n",
    "    #Time: O(n), Space: O(n)\n",
    "    l = len(nums)\n",
    "    out = [1] * l\n",
    "    \n",
    "    #Create an arr stores prefix product up to nums[i] + (exclude) nums[i]\n",
    "    for i in range(1, l):\n",
    "        out[i] = out[i-1] * nums[i-1]\n",
    "    #init first and last in output\n",
    "    pos = nums[l-1]\n",
    "    for i in range(l-2, -1, -1):\n",
    "        out[i] = out[i] * pos  #upto prefix * upto postfix \n",
    "        pos *= nums[i]\n",
    "\n",
    "    print(out)\n",
    "    return out"
   ]
  },
  {
   "cell_type": "markdown",
   "metadata": {},
   "source": [
    "[128. Longest Consecutive Sequence. Original](https://leetcode.com/problems/longest-consecutive-sequence/)"
   ]
  },
  {
   "cell_type": "code",
   "execution_count": 57,
   "metadata": {},
   "outputs": [],
   "source": [
    "def longestConsecutive(nums: list[int]) -> int:\n",
    "    #Sort and count the highest\n",
    "    nums.sort()\n",
    "    if len(nums) == 0:\n",
    "        return 0\n",
    "    max = 1\n",
    "    temp = 1\n",
    "    for i in range(1, len(nums)):\n",
    "        if nums[i] == nums[i-1]+1: \n",
    "            temp+=1\n",
    "        elif nums[i] == nums[i-1]:\n",
    "            continue\n",
    "        else:\n",
    "            temp = 1 #reset\n",
    "        if temp > max:\n",
    "            max = temp\n",
    "    print(max)\n",
    "    return max"
   ]
  },
  {
   "cell_type": "markdown",
   "metadata": {},
   "source": [
    "[347. Top K Frequent Elements ](https://leetcode.com/problems/top-k-frequent-elements/submissions/)"
   ]
  },
  {
   "cell_type": "markdown",
   "metadata": {},
   "source": [
    "Bucket sort - Space: Linear, Time: Linear"
   ]
  },
  {
   "cell_type": "code",
   "execution_count": 58,
   "metadata": {},
   "outputs": [],
   "source": [
    "def topKFrequent(nums: list[int], k: int) -> list[int]:\n",
    "#bucket sort: create an array where index is the freqs, value is list of nums associating with the freqs\n",
    "# Space: O(N). Size of bucket always <= len(nums) because max freq of any num is len(nums).\n",
    "    count = {} # count dict\n",
    "    \n",
    "    buckets = [[] for i in range (len(nums)+1)] #freqs start from 1 to including len(nums)\n",
    "    \n",
    "    print(buckets)\n",
    "    #manually count instead of collections.Counter(nums)\n",
    "    for n in nums:\n",
    "        count[n] = 1 + count.get(n, 0) #count.get(n, 0) means count[n] = 0 if n has not exist in dict\n",
    "    \n",
    "    #bucket's index is the freqs, value is list of nums associating with the freqs\n",
    "    for num,freq in count.items():\n",
    "        \n",
    "        buckets[freq].append(num)\n",
    "    res = []\n",
    "    for i in range(len(buckets)-1, 0, -1): #start from last index\n",
    "        if len(buckets[i]) == 0:\n",
    "            continue\n",
    "        for num in buckets[i]:\n",
    "            res.append(num)\n",
    "            if len(res) == k:\n",
    "                return res\n",
    "    return res"
   ]
  },
  {
   "cell_type": "markdown",
   "metadata": {},
   "source": [
    "Heap - O(KlogN)"
   ]
  },
  {
   "cell_type": "code",
   "execution_count": 59,
   "metadata": {},
   "outputs": [],
   "source": [
    "def topKFrequent(nums: list[int], k: int) -> list[int]:\n",
    "    count = Counter(nums)\n",
    "    #create a list of tuples (fre, num) for heapifying (we maintain heap by values)\n",
    "    heap = [(fre, num) for (num, fre) in count.items() ]\n",
    "    \n",
    "    heapq._heapify_max(heap)\n",
    "    print(heap)\n",
    "\n",
    "    mlist = []\n",
    "    for i in range(k):\n",
    "        mlist.append(heapq._heappop_max(heap)[1]) #get the num (heap[1])\n",
    "    return mlist"
   ]
  },
  {
   "cell_type": "markdown",
   "metadata": {},
   "source": [
    "## Two Pointers"
   ]
  },
  {
   "cell_type": "markdown",
   "metadata": {},
   "source": [
    "### Medium"
   ]
  },
  {
   "cell_type": "markdown",
   "metadata": {},
   "source": [
    "[167. Two Sum II - Input Array Is Sorted](https://leetcode.com/problems/two-sum-ii-input-array-is-sorted/)"
   ]
  },
  {
   "cell_type": "code",
   "execution_count": 60,
   "metadata": {},
   "outputs": [],
   "source": [
    "def twoSum(numbers: list[int], target: int) -> list[int]:\n",
    "    #2 pointers: at start and at end. \n",
    "    # When sum(nums[i]+nums[j])> target -> decrement end p (decrease larger num in the sum)\n",
    "    #sum(nums[i]+nums[j]) < target -> increase start p \n",
    "    #Time: O(n), Space: O(1)\n",
    "\n",
    "    pre, pos = 0, len(numbers)-1\n",
    "    while pre < pos:\n",
    "        sum = numbers[pre]+numbers[pos]\n",
    "        if sum < target:\n",
    "            pre += 1\n",
    "        elif sum > target:\n",
    "            pos -= 1\n",
    "        else:\n",
    "            return [pre+1, pos+1]\n",
    "    return []"
   ]
  },
  {
   "cell_type": "markdown",
   "metadata": {},
   "source": [
    "[15. 3Sum](https://leetcode.com/problems/3sum/)"
   ]
  },
  {
   "cell_type": "code",
   "execution_count": 61,
   "metadata": {},
   "outputs": [
    {
     "data": {
      "text/plain": [
       "[[-2, 0, 2], [-2, 1, 1]]"
      ]
     },
     "metadata": {},
     "output_type": "display_data"
    },
    {
     "data": {
      "text/plain": [
       "[[-1, -1, 2], [-1, 0, 1]]"
      ]
     },
     "metadata": {},
     "output_type": "display_data"
    }
   ],
   "source": [
    "def threeSum(nums: list[int]) -> list[list[int]]:\n",
    "    nums.sort()\n",
    "    res = []\n",
    "\n",
    "    #i is pivot\n",
    "    for i in range(len(nums)):\n",
    "        #no repeated triplet\n",
    "        if i > 0 and nums[i] == nums[i-1]:\n",
    "            continue \n",
    "        #can't offset from positive pivot \n",
    "        if nums[i] > 0:\n",
    "            break\n",
    "        l, r = i+1, len(nums)-1\n",
    "        while l < r:\n",
    "            \n",
    "            sum = nums[i]+nums[l]+nums[r]\n",
    "            \n",
    "            if sum == 0:\n",
    "                res.append([nums[i],nums[l],nums[r]])\n",
    "                #only need to update 1 pointer\n",
    "                l+=1 \n",
    "                #no repeated triplet\n",
    "                while nums[l-1] == nums[l] and l<r :\n",
    "                    l+=1\n",
    "                \n",
    "            elif sum > 0:\n",
    "                r-=1\n",
    "            elif sum < 0:\n",
    "                l+=1\n",
    "        \n",
    "    return res\n",
    "nums = [-1,0,1,2,-1,-4]\n",
    "nums1= [-2,0,1,1,2]\n",
    "display(threeSum(nums1))\n",
    "display(threeSum(nums))"
   ]
  },
  {
   "cell_type": "markdown",
   "metadata": {},
   "source": [
    "## Stack"
   ]
  },
  {
   "cell_type": "markdown",
   "metadata": {},
   "source": [
    "### Easy"
   ]
  },
  {
   "cell_type": "markdown",
   "metadata": {},
   "source": [
    "[20. Valid Parentheses](https://leetcode.com/problems/valid-parentheses/)"
   ]
  },
  {
   "cell_type": "code",
   "execution_count": 62,
   "metadata": {},
   "outputs": [],
   "source": [
    "def isValid(s: str) -> bool:\n",
    "    brack = {'{':'}', '[':']', '(':')'}\n",
    "    stack = []\n",
    "    for i in range(len(s)):\n",
    "        if s[i] in brack.keys():\n",
    "            stack.append(s[i])\n",
    "        elif len(stack) != 0:\n",
    "            if s[i] != brack[stack[-1]]: #peek\n",
    "                return False\n",
    "            stack.pop()\n",
    "        # len(stack) == 0 + still have non-open char -> illegal close char\n",
    "        elif len(stack) == 0: \n",
    "            return False\n",
    "    if len(stack) != 0:\n",
    "        return False\n",
    "    return True"
   ]
  },
  {
   "cell_type": "markdown",
   "metadata": {},
   "source": [
    "### Medium"
   ]
  },
  {
   "cell_type": "markdown",
   "metadata": {},
   "source": [
    "[155. Min Stack](https://leetcode.com/problems/min-stack/)"
   ]
  },
  {
   "cell_type": "code",
   "execution_count": 63,
   "metadata": {},
   "outputs": [
    {
     "name": "stdout",
     "output_type": "stream",
     "text": [
      "Minimum element in the stack: 1\n"
     ]
    }
   ],
   "source": [
    "class MinStack:\n",
    "    #Create a another minstack next to normal stack that stores upto current min val\n",
    "    def __init__(self):\n",
    "        self.stack = []\n",
    "        self.minSt = []\n",
    "\n",
    "    def push(self, val: int) -> None:\n",
    "        self.stack.append(val)\n",
    "        #temp min\n",
    "        # Only consider minSt[-1] if minSt not EMPTY\n",
    "        self.minSt.append(min(val, self.minSt[-1] if self.minSt else val))\n",
    "\n",
    "\n",
    "    def pop(self) -> None:\n",
    "        #pop minSt always true because it pop the same as stack IF stack[i] is the min value at its temp time.\n",
    "        #else, it pop the temporary min\n",
    "        self.minSt.pop()\n",
    "        self.stack.pop()\n",
    "\n",
    "    def top(self) -> int:\n",
    "        return self.stack[-1]\n",
    "\n",
    "    def getMin(self) -> int:\n",
    "        return self.minSt[-1]\n",
    "\n",
    "\n",
    "min_stack = MinStack()\n",
    "\n",
    "# Push elements onto the stack\n",
    "min_stack.push(3)\n",
    "min_stack.push(1)\n",
    "\n",
    "# Get the current minimum element\n",
    "min_element = min_stack.getMin()\n",
    "print(f\"Minimum element in the stack: {min_element}\")  # Output: Minimum element in the stack: 1"
   ]
  },
  {
   "cell_type": "markdown",
   "metadata": {},
   "source": [
    "[150. Evaluate Reverse Polish Notation](https://leetcode.com/problems/evaluate-reverse-polish-notation/)"
   ]
  },
  {
   "cell_type": "markdown",
   "metadata": {},
   "source": [
    "This is postfix travel, utilize stack. Pop nums when encounter sign. Then push the result back to stack"
   ]
  },
  {
   "cell_type": "code",
   "execution_count": 64,
   "metadata": {},
   "outputs": [
    {
     "data": {
      "text/plain": [
       "6"
      ]
     },
     "execution_count": 64,
     "metadata": {},
     "output_type": "execute_result"
    }
   ],
   "source": [
    "import math\n",
    "def evalRPN(tokens: list[str]) -> int:\n",
    "    st = []\n",
    "    res = 0\n",
    "    for i in tokens:\n",
    "        ch = i\n",
    "        if ch == '+':\n",
    "            res = st.pop() + st.pop()\n",
    "        elif ch == '-':\n",
    "            #later digit on top, pop first\n",
    "            b,a = st.pop(), st.pop()\n",
    "            res = a - b\n",
    "        elif ch == '*':\n",
    "            res = st.pop() * st.pop()\n",
    "        elif ch == '/':\n",
    "            #cast to int\n",
    "            #e.g: -0.5 = 0, 8.9=8\n",
    "            b,a = st.pop(), st.pop()\n",
    "            res = int(a/b)\n",
    "        else: #if num\n",
    "            res = int(i)\n",
    "        st.append(res)\n",
    "    return st.pop()\n",
    "tokens = [\"4\",\"13\",\"5\",\"/\",\"+\"]\n",
    "evalRPN(tokens)\n",
    "\n"
   ]
  },
  {
   "cell_type": "markdown",
   "metadata": {},
   "source": [
    "[22. Generate Parentheses](https://leetcode.com/problems/generate-parentheses/)"
   ]
  },
  {
   "cell_type": "markdown",
   "metadata": {},
   "source": [
    "[Generate Parentheses - Stack - Leetcode 22](https://www.youtube.com/watch?v=s9fokUqJ76A&t=1s)\n",
    "\n",
    "<img src=\"assets/l22.png\" width=800px />"
   ]
  },
  {
   "cell_type": "code",
   "execution_count": 1,
   "metadata": {},
   "outputs": [
    {
     "data": {
      "text/plain": [
       "['((()))', '(()())', '(())()', '()(())', '()()()']"
      ]
     },
     "execution_count": 1,
     "metadata": {},
     "output_type": "execute_result"
    }
   ],
   "source": [
    "def generateParenthesis(n: int) -> list[str]:\n",
    "    out = []\n",
    "    comb = [] #each combination\n",
    "    #Learned recursion TREE with # of o and c parentheses from 0 to n\n",
    "    #add ( when open < n, add ) when close < open\n",
    "    \n",
    "    def backtrack(ocount, ccount):\n",
    "        #base case\n",
    "        if ocount == n and ccount == n:\n",
    "            out.append(\"\".join(comb))\n",
    "        \n",
    "        if ocount < n:\n",
    "            comb.append('(')\n",
    "            backtrack(ocount+1, ccount)\n",
    "            comb.pop()\n",
    "        if ccount < ocount: \n",
    "            comb.append(')')\n",
    "            backtrack(ocount, ccount+1)\n",
    "            comb.pop()\n",
    "\n",
    "    \n",
    "    backtrack(0,0)\n",
    "    return out\n",
    "n=3\n",
    "generateParenthesis(n)"
   ]
  },
  {
   "cell_type": "markdown",
   "metadata": {},
   "source": [
    "[739. Daily Temperatures](https://leetcode.com/problems/daily-temperatures/)"
   ]
  },
  {
   "cell_type": "code",
   "execution_count": 2,
   "metadata": {},
   "outputs": [],
   "source": [
    "def dailyTemperatures(temperatures: list[int]) -> list[int]:\n",
    "    \n",
    "    #Pattern reg: find nearest correlation -> stack.pop get the most recent val within the correlation.\n",
    "    #Add temps to stacks, only pop when found the nearest warm.\n",
    "    \n",
    "    st = [] #val:count stack\n",
    "    out = [0]*len(temperatures)\n",
    "    \n",
    "    for i,t in enumerate(temperatures):\n",
    "        while st and t > st[-1][0]: #st[-1][0] = temp at top node\n",
    "            stT,stIndex = st.pop()\n",
    "            out[stIndex] = i - stIndex            \n",
    "        st.append((t,i)) #i, t\n",
    "\n",
    "    return out"
   ]
  },
  {
   "cell_type": "markdown",
   "metadata": {},
   "source": [
    "## Binary trees"
   ]
  },
  {
   "cell_type": "markdown",
   "metadata": {},
   "source": [
    "[74. Search a 2D Matrix](https://leetcode.com/problems/search-a-2d-matrix/)"
   ]
  },
  {
   "cell_type": "markdown",
   "metadata": {},
   "source": [
    "Mid in 1d arr -> ro, co index"
   ]
  },
  {
   "cell_type": "code",
   "execution_count": 22,
   "metadata": {},
   "outputs": [
    {
     "name": "stdout",
     "output_type": "stream",
     "text": [
      "True\n"
     ]
    }
   ],
   "source": [
    "def searchMatrix(matrix: list[list[int]], target: int) -> bool:\n",
    "    m,n = len(matrix), len(matrix[0])\n",
    "    \n",
    "    i,j = 0, m*n-1\n",
    "    \n",
    "    while i<=j:\n",
    "        \n",
    "        mid = (i+j)//2\n",
    "        \n",
    "        ro , co = mid//n , mid % n \n",
    "        if matrix[ro][co] == target:\n",
    "            return True\n",
    "        if matrix[ro][co] < target:\n",
    "            \n",
    "            i = mid +1\n",
    "        else:\n",
    "            j = mid -1\n",
    "            \n",
    "    \n",
    "    return False\n",
    "        \n",
    "\n",
    "\n",
    "matrix = [[1,3,5,7],[10,11,16,20],[23,30,34,60]]\n",
    "target = 3\n",
    "print(searchMatrix(matrix, target))"
   ]
  },
  {
   "cell_type": "markdown",
   "metadata": {},
   "source": [
    "Convert 2d -> 1d and do easy bin search"
   ]
  },
  {
   "cell_type": "code",
   "execution_count": 7,
   "metadata": {},
   "outputs": [
    {
     "name": "stdout",
     "output_type": "stream",
     "text": [
      "True\n"
     ]
    }
   ],
   "source": [
    "def searchMatrix(matrix: list[list[int]], target: int) -> bool:\n",
    "    nums = [num for sublist in matrix for num in sublist]\n",
    "    mid = len(nums)//2\n",
    "    i,j= 0, len(nums)-1\n",
    "    while i<=j:\n",
    "        mid = (i+j)//2\n",
    "        if target == nums[mid]:\n",
    "            return True\n",
    "        if target > nums[mid]:\n",
    "            i = mid+1\n",
    "        else:\n",
    "            j = mid -1\n",
    "    return False\n",
    "\n",
    "matrix = [[1,3,5,7],[10,11,16,20],[23,30,34,60]]\n",
    "target = 3\n",
    "print(searchMatrix(matrix, target))"
   ]
  },
  {
   "cell_type": "markdown",
   "metadata": {},
   "source": [
    "[875. Koko Eating Bananas](https://leetcode.com/problems/koko-eating-bananas/)"
   ]
  },
  {
   "cell_type": "markdown",
   "metadata": {},
   "source": [
    "Lesson learned:\n",
    "- If it seems way too complicated, start with worst brute force\n",
    "- [0...k] search can always reduced to bin search"
   ]
  },
  {
   "cell_type": "code",
   "execution_count": 11,
   "metadata": {},
   "outputs": [
    {
     "data": {
      "text/plain": [
       "4"
      ]
     },
     "execution_count": 11,
     "metadata": {},
     "output_type": "execute_result"
    }
   ],
   "source": [
    "import math\n",
    "def minEatingSpeed(piles: list[int], h: int) -> int:\n",
    "    #h >= len(piles). Always. When h = len(piles), k = max(piles) (each hour, each pile)\n",
    "    #In general: 1 <= k < = max (piles) for all h\n",
    "    \n",
    "    i, j = 1, max(piles)\n",
    "    k = j\n",
    "\n",
    "    while i <= j:\n",
    "        mid = (i + j) // 2\n",
    "        totalTime = 0\n",
    "        \n",
    "        for p in piles:\n",
    "            totalTime += math.ceil(float(p) / mid)\n",
    "            \n",
    "        if totalTime <= h: #This means k is larger than should be that it eats fater than given hours\n",
    "            k = mid\n",
    "            j = mid - 1\n",
    "        else:\n",
    "            i = mid + 1\n",
    "    return k\n",
    "            \n",
    "piles = [3,6,7,11]\n",
    "h = 8\n",
    "minEatingSpeed(piles,h)\n"
   ]
  },
  {
   "cell_type": "markdown",
   "metadata": {},
   "source": [
    "## Sliding Window"
   ]
  },
  {
   "cell_type": "markdown",
   "metadata": {},
   "source": [
    "### Easy"
   ]
  },
  {
   "cell_type": "markdown",
   "metadata": {},
   "source": [
    "[121. Best Time to Buy and Sell Stock](https://leetcode.com/problems/best-time-to-buy-and-sell-stock/)"
   ]
  },
  {
   "cell_type": "code",
   "execution_count": 2,
   "metadata": {},
   "outputs": [],
   "source": [
    "def maxProfit(prices: list[int]) -> int:\n",
    "    buy = prices[0] #buy price\n",
    "    mx = 0 #max profit\n",
    "    for i in prices:\n",
    "        if i < buy: #update best buy price\n",
    "            b = i\n",
    "        elif i > buy and i - buy > mx: #update max profit\n",
    "            mx = i - buy\n",
    "    return mx"
   ]
  },
  {
   "cell_type": "markdown",
   "metadata": {},
   "source": [
    "### Medium"
   ]
  },
  {
   "cell_type": "markdown",
   "metadata": {},
   "source": [
    "[3. Longest Substring Without Repeating Characters](https://leetcode.com/problems/longest-substring-without-repeating-characters/)"
   ]
  },
  {
   "cell_type": "code",
   "execution_count": 3,
   "metadata": {},
   "outputs": [],
   "source": [
    "def lengthOfLongestSubstring(s: str) -> int:\n",
    "    l = 0 #left pointer\n",
    "    longest = 0\n",
    "    cset = set()\n",
    "    for r in range(len(s)):\n",
    "        while s[r] in cset:\n",
    "            cset.remove(s[l])\n",
    "            l+=1\n",
    "\n",
    "        cset.add(s[r])\n",
    "        longest = max(longest, r-l+1)\n",
    "    return longest"
   ]
  },
  {
   "cell_type": "markdown",
   "metadata": {},
   "source": [
    "[424. Longest Repeating Character Replacement](https://leetcode.com/problems/longest-repeating-character-replacement/)"
   ]
  },
  {
   "cell_type": "markdown",
   "metadata": {},
   "source": [
    "- approach is counterintuitive with no str manipulation\n",
    "- concerns only max occurencies of a char\n",
    "- concern subtraction equation \"len(window) - mx\" = nums of replaced-needed chars (RNC)\n",
    "\n",
    "        Universal mx instead of loop hashmap to get true mx\n",
    "    \n",
    "    \n",
    "- **mx** not always represent mx count in inside window, \n",
    "- mx: largest count so far thoughout history, not temp largest in countdict.\n",
    "\n",
    "- if true mx reduced, \n",
    "    - dont bother, wait until it raised and beat universal largest mx because universal mx results universal longest (return). (largest len(w) <-> largest mx)\n",
    "    - if true mx can't raised to beat universal mx, don't bother. Longest not updated, not what we return.\n",
    "    - \"while (r-l+1) - mx > k \"stays (false) with universal mx, which means \n",
    "        -  we don't care reducing windown with universal mx in hand, we ignore and expand window until finding char can beat universal mx, then \"while\" reducing later if necessary\n",
    "        \n",
    "        - reduce that way won't create error?... reducing later kindof thing? missing something?...\n",
    "\n",
    "    - **longest = max(longest, r - l+1)** longest won't bother to update, wait until mx raised, not mx reduced.\n"
   ]
  },
  {
   "cell_type": "code",
   "execution_count": null,
   "metadata": {},
   "outputs": [],
   "source": [
    "def characterReplacement(s: str, k: int) -> int:\n",
    "\n",
    "\n",
    "\n",
    "    l = 0\n",
    "    longest = 0\n",
    "    tk = k\n",
    "    temp = s[0]\n",
    "    mx = 0\n",
    "    count = defaultdict(int)\n",
    "    for r in range(len(s)):\n",
    "        #concurrencies of chars\n",
    "        count[s[r]] +=1\n",
    "        \n",
    "        #mxcount is updated max of all count[s[r]] so far\n",
    "        mx = max(count[s[r]], mx)\n",
    "\n",
    "        #removing leftmost char in window to ensure there's enough k to replace needed in w (reduce len(w) in \"len(w) - mx\")\n",
    "\n",
    "        #\"while\" instead of if because there's case leftmost char is maxcount char -> maxcount char reduced -> number of RNC (non-mxcount char) exceed k remains \n",
    "        #->invalid substr cannot move on (cannot add more char to the w already have too many RNC, must \"while\" keep reduce w)\n",
    "        #another logic using while: mx is not true mx of table, when temp mx < mx, window kept spreading \n",
    "        # -> reducing window once found next mx will REQUIRE multipleb remove\n",
    "        while (r-l+1) - mx > k:\n",
    "            count[s[l]]-=1\n",
    "            l+=1\n",
    "        longest = max(longest, r - l+1)\n",
    "    return longest"
   ]
  },
  {
   "cell_type": "markdown",
   "metadata": {},
   "source": [
    "[567. Permutation in String](https://leetcode.com/problems/permutation-in-string/)"
   ]
  },
  {
   "cell_type": "code",
   "execution_count": null,
   "metadata": {},
   "outputs": [],
   "source": []
  },
  {
   "cell_type": "markdown",
   "metadata": {},
   "source": [
    "## 2D Arrays"
   ]
  },
  {
   "cell_type": "markdown",
   "metadata": {},
   "source": [
    "## Hackerranks - learned to remember"
   ]
  },
  {
   "cell_type": "markdown",
   "metadata": {},
   "source": [
    "#### [Bitwise AND count pairs](https://www.geeksforgeeks.org/count-of-pairs-whose-bitwise-and-is-a-power-of-2/) xxxx dont understand"
   ]
  },
  {
   "cell_type": "markdown",
   "metadata": {},
   "source": [
    "Power of 2 (num) means: num and num&(a-1)==0"
   ]
  },
  {
   "cell_type": "code",
   "execution_count": 1,
   "metadata": {},
   "outputs": [
    {
     "name": "stdout",
     "output_type": "stream",
     "text": [
      "4\n"
     ]
    }
   ],
   "source": [
    "from collections import defaultdict\n",
    "def countPairs(arr: list[int], n: int) -> int:\n",
    "    # Initialize answer and maximum value in the array\n",
    "    ans, mx = 0, 0\n",
    "    # Create a defaultdict to store the frequency of each integer in the array\n",
    "    mp = defaultdict(int)\n",
    "    # Iterate through each integer in the array\n",
    "    for ai in arr:\n",
    "        # Update the frequency of each integer in the defaultdict\n",
    "        mp[ai] += 1\n",
    "        # Update the maximum value in the array\n",
    "        mx = max(mx, ai)\n",
    "    # Iterate through each integer i from 0 to mx\n",
    "    for i in range(mx+1):\n",
    "        # If i is not present in the defaultdict, skip to the next integer\n",
    "        if i not in mp:\n",
    "            continue\n",
    "        # Iterate through each integer j from i to mx\n",
    "        for j in range(i, mx+1):\n",
    "            # If j is not present in the defaultdict, skip to the next integer\n",
    "            if j not in mp:\n",
    "                continue\n",
    "            # Check if the bitwise AND of i and j has only one set bit\n",
    "            if bin(i & j).count('1') == 1:\n",
    "                # If i is equal to j, add the product of nCr(mp.get(i), 2) \n",
    "                # to the answer\n",
    "                if i == j:\n",
    "                    ans += (mp[i] * (mp[i]-1)) // 2\n",
    "                # If i is not equal to j, add the product of mp.get(i) \n",
    "                # and mp.get(j) to the answer\n",
    "                else:\n",
    "                    ans += mp[i] * mp[j]\n",
    "    # Return the answer\n",
    "    return ans\n",
    "arr = [6, 4, 2, 3]\n",
    "n = len(arr)\n",
    "print(countPairs(arr, n))"
   ]
  },
  {
   "cell_type": "markdown",
   "metadata": {},
   "source": [
    "#### [Largest Rectangle Area after drawing each boundary](https://leetcode.com/discuss/interview-question/1225894/largest-rectangle-area-after-drawing-each-boundary)"
   ]
  },
  {
   "cell_type": "markdown",
   "metadata": {},
   "source": [
    "Passed sample"
   ]
  },
  {
   "cell_type": "code",
   "execution_count": null,
   "metadata": {},
   "outputs": [
    {
     "name": "stdout",
     "output_type": "stream",
     "text": [
      "[12, 9]\n"
     ]
    }
   ],
   "source": [
    "import math\n",
    "\n",
    "class Node:\n",
    "    def __init__(self, parent, l, r, op=max):\n",
    "        self.parent = parent\n",
    "        self.l = l\n",
    "        self.r = r\n",
    "        self.lc = None\n",
    "        self.rc = None\n",
    "        self.val = r - l\n",
    "        self.op = op\n",
    "    \n",
    "    def split(self, x):\n",
    "        # No balancing, but doesn't seem to give timeouts.\n",
    "        assert self.l <= x <= self.r\n",
    "        if x == self.l or x == self.r:\n",
    "            # Split lies on borders.\n",
    "            return\n",
    "        if self.lc:\n",
    "            if x == self.lc.r:\n",
    "                # Split lies on mid split.\n",
    "                return\n",
    "            if x < self.lc.r:\n",
    "                self.lc.split(x)\n",
    "            else:\n",
    "                self.rc.split(x)\n",
    "            self.val = self.op(self.lc.val, self.rc.val)\n",
    "        else:\n",
    "            self.lc = Node(parent=self, l=self.l, r=x)\n",
    "            self.rc = Node(parent=self, l=x, r=self.r)\n",
    "            self.val = self.op(x - self.l, self.r - x)\n",
    "        \n",
    "def getMaxArea(w, h, isVertical, distance):\n",
    "    w_root = Node(parent=None, l=0, r=w)\n",
    "    h_root = Node(parent=None, l=0, r=h)\n",
    "    ans = []\n",
    "    for iv, d in zip(isVertical, distance):\n",
    "        if iv:\n",
    "            w_root.split(d)\n",
    "        else:\n",
    "            h_root.split(d)\n",
    "        ans.append(w_root.val * h_root.val)\n",
    "    return ans\n",
    "    \n",
    "\n",
    "w = 4\n",
    "h = 4\n",
    "isVertical = [0,1]\n",
    "distance = [3,1]\n",
    "print(getMaxArea(w,h,isVertical,distance))\n"
   ]
  },
  {
   "cell_type": "markdown",
   "metadata": {},
   "source": [
    "Below passed 11/15 tests, passed cert"
   ]
  },
  {
   "cell_type": "code",
   "execution_count": null,
   "metadata": {},
   "outputs": [],
   "source": [
    "def getMaxArea(w, h, isVertical, distance):\n",
    "    # Write your code here\n",
    "    def insort(test_list, k):\n",
    "        for i in range(len(test_list)):\n",
    "            if test_list[i] > k:\n",
    "                break\n",
    "        return test_list[:i] + [k] + test_list[i:]\n",
    "        \n",
    "    maxy = 0\n",
    "    wline = [0,w]\n",
    "    hline = [0,h]\n",
    "    res = []\n",
    "    for i in range(len(isVertical)):\n",
    "        if isVertical[i]:\n",
    "            wline = insort(wline, distance[i])\n",
    "        else:\n",
    "            hline = insort(hline, distance[i])\n",
    "        wmax = 0\n",
    "        hmax = 0\n",
    "        for i in range(1,len(wline)):\n",
    "            if wline[i] - wline[i-1] > wmax:\n",
    "                wmax = wline[i] - wline[i-1]\n",
    "        for i in range(1,len(hline)):\n",
    "            if hline[i] - hline[i-1] > hmax:\n",
    "                hmax = hline[i] - hline[i-1]\n",
    "     \n",
    "        res.append(hmax * wmax)\n",
    "    return res\n"
   ]
  },
  {
   "cell_type": "markdown",
   "metadata": {},
   "source": [
    "#### Road Repairs"
   ]
  },
  {
   "cell_type": "code",
   "execution_count": 7,
   "metadata": {},
   "outputs": [
    {
     "name": "stdout",
     "output_type": "stream",
     "text": [
      "16\n"
     ]
    }
   ],
   "source": [
    "\n",
    "#(5-9, 3-3, 1-1, 4-15, 6-8)\n",
    "def getMinCost(crew_id, job_id):\n",
    "    crew_id.sort()\n",
    "    job_id.sort()\n",
    "    cost = 0\n",
    "    for i in range(len(crew_id)):\n",
    "        cost += abs(job_id[i] - crew_id[i])\n",
    "    return cost\n",
    "\n",
    "crewId = [4,5,1,4,2]\n",
    "jobId = [4,4,5,9,10] \n",
    "print(getMinCost(crewId, jobId))"
   ]
  },
  {
   "cell_type": "markdown",
   "metadata": {},
   "source": [
    "**need to be solved**\n",
    "\n",
    "#### [Total number of triangles formed when there are H horizontal and V vertical lines](https://www.geeksforgeeks.org/total-number-of-triangles-formed-when-there-are-h-horizontal-and-v-vertical-lines/)\n",
    "[Largest area possible after removal of a series of horizontal & vertical bars](https://www.geeksforgeeks.org/largest-area-possible-after-removal-of-a-series-of-horizontal-vertical-bars/)\n",
    "\n",
    "[Count number of triangles cut by the given horizontal and vertical line segments](https://www.geeksforgeeks.org/count-number-of-triangles-cut-by-the-given-horizontal-and-vertical-line-segments/)\n"
   ]
  },
  {
   "cell_type": "markdown",
   "metadata": {},
   "source": [
    "#### [1465. Maximum Area of a Piece of Cake After Horizontal and Vertical Cuts](https://leetcode.com/problems/maximum-area-of-a-piece-of-cake-after-horizontal-and-vertical-cuts/)"
   ]
  },
  {
   "cell_type": "code",
   "execution_count": null,
   "metadata": {},
   "outputs": [],
   "source": []
  }
 ],
 "metadata": {
  "kernelspec": {
   "display_name": "base",
   "language": "python",
   "name": "python3"
  },
  "language_info": {
   "codemirror_mode": {
    "name": "ipython",
    "version": 3
   },
   "file_extension": ".py",
   "mimetype": "text/x-python",
   "name": "python",
   "nbconvert_exporter": "python",
   "pygments_lexer": "ipython3",
   "version": "3.11.3"
  }
 },
 "nbformat": 4,
 "nbformat_minor": 2
}
