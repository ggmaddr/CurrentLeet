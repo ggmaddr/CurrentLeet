{
 "cells": [
  {
   "cell_type": "markdown",
   "metadata": {},
   "source": [
    "### Binary Tree"
   ]
  },
  {
   "cell_type": "code",
   "execution_count": 36,
   "metadata": {},
   "outputs": [],
   "source": [
    "#This DFS set up gives us the accesss to each node's l,r each iter\n",
    "\n",
    "def dfs(root):\n",
    "    if not root:\n",
    "        return 0\n",
    "    #get l, r depth\n",
    "    l = dfs(root.left)\n",
    "    r = dfs(root.right)\n",
    "    \n",
    "    #Code needs to use l, r\n",
    "    \n",
    "    return 1 + max(l,r)"
   ]
  },
  {
   "cell_type": "markdown",
   "metadata": {},
   "source": [
    "### Stack"
   ]
  },
  {
   "cell_type": "markdown",
   "metadata": {},
   "source": [
    "#### Deque stack"
   ]
  },
  {
   "cell_type": "markdown",
   "metadata": {},
   "source": [
    "### Dictionary"
   ]
  },
  {
   "cell_type": "markdown",
   "metadata": {},
   "source": [
    "#### LIFO (stack) and FIFO (queue) dict - Ordered dict"
   ]
  },
  {
   "cell_type": "code",
   "execution_count": 28,
   "metadata": {},
   "outputs": [
    {
     "name": "stdout",
     "output_type": "stream",
     "text": [
      "('dog', 1)\n",
      "('kiwi', 4)\n",
      "apple\n",
      "cat\n",
      "dog\n"
     ]
    }
   ],
   "source": [
    "from collections import OrderedDict\n",
    "#LIFO\n",
    "my_dict = {'kiwi': 4, 'apple': 5, 'cat': 3, \"dog\": 1}\n",
    "\n",
    "lf = my_dict.popitem()\n",
    "print(lf)\n",
    "\n",
    "#FIFO - OrderedDict\n",
    "my_dict = {'kiwi': 4, 'apple': 5, 'cat': 3, \"dog\": 1}\n",
    "ordered_dict = OrderedDict(my_dict)\n",
    "ff = ordered_dict.popitem(last = False)\n",
    "print(ff)\n",
    "\n",
    "ordered_dict.move_to_end('apple')\n",
    "ordered_dict.move_to_end('dog', False)\n",
    "for i in reversed(ordered_dict):\n",
    "    print(i)"
   ]
  },
  {
   "cell_type": "markdown",
   "metadata": {},
   "source": [
    "#### defaultdict"
   ]
  },
  {
   "cell_type": "code",
   "execution_count": 4,
   "metadata": {},
   "outputs": [
    {
     "data": {
      "text/plain": [
       "defaultdict(int, {1: 3, 2: 3, 3: 2, 4: 1, 5: 1})"
      ]
     },
     "metadata": {},
     "output_type": "display_data"
    },
    {
     "data": {
      "text/plain": [
       "defaultdict(int, {'1': 3, '2': 3, '3': 2, '4': 1, '5': 1})"
      ]
     },
     "execution_count": 4,
     "metadata": {},
     "output_type": "execute_result"
    }
   ],
   "source": [
    "from collections import defaultdict\n",
    "mylist = [1,2,3,2,1,3,4,5,1,2]\n",
    "\n",
    "counter = defaultdict(int) #passed in default type. Default val for type 'int' is 0\n",
    "counter_s = defaultdict(int) #passed in default type. Default val for type 'int' is 0\n",
    "\n",
    "for e in mylist:\n",
    "    counter[e] += 1\n",
    "    counter_s[str(e)] += 1 \n",
    "\n",
    "display(counter)\n",
    "counter_s"
   ]
  },
  {
   "cell_type": "code",
   "execution_count": 6,
   "metadata": {},
   "outputs": [
    {
     "data": {
      "text/plain": [
       "defaultdict(list,\n",
       "            {'a': ['apple', 'avocado'],\n",
       "             'b': ['banana', 'brocoli'],\n",
       "             'c': ['carror'],\n",
       "             'o': ['orange']})"
      ]
     },
     "metadata": {},
     "output_type": "display_data"
    }
   ],
   "source": [
    "words = [\"apple\", \"banana\", \"carror\", \"avocado\", \"brocoli\", \"orange\"]\n",
    "grouped_words = defaultdict(list)\n",
    "\n",
    "for word in words:\n",
    "    grouped_words[word[0]].append(word)\n",
    "display(grouped_words)"
   ]
  },
  {
   "cell_type": "code",
   "execution_count": 35,
   "metadata": {},
   "outputs": [
    {
     "data": {
      "text/plain": [
       "defaultdict(list, {'A': [10, 5], 'B': [4, 1], 'C': [7]})"
      ]
     },
     "metadata": {},
     "output_type": "display_data"
    },
    {
     "data": {
      "text/plain": [
       "{'A': 15, 'B': 5, 'C': 7}"
      ]
     },
     "execution_count": 35,
     "metadata": {},
     "output_type": "execute_result"
    }
   ],
   "source": [
    "tuple_list = [(\"A\", 10), (\"B\", 4), (\"C\", 7),(\"A\", 5), (\"B\", 1)]\n",
    "\n",
    "gr_data = defaultdict(list)\n",
    "\n",
    "{gr_data[k].append(v) for k,v in tuple_list} #a comprehension without assigning to any var\n",
    "display(gr_data)\n",
    "\n",
    "gr_data = {k:sum(v) for k, v in gr_data.items()}\n",
    "gr_data"
   ]
  },
  {
   "cell_type": "markdown",
   "metadata": {},
   "source": [
    "### Syntax tips"
   ]
  },
  {
   "cell_type": "markdown",
   "metadata": {},
   "source": [
    "### Counter"
   ]
  },
  {
   "cell_type": "code",
   "execution_count": 10,
   "metadata": {},
   "outputs": [
    {
     "data": {
      "text/plain": [
       "[('blue', 3), ('red', 2)]"
      ]
     },
     "execution_count": 10,
     "metadata": {},
     "output_type": "execute_result"
    }
   ],
   "source": [
    "from collections import Counter\n",
    "cnt = Counter(['red', 'blue', 'red', 'green', 'blue', 'blue'])\n",
    "\n",
    "cnt.most_common(2)\n"
   ]
  },
  {
   "cell_type": "markdown",
   "metadata": {},
   "source": [
    "[Most_commont(k)](https://leetcode.com/problems/top-k-frequent-elements/submissions/962257387/)"
   ]
  },
  {
   "cell_type": "code",
   "execution_count": null,
   "metadata": {},
   "outputs": [],
   "source": [
    "def topKFrequent(nums: list[int], k: int) -> list[int]:\n",
    "    return [x[0] for x in Counter(nums).most_common(k)]             "
   ]
  },
  {
   "cell_type": "markdown",
   "metadata": {},
   "source": [
    "#### Conditinonal inside argument passed to min"
   ]
  },
  {
   "cell_type": "code",
   "execution_count": null,
   "metadata": {},
   "outputs": [],
   "source": [
    "# Min of val and minSt[-1], but only consider minSt[-1] if minSt not EMPTY\n",
    "val, minSt = 0,1\n",
    "min = min(val, minSt[-1] if minSt else val)"
   ]
  },
  {
   "cell_type": "markdown",
   "metadata": {},
   "source": [
    "#### Truncate floats: '%.f'%(num)"
   ]
  },
  {
   "cell_type": "code",
   "execution_count": 5,
   "metadata": {},
   "outputs": [
    {
     "name": "stdout",
     "output_type": "stream",
     "text": [
      "-1\n",
      "-1.0\n",
      "-0.8888888888888888\n",
      "0\n",
      "-1\n"
     ]
    }
   ],
   "source": [
    "import math\n",
    "#use truncate instead of // or round to integer, not just \"round down\"\n",
    "#e.g: -0.5 = 0, 8.9=8\n",
    "\n",
    "print('%.0f'%(8/-9) )\n",
    "print(round(8/-9, 0) )\n",
    "print((8/-9))\n",
    "print(math.ceil(8/-9))\n",
    "print(math.floor(8/-9))"
   ]
  },
  {
   "cell_type": "markdown",
   "metadata": {},
   "source": [
    "#### Join list to a string: \"\".join(list)"
   ]
  },
  {
   "cell_type": "code",
   "execution_count": 6,
   "metadata": {},
   "outputs": [
    {
     "data": {
      "text/plain": [
       "['lemytestlegs']"
      ]
     },
     "metadata": {},
     "output_type": "display_data"
    }
   ],
   "source": [
    "comb=['le','my','test', 'legs']\n",
    "out = []\n",
    "#from \n",
    "out.append(\"\".join(comb))\n",
    "display(out)"
   ]
  },
  {
   "cell_type": "markdown",
   "metadata": {},
   "source": [
    "#### Enumberate list to get val, index"
   ]
  },
  {
   "cell_type": "code",
   "execution_count": 2,
   "metadata": {},
   "outputs": [
    {
     "name": "stdout",
     "output_type": "stream",
     "text": [
      "0 1\n",
      "1 4\n",
      "2 5\n",
      "3 6\n",
      "4 7\n",
      "<enumerate object at 0x10449dcb0>\n"
     ]
    }
   ],
   "source": [
    "test_list = [1, 4, 5, 6, 7]\n",
    "\n",
    "for index, value in enumerate(test_list):\n",
    "    print(index, value)\n",
    "\n",
    "print(enumerate(test_list))\n"
   ]
  },
  {
   "cell_type": "markdown",
   "metadata": {},
   "source": [
    "#### Check if a number is an integer in Python"
   ]
  },
  {
   "cell_type": "markdown",
   "metadata": {},
   "source": [
    "**isinstance** Check a value type "
   ]
  },
  {
   "cell_type": "code",
   "execution_count": 3,
   "metadata": {},
   "outputs": [
    {
     "name": "stdout",
     "output_type": "stream",
     "text": [
      "True\n",
      "True\n"
     ]
    }
   ],
   "source": [
    "print(isinstance(100, int))\n",
    "print(isinstance(1.1, float))"
   ]
  },
  {
   "cell_type": "markdown",
   "metadata": {},
   "source": [
    "**float.is_intger()** only works with float, not int and str\n"
   ]
  },
  {
   "cell_type": "code",
   "execution_count": 7,
   "metadata": {},
   "outputs": [
    {
     "name": "stdout",
     "output_type": "stream",
     "text": [
      "False\n",
      "True\n"
     ]
    }
   ],
   "source": [
    "f = 1.23\n",
    "print(f.is_integer())\n",
    "# False\n",
    "f_i = 100.0\n",
    "print(f_i.is_integer())\n",
    "# True"
   ]
  },
  {
   "cell_type": "markdown",
   "metadata": {},
   "source": [
    "**Numeric string** is an integer (or int of a float)"
   ]
  },
  {
   "cell_type": "code",
   "execution_count": 8,
   "metadata": {},
   "outputs": [
    {
     "name": "stdout",
     "output_type": "stream",
     "text": [
      "True\n",
      "True\n",
      "False\n"
     ]
    }
   ],
   "source": [
    "def is_integer(n):\n",
    "    try:\n",
    "        float(n) #or int(n)\n",
    "    except ValueError:\n",
    "        return False\n",
    "    else:\n",
    "        return float(n).is_integer()\n",
    "print(is_integer('100'))\n",
    "# True\n",
    "\n",
    "print(is_integer('100.0'))\n",
    "# True\n",
    "\n",
    "print(is_integer('1.23'))\n",
    "# False"
   ]
  },
  {
   "cell_type": "code",
   "execution_count": null,
   "metadata": {},
   "outputs": [],
   "source": []
  },
  {
   "cell_type": "markdown",
   "metadata": {},
   "source": [
    "#### Get index of value in list/strings "
   ]
  },
  {
   "cell_type": "code",
   "execution_count": 3,
   "metadata": {},
   "outputs": [
    {
     "name": "stdout",
     "output_type": "stream",
     "text": [
      "19\n",
      "15\n",
      "17\n"
     ]
    }
   ],
   "source": [
    "sentence = 'Python programming is fun.'\n",
    "\n",
    "result = sentence.index('is fun')\n",
    "print(result) \n",
    "# Substring is searched in 'gramming is fun.'\n",
    "print(sentence.index('ing', 10))\n",
    "\n",
    "# Substring is searched in 'gramming is '\n",
    "print(sentence.index('g is', 10, -4))\n"
   ]
  },
  {
   "cell_type": "markdown",
   "metadata": {},
   "source": [
    "#### Function in class \"__str__\" example in ListNode class"
   ]
  },
  {
   "cell_type": "code",
   "execution_count": 17,
   "metadata": {},
   "outputs": [
    {
     "name": "stdout",
     "output_type": "stream",
     "text": [
      "5, 4, 3, 2, 1, None\n"
     ]
    }
   ],
   "source": [
    "from typing import Optional\n",
    "\n",
    "class ListNode:\n",
    "    def __init__(self, val=0, next=None):\n",
    "        self.val = val\n",
    "        self.next = next\n",
    "    def __str__(self):\n",
    "        s = \"(\"+ str(self.val) + \") => \"\n",
    "        tm = self.next\n",
    "        while tm:\n",
    "            s += str(tm.val) + \" -> \"\n",
    "            tm = tm.next\n",
    "        return s\n",
    "    def __repr__(self):\n",
    "        s = \"(\"+ str(self.val) + \") => \"\n",
    "        tm = self.next\n",
    "        while tm:\n",
    "            s += str(tm.val) + \" -> \"\n",
    "            tm = tm.next\n",
    "        return s\n",
    "            \n",
    "def print_linked_list(head: Optional[ListNode]) -> None:\n",
    "    while head:\n",
    "        print(head.val, end=\", \")\n",
    "        head = head.next\n",
    "    print(\"None\")\n",
    "\n",
    "def create_linked_list(values):\n",
    "    if not values:\n",
    "        return None\n",
    "    head = ListNode(values[0])\n",
    "    current = head\n",
    "    for val in values[1:]:\n",
    "        current.next = ListNode(val)\n",
    "        current = current.next\n",
    "    return head\n",
    "\n",
    "\n",
    "\n",
    "# Test Case: Reverse [1,2,3,4,5]\n",
    "original_list = create_linked_list([1, 2, 3, 4, 5])\n",
    "reversed_list = reverseList(original_list)\n",
    "print_linked_list(reversed_list)"
   ]
  },
  {
   "cell_type": "markdown",
   "metadata": {},
   "source": []
  }
 ],
 "metadata": {
  "kernelspec": {
   "display_name": "base",
   "language": "python",
   "name": "python3"
  },
  "language_info": {
   "codemirror_mode": {
    "name": "ipython",
    "version": 3
   },
   "file_extension": ".py",
   "mimetype": "text/x-python",
   "name": "python",
   "nbconvert_exporter": "python",
   "pygments_lexer": "ipython3",
   "version": "3.11.3"
  }
 },
 "nbformat": 4,
 "nbformat_minor": 2
}
