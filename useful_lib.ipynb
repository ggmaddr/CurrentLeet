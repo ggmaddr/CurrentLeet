{
 "cells": [
  {
   "cell_type": "markdown",
   "metadata": {},
   "source": [
    "### defaultdict"
   ]
  },
  {
   "cell_type": "code",
   "execution_count": 4,
   "metadata": {},
   "outputs": [
    {
     "data": {
      "text/plain": [
       "defaultdict(int, {1: 3, 2: 3, 3: 2, 4: 1, 5: 1})"
      ]
     },
     "metadata": {},
     "output_type": "display_data"
    },
    {
     "data": {
      "text/plain": [
       "defaultdict(int, {'1': 3, '2': 3, '3': 2, '4': 1, '5': 1})"
      ]
     },
     "execution_count": 4,
     "metadata": {},
     "output_type": "execute_result"
    }
   ],
   "source": [
    "from collections import defaultdict\n",
    "mylist = [1,2,3,2,1,3,4,5,1,2]\n",
    "\n",
    "counter = defaultdict(int) #passed in default type. Default val for type 'int' is 0\n",
    "counter_s = defaultdict(int) #passed in default type. Default val for type 'int' is 0\n",
    "\n",
    "for e in mylist:\n",
    "    counter[e] += 1\n",
    "    counter_s[str(e)] += 1 \n",
    "\n",
    "display(counter)\n",
    "counter_s"
   ]
  },
  {
   "cell_type": "code",
   "execution_count": 6,
   "metadata": {},
   "outputs": [
    {
     "data": {
      "text/plain": [
       "defaultdict(list,\n",
       "            {'a': ['apple', 'avocado'],\n",
       "             'b': ['banana', 'brocoli'],\n",
       "             'c': ['carror'],\n",
       "             'o': ['orange']})"
      ]
     },
     "metadata": {},
     "output_type": "display_data"
    }
   ],
   "source": [
    "words = [\"apple\", \"banana\", \"carror\", \"avocado\", \"brocoli\", \"orange\"]\n",
    "grouped_words = defaultdict(list)\n",
    "\n",
    "for word in words:\n",
    "    grouped_words[word[0]].append(word)\n",
    "display(grouped_words)"
   ]
  },
  {
   "cell_type": "code",
   "execution_count": 35,
   "metadata": {},
   "outputs": [
    {
     "data": {
      "text/plain": [
       "defaultdict(list, {'A': [10, 5], 'B': [4, 1], 'C': [7]})"
      ]
     },
     "metadata": {},
     "output_type": "display_data"
    },
    {
     "data": {
      "text/plain": [
       "{'A': 15, 'B': 5, 'C': 7}"
      ]
     },
     "execution_count": 35,
     "metadata": {},
     "output_type": "execute_result"
    }
   ],
   "source": [
    "tuple_list = [(\"A\", 10), (\"B\", 4), (\"C\", 7),(\"A\", 5), (\"B\", 1)]\n",
    "\n",
    "gr_data = defaultdict(list)\n",
    "\n",
    "{gr_data[k].append(v) for k,v in tuple_list} #a comprehension without assigning to any var\n",
    "display(gr_data)\n",
    "\n",
    "gr_data = {k:sum(v) for k, v in gr_data.items()}\n",
    "gr_data"
   ]
  }
 ],
 "metadata": {
  "kernelspec": {
   "display_name": "base",
   "language": "python",
   "name": "python3"
  },
  "language_info": {
   "codemirror_mode": {
    "name": "ipython",
    "version": 3
   },
   "file_extension": ".py",
   "mimetype": "text/x-python",
   "name": "python",
   "nbconvert_exporter": "python",
   "pygments_lexer": "ipython3",
   "version": "3.11.3"
  }
 },
 "nbformat": 4,
 "nbformat_minor": 2
}
